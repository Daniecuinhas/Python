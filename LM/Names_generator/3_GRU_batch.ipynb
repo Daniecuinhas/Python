{
 "cells": [
  {
   "cell_type": "code",
   "execution_count": 0,
   "metadata": {
    "colab": {},
    "colab_type": "code",
    "id": "z4Ijc7SvyOyZ"
   },
   "outputs": [],
   "source": [
    "from io import open\n",
    "import glob\n",
    "import os\n",
    "import unicodedata\n",
    "import string\n",
    "import pandas as pd\n",
    "import numpy as np\n",
    "\n",
    "all_letters = string.ascii_letters + \" .,;'-\"\n",
    "n_letters = len(all_letters) + 1 # Plus EOS marker\n",
    "\n",
    "def findFiles(path):\n",
    "   return glob.glob(path)"
   ]
  },
  {
   "cell_type": "code",
   "execution_count": 0,
   "metadata": {
    "colab": {},
    "colab_type": "code",
    "id": "mpEQnG2oyWK0"
   },
   "outputs": [],
   "source": [
    "# Turn a Unicode string to plain ASCII, thanks to https://stackoverflow.com/a/518232/2809427\n",
    "def unicodeToAscii(s):\n",
    "    return ''.join(\n",
    "        c for c in unicodedata.normalize('NFD', s)\n",
    "        if unicodedata.category(c) != 'Mn'\n",
    "        and c in all_letters\n",
    "    )\n",
    "\n",
    "# Read a file and split into lines\n",
    "def readLines(filename):\n",
    "    lines = open(filename, encoding='utf-8').read().strip().split('\\n')\n",
    "    return [unicodeToAscii(line) for line in lines]"
   ]
  },
  {
   "cell_type": "code",
   "execution_count": 0,
   "metadata": {
    "colab": {},
    "colab_type": "code",
    "id": "VoloKNCtyX81"
   },
   "outputs": [],
   "source": [
    "# Build the category_lines dictionary, a list of lines per category\n",
    "category_lines = []\n",
    "all_categories = []\n",
    "for filename in findFiles('data/names/*.txt'):\n",
    "    category = os.path.splitext(os.path.basename(filename))[0]\n",
    "    all_categories.append(category)\n",
    "    lines = readLines(filename)\n",
    "    category_line = [category] * len(lines)\n",
    "    category_lines.extend(list(zip(category_line, lines)))\n",
    "\n",
    "n_categories = len(all_categories)\n"
   ]
  },
  {
   "cell_type": "code",
   "execution_count": 0,
   "metadata": {
    "colab": {},
    "colab_type": "code",
    "id": "o_MQcFOo3ot0"
   },
   "outputs": [],
   "source": [
    "all_categories = {v:k for k,v in enumerate(all_categories)}"
   ]
  },
  {
   "cell_type": "code",
   "execution_count": 0,
   "metadata": {
    "colab": {},
    "colab_type": "code",
    "id": "UzrYjqm28Ifn"
   },
   "outputs": [],
   "source": [
    "# One-hot vector for category\n",
    "def categoryArray(cat):\n",
    "    arr = np.zeros(n_categories)\n",
    "    arr[cat] = 1\n",
    "    return arr"
   ]
  },
  {
   "cell_type": "code",
   "execution_count": 7,
   "metadata": {
    "colab": {
     "base_uri": "https://localhost:8080/",
     "height": 71
    },
    "colab_type": "code",
    "executionInfo": {
     "elapsed": 9866,
     "status": "ok",
     "timestamp": 1591637147379,
     "user": {
      "displayName": "Daniel Cuiñas Vázquez",
      "photoUrl": "",
      "userId": "11552885780691803973"
     },
     "user_tz": -120
    },
    "id": "Sn5UkT3YyZsf",
    "outputId": "67401914-3dd8-4611-9f88-75758d389daa"
   },
   "outputs": [
    {
     "name": "stdout",
     "output_type": "stream",
     "text": [
      "# categories: 18 {'Czech': 0, 'English': 1, 'Scottish': 2, 'Italian': 3, 'Polish': 4, 'Greek': 5, 'Dutch': 6, 'German': 7, 'Japanese': 8, 'Korean': 9, 'Arabic': 10, 'Portuguese': 11, 'Russian': 12, 'Vietnamese': 13, 'Irish': 14, 'Spanish': 15, 'French': 16, 'Chinese': 17}\n",
      "O'Neal\n"
     ]
    }
   ],
   "source": [
    "print('# categories:', n_categories, all_categories)\n",
    "print(unicodeToAscii(\"O'Néàl\"))"
   ]
  },
  {
   "cell_type": "code",
   "execution_count": 0,
   "metadata": {
    "colab": {},
    "colab_type": "code",
    "id": "lT13EXvtydJb"
   },
   "outputs": [],
   "source": [
    "df = pd.DataFrame(category_lines, columns=['category_','name'])\n",
    "df['len'] = df['name'].apply(lambda s: len(s))\n",
    "df['category'] = df['category_'].apply(lambda c: all_categories[c])\n",
    "df['category'] = df['category'].apply(lambda c: categoryArray(c))"
   ]
  },
  {
   "cell_type": "code",
   "execution_count": 0,
   "metadata": {
    "colab": {},
    "colab_type": "code",
    "id": "0eN43FsK8WyW"
   },
   "outputs": [],
   "source": [
    "df = df.sample(n=len(df))"
   ]
  },
  {
   "cell_type": "code",
   "execution_count": 10,
   "metadata": {
    "colab": {
     "base_uri": "https://localhost:8080/",
     "height": 34
    },
    "colab_type": "code",
    "executionInfo": {
     "elapsed": 8387,
     "status": "ok",
     "timestamp": 1591637147383,
     "user": {
      "displayName": "Daniel Cuiñas Vázquez",
      "photoUrl": "",
      "userId": "11552885780691803973"
     },
     "user_tz": -120
    },
    "id": "TeWTaUiW123n",
    "outputId": "010c5560-704b-4e54-e35f-9e13ebe6e779"
   },
   "outputs": [
    {
     "name": "stdout",
     "output_type": "stream",
     "text": [
      "20\n"
     ]
    }
   ],
   "source": [
    "max_len = df.len.max()\n",
    "print(max_len)"
   ]
  },
  {
   "cell_type": "code",
   "execution_count": 0,
   "metadata": {
    "colab": {},
    "colab_type": "code",
    "id": "nx-CwryOy1FZ"
   },
   "outputs": [],
   "source": [
    "lista_completa = df[['category','name']].values"
   ]
  },
  {
   "cell_type": "code",
   "execution_count": 0,
   "metadata": {
    "colab": {},
    "colab_type": "code",
    "id": "05Z0w0T00I8_"
   },
   "outputs": [],
   "source": [
    "import itertools\n",
    "from collections import Counter\n",
    "\n",
    "cosa = list(itertools.chain(lista_completa[:,1]))\n",
    "cosa_word = sorted(list(set(list(itertools.chain.from_iterable(cosa)))))"
   ]
  },
  {
   "cell_type": "code",
   "execution_count": 13,
   "metadata": {
    "colab": {
     "base_uri": "https://localhost:8080/",
     "height": 34
    },
    "colab_type": "code",
    "executionInfo": {
     "elapsed": 446,
     "status": "ok",
     "timestamp": 1591637157504,
     "user": {
      "displayName": "Daniel Cuiñas Vázquez",
      "photoUrl": "",
      "userId": "11552885780691803973"
     },
     "user_tz": -120
    },
    "id": "YS5ZaKcc0Oqo",
    "outputId": "7129baee-f95f-4b59-f4a0-ef9960b58d59"
   },
   "outputs": [
    {
     "name": "stdout",
     "output_type": "stream",
     "text": [
      "59\n"
     ]
    }
   ],
   "source": [
    "dict_words = {}\n",
    "dict_words['[UNK]'] = 0\n",
    "dict_words['[EOS]'] = 1\n",
    "dict_words['[PAD]'] = 2\n",
    "dict_words.update({v:k for k,v in enumerate(cosa_word,3)})\n",
    "int_2_vocab = {v:k for k,v in dict_words.items()}\n",
    "n_words = len(dict_words)\n",
    "print(n_words)"
   ]
  },
  {
   "cell_type": "code",
   "execution_count": 0,
   "metadata": {
    "colab": {},
    "colab_type": "code",
    "id": "7PrmN70w0OtC"
   },
   "outputs": [],
   "source": [
    "cosa = [[dict_words.get(j,0) for j in d] + [dict_words['[EOS]']] for d in lista_completa[:,1]]"
   ]
  },
  {
   "cell_type": "code",
   "execution_count": 0,
   "metadata": {
    "colab": {},
    "colab_type": "code",
    "id": "KKiu5mPr1Qqq"
   },
   "outputs": [],
   "source": [
    "# ''.join([int_2_vocab[i] for i in cosa[0]])"
   ]
  },
  {
   "cell_type": "code",
   "execution_count": 0,
   "metadata": {
    "colab": {},
    "colab_type": "code",
    "id": "a3hgV0_C04-G"
   },
   "outputs": [],
   "source": [
    "def pad_features(reviews_ints, seq_length):\n",
    "    ''' Return features of review_ints, where each review is padded with 0's \n",
    "        or truncated to the input seq_length.\n",
    "    '''\n",
    "    \n",
    "    # getting the correct rows x cols shape\n",
    "    features = dict_words['[PAD]']*np.ones((len(reviews_ints), seq_length), dtype=int)\n",
    "\n",
    "    # for each review, I grab that review and \n",
    "    for i, row in enumerate(reviews_ints):\n",
    "        features[i, :len(row)] = np.array(row)[:seq_length]\n",
    "    \n",
    "    return features"
   ]
  },
  {
   "cell_type": "code",
   "execution_count": 0,
   "metadata": {
    "colab": {},
    "colab_type": "code",
    "id": "qElDHg5L09vY"
   },
   "outputs": [],
   "source": [
    "features = pad_features(cosa, max_len + 1)"
   ]
  },
  {
   "cell_type": "code",
   "execution_count": 18,
   "metadata": {
    "colab": {
     "base_uri": "https://localhost:8080/",
     "height": 34
    },
    "colab_type": "code",
    "executionInfo": {
     "elapsed": 616,
     "status": "ok",
     "timestamp": 1591637162193,
     "user": {
      "displayName": "Daniel Cuiñas Vázquez",
      "photoUrl": "",
      "userId": "11552885780691803973"
     },
     "user_tz": -120
    },
    "id": "k6B2SAQQ1--D",
    "outputId": "01902d06-5b09-4ccb-9fea-32640329489e"
   },
   "outputs": [
    {
     "data": {
      "text/plain": [
       "'Dagher[EOS][PAD][PAD][PAD][PAD][PAD][PAD][PAD][PAD][PAD][PAD][PAD][PAD][PAD][PAD]'"
      ]
     },
     "execution_count": 18,
     "metadata": {
      "tags": []
     },
     "output_type": "execute_result"
    }
   ],
   "source": [
    "''.join([int_2_vocab[i] for i in features[0]])"
   ]
  },
  {
   "cell_type": "code",
   "execution_count": 0,
   "metadata": {
    "colab": {},
    "colab_type": "code",
    "id": "4-RSCNYa4fEv"
   },
   "outputs": [],
   "source": [
    "category_features = lista_completa[:,0]\n",
    "category_features = np.expand_dims(category_features, axis=0).transpose(1,0)"
   ]
  },
  {
   "cell_type": "code",
   "execution_count": 0,
   "metadata": {
    "colab": {},
    "colab_type": "code",
    "id": "E08zNsIp4tSd"
   },
   "outputs": [],
   "source": [
    "all_features = np.concatenate((category_features, features), axis=1)"
   ]
  },
  {
   "cell_type": "code",
   "execution_count": 0,
   "metadata": {
    "colab": {},
    "colab_type": "code",
    "id": "SKTfIAMs1_vV"
   },
   "outputs": [],
   "source": [
    "import torch\n",
    "\n",
    "# One-hot matrix of first to last letters (not including EOS) for input\n",
    "def inputArray(line):\n",
    "    category_index_input = line[:,0]\n",
    "    category_index_input = np.stack(category_index_input, axis=0)\n",
    "    word_indexes_input = line[:,1:]\n",
    "    word_indexes_target = line[:,2:]\n",
    "    to_append = np.array([word_indexes_target.shape[0]*[dict_words['[PAD]']]]).transpose(1,0)\n",
    "    word_indexes_target = np.concatenate((word_indexes_target, to_append), axis=1)\n",
    "    return category_index_input, word_indexes_input, word_indexes_target"
   ]
  },
  {
   "cell_type": "code",
   "execution_count": 0,
   "metadata": {
    "colab": {},
    "colab_type": "code",
    "id": "1XnkFVjV9iJ5"
   },
   "outputs": [],
   "source": [
    "cat_inputs, inputs, targets = inputArray(all_features)"
   ]
  },
  {
   "cell_type": "code",
   "execution_count": 0,
   "metadata": {
    "colab": {},
    "colab_type": "code",
    "id": "lskodm5S_5ul"
   },
   "outputs": [],
   "source": [
    "inputs = inputs.astype('int64')\n",
    "targets = targets.astype('int64')"
   ]
  },
  {
   "cell_type": "code",
   "execution_count": 24,
   "metadata": {
    "colab": {
     "base_uri": "https://localhost:8080/",
     "height": 85
    },
    "colab_type": "code",
    "executionInfo": {
     "elapsed": 469,
     "status": "ok",
     "timestamp": 1591637173614,
     "user": {
      "displayName": "Daniel Cuiñas Vázquez",
      "photoUrl": "",
      "userId": "11552885780691803973"
     },
     "user_tz": -120
    },
    "id": "g-GVvaJ29-rJ",
    "outputId": "acb7c073-cc26-45f1-9042-2c426d328c71"
   },
   "outputs": [
    {
     "name": "stdout",
     "output_type": "stream",
     "text": [
      "\t\t\tFeature Shapes:\n",
      "Train set: \t\t(18066, 21) \n",
      "Validation set: \t(1004, 21) \n",
      "Test set: \t\t(1004, 21)\n"
     ]
    }
   ],
   "source": [
    "split_frac = 0.9\n",
    "\n",
    "## split data into training, validation, and test data (features and labels, x and y)\n",
    "\n",
    "split_idx = int(len(inputs)*split_frac)\n",
    "train_x, remaining_x = inputs[:split_idx], inputs[split_idx:]\n",
    "train_y, remaining_y = targets[:split_idx], targets[split_idx:]\n",
    "train_cat, remaining_cat = cat_inputs[:split_idx], cat_inputs[split_idx:]\n",
    "\n",
    "test_idx = int(len(remaining_x)*0.5)\n",
    "val_x, test_x = remaining_x[:test_idx], remaining_x[test_idx:]\n",
    "val_y, test_y = remaining_y[:test_idx], remaining_y[test_idx:]\n",
    "val_cat, test_cat = remaining_cat[:test_idx], remaining_cat[test_idx:]\n",
    "\n",
    "## print out the shapes of your resultant feature data\n",
    "print(\"\\t\\t\\tFeature Shapes:\")\n",
    "print(\"Train set: \\t\\t{}\".format(train_x.shape), \n",
    "      \"\\nValidation set: \\t{}\".format(val_x.shape),\n",
    "      \"\\nTest set: \\t\\t{}\".format(test_x.shape))"
   ]
  },
  {
   "cell_type": "code",
   "execution_count": 0,
   "metadata": {
    "colab": {},
    "colab_type": "code",
    "id": "oTgIGXUi-3-l"
   },
   "outputs": [],
   "source": [
    "import torch\n",
    "from torch.utils.data import TensorDataset, DataLoader\n",
    "\n",
    "train_data = TensorDataset(torch.from_numpy(train_cat), torch.from_numpy(train_x), torch.from_numpy(train_y))\n",
    "valid_data = TensorDataset(torch.from_numpy(val_cat), torch.from_numpy(val_x), torch.from_numpy(val_y))\n",
    "test_data = TensorDataset(torch.from_numpy(test_cat), torch.from_numpy(test_x), torch.from_numpy(test_y))"
   ]
  },
  {
   "cell_type": "code",
   "execution_count": 0,
   "metadata": {
    "colab": {},
    "colab_type": "code",
    "id": "6mgOd2Du-5rQ"
   },
   "outputs": [],
   "source": [
    "# dataloaders\n",
    "BATCH_SIZE = 64\n",
    "\n",
    "# make sure the SHUFFLE your training data\n",
    "train_loader = DataLoader(train_data, shuffle=True, batch_size=BATCH_SIZE)\n",
    "valid_loader = DataLoader(valid_data, shuffle=True, batch_size=BATCH_SIZE)\n",
    "test_loader = DataLoader(test_data, shuffle=True, batch_size=BATCH_SIZE)"
   ]
  },
  {
   "cell_type": "code",
   "execution_count": 27,
   "metadata": {
    "colab": {
     "base_uri": "https://localhost:8080/",
     "height": 34
    },
    "colab_type": "code",
    "executionInfo": {
     "elapsed": 882,
     "status": "ok",
     "timestamp": 1591637176268,
     "user": {
      "displayName": "Daniel Cuiñas Vázquez",
      "photoUrl": "",
      "userId": "11552885780691803973"
     },
     "user_tz": -120
    },
    "id": "OKlyo5Y7AWWU",
    "outputId": "a80feecf-1725-49db-c7de-3eecc19973be"
   },
   "outputs": [
    {
     "name": "stdout",
     "output_type": "stream",
     "text": [
      "cuda\n"
     ]
    }
   ],
   "source": [
    "device = torch.device(\"cuda\" if torch.cuda.is_available() else \"cpu\")\n",
    "print(device)"
   ]
  },
  {
   "cell_type": "code",
   "execution_count": 0,
   "metadata": {
    "colab": {},
    "colab_type": "code",
    "id": "QzifudK0AYAk"
   },
   "outputs": [],
   "source": [
    "import torch.nn as nn\n",
    "import torch.nn.functional as F\n",
    "\n",
    "class RNN(nn.Module):\n",
    "    def __init__(self, input_dim, embed_dim, hid_dim, n_layers, dropout):\n",
    "        super().__init__()\n",
    "        self.input_dim = input_dim\n",
    "        self.n_layers = n_layers\n",
    "        self.hid_dim = hid_dim\n",
    "\n",
    "        self.embedding = nn.Embedding(input_dim, embed_dim, padding_idx = 2)\n",
    "\n",
    "        self.rnn = nn.GRU(n_categories + embed_dim,\n",
    "                        hid_dim, \n",
    "                        num_layers=n_layers, \n",
    "                        dropout = 0 if n_layers < 2 else dropout)\n",
    "\n",
    "        self.fc = nn.Linear(hid_dim, input_dim)\n",
    "\n",
    "    def forward(self, cat, inputs, hidden):\n",
    "\n",
    "        #cat = [batch size, n_cats]\n",
    "\n",
    "        #inputs = [batch size]\n",
    "\n",
    "        emb = self.embedding(inputs)\n",
    "\n",
    "        #emb = [batch size, emb dim]\n",
    "\n",
    "        combined_input = torch.cat((cat, emb), 1)\n",
    "\n",
    "        #combined_input = [batch size, n_cats + emb dim]\n",
    "\n",
    "        combined_input = combined_input.unsqueeze(0)\n",
    "\n",
    "        # combined_input = [1, batch size, n_cats + emb dim]\n",
    "\n",
    "        output, hidden = self.rnn(combined_input, hidden)\n",
    "\n",
    "        #output = [1, batch size, hid dim * num directions dim]\n",
    "        #hidden = [n layers * num directions, batch size, hid dim]\n",
    "\n",
    "        output = self.fc(output)\n",
    "\n",
    "        #output = [1, batch size, input dim]\n",
    "\n",
    "        output = output.view(-1, self.input_dim)\n",
    "\n",
    "        #output = [batch size*1, input_dim] == [batch size, input dim]\n",
    "\n",
    "        return F.log_softmax(output, dim=1), hidden\n",
    "\n",
    "    def init_hidden(self, bsz):\n",
    "        weight = next(self.parameters())\n",
    "\n",
    "        return weight.new_zeros(self.n_layers, bsz, self.hid_dim)"
   ]
  },
  {
   "cell_type": "code",
   "execution_count": 0,
   "metadata": {
    "colab": {},
    "colab_type": "code",
    "id": "J_I-hIevAu3s"
   },
   "outputs": [],
   "source": [
    "embed_dim = 50\n",
    "hid_dim = 128\n",
    "n_layers = 1\n",
    "dropout = 0.1\n",
    "\n",
    "model = RNN(n_words, embed_dim, hid_dim, n_layers, dropout)"
   ]
  },
  {
   "cell_type": "code",
   "execution_count": 30,
   "metadata": {
    "colab": {
     "base_uri": "https://localhost:8080/",
     "height": 34
    },
    "colab_type": "code",
    "executionInfo": {
     "elapsed": 650,
     "status": "ok",
     "timestamp": 1591637183974,
     "user": {
      "displayName": "Daniel Cuiñas Vázquez",
      "photoUrl": "",
      "userId": "11552885780691803973"
     },
     "user_tz": -120
    },
    "id": "w5H3TGoXGwvh",
    "outputId": "c2a12b10-46e7-45c8-95ae-3ee5040b1468"
   },
   "outputs": [
    {
     "name": "stdout",
     "output_type": "stream",
     "text": [
      "The model has 86,593 trainable parameters\n"
     ]
    }
   ],
   "source": [
    "def count_parameters(model):\n",
    "    return sum(p.numel() for p in model.parameters() if p.requires_grad)\n",
    "\n",
    "print(f'The model has {count_parameters(model):,} trainable parameters')"
   ]
  },
  {
   "cell_type": "code",
   "execution_count": 0,
   "metadata": {
    "colab": {},
    "colab_type": "code",
    "id": "sRS7rfkKN8ly"
   },
   "outputs": [],
   "source": [
    "import torch.optim as optim\n",
    "\n",
    "criterion = nn.NLLLoss()"
   ]
  },
  {
   "cell_type": "code",
   "execution_count": 0,
   "metadata": {
    "colab": {},
    "colab_type": "code",
    "id": "au3gRWgYOAU2"
   },
   "outputs": [],
   "source": [
    "model = model.to(device)\n",
    "criterion = criterion.to(device)"
   ]
  },
  {
   "cell_type": "code",
   "execution_count": 0,
   "metadata": {
    "colab": {},
    "colab_type": "code",
    "id": "gcYjdB9tOCJm"
   },
   "outputs": [],
   "source": [
    "learning_rate = 0.0003\n",
    "optimizer = optim.Adam(model.parameters(), learning_rate)"
   ]
  },
  {
   "cell_type": "code",
   "execution_count": 0,
   "metadata": {
    "colab": {},
    "colab_type": "code",
    "id": "TCa5BcuxOGrT"
   },
   "outputs": [],
   "source": [
    "def train(model, iterator, optimizer, criterion):\n",
    "    total_loss = 0\n",
    "    model.train()\n",
    "    \n",
    "    j = 0\n",
    "    \n",
    "    for categories, inputs, targets in iterator:\n",
    "        bsz = inputs.shape[0]\n",
    "        hidden = model.init_hidden(bsz)\n",
    "        hidden = hidden.to(device)\n",
    "        loss = 0\n",
    "        categories, inputs, targets = categories.to(device), inputs.to(device), targets.to(device)\n",
    "        \n",
    "        inputs = inputs.transpose(1,0)\n",
    "        targets = targets.transpose(1,0)\n",
    "\n",
    "        categories = categories.float()\n",
    "        inputs = inputs.long()\n",
    "        targets = targets.long()\n",
    "        \n",
    "        seq_len_batched = inputs.shape[0]\n",
    "\n",
    "\n",
    "        optimizer.zero_grad()\n",
    "        \n",
    "        hidden = hidden.detach()\n",
    "      \n",
    "        for i in range(seq_len_batched):\n",
    "            output, hidden = model(categories, inputs[i], hidden)\n",
    "            loss += criterion(output, targets[i])\n",
    "            \n",
    "        loss.backward()\n",
    "        \n",
    "        optimizer.step()\n",
    "        \n",
    "        epoch_loss = loss.item()/seq_len_batched\n",
    "        \n",
    "        total_loss += epoch_loss\n",
    "        \n",
    "        j += 1\n",
    "        \n",
    "        if j % log_interval == 0:\n",
    "            cur_loss = epoch_loss #/ log_interval\n",
    "            print('| epoch {:3d} | {:5d}/{:5d} batches | lr {} | '\n",
    "                    'loss {:5.2f} | ppl {:8.2f}'.format(\n",
    "                epoch, j, len(iterator), learning_rate,\n",
    "                cur_loss, math.exp(cur_loss)))\n",
    "            total_loss = 0\n",
    "            # example,_,_ = sample('practicante derecho,abogado')\n",
    "            # print(example)\n",
    "        \n",
    "    return total_loss / len(iterator)\n",
    "\n",
    "\n",
    "def evaluate(model, iterator, criterion):\n",
    "    \n",
    "    total_loss = 0\n",
    "    model.eval()\n",
    "    \n",
    "    with torch.no_grad():\n",
    "    \n",
    "        for categories, inputs, targets in iterator:\n",
    "            bsz = inputs.shape[0]\n",
    "            hidden = model.init_hidden(bsz)\n",
    "            hidden = hidden.to(device)\n",
    "            \n",
    "            loss = 0\n",
    "            \n",
    "            categories, inputs, targets = categories.to(device), inputs.to(device), targets.to(device)\n",
    "\n",
    "            inputs = inputs.transpose(1,0)\n",
    "            targets = targets.transpose(1,0)\n",
    "\n",
    "            categories = categories.float()\n",
    "            inputs = inputs.long()\n",
    "            targets = targets.long()\n",
    "\n",
    "            seq_len_batched = inputs.shape[0]\n",
    "            \n",
    "            for i in range(seq_len_batched):\n",
    "                output, hidden = model(categories, inputs[i], hidden)\n",
    "                loss += criterion(output, targets[i])\n",
    "            \n",
    "            epoch_loss = loss.item()/seq_len_batched \n",
    "            total_loss += epoch_loss\n",
    "        \n",
    "    return total_loss / len(iterator)"
   ]
  },
  {
   "cell_type": "code",
   "execution_count": 0,
   "metadata": {
    "colab": {},
    "colab_type": "code",
    "id": "9eAlzNlyO22D"
   },
   "outputs": [],
   "source": [
    "import time\n",
    "import math\n",
    "\n",
    "def timeSince(since):\n",
    "    now = time.time()\n",
    "    s = now - since\n",
    "    m = math.floor(s / 60)\n",
    "    s -= m * 60\n",
    "    return '%dm %ds' % (m, s)\n",
    "\n",
    "def epoch_time(start_time, end_time):\n",
    "    elapsed_time = end_time - start_time\n",
    "    elapsed_mins = int(elapsed_time / 60)\n",
    "    elapsed_secs = int(elapsed_time - (elapsed_mins * 60))\n",
    "    return elapsed_mins, elapsed_secs"
   ]
  },
  {
   "cell_type": "code",
   "execution_count": 36,
   "metadata": {
    "colab": {
     "base_uri": "https://localhost:8080/",
     "height": 1000
    },
    "colab_type": "code",
    "executionInfo": {
     "elapsed": 341146,
     "status": "ok",
     "timestamp": 1591637538876,
     "user": {
      "displayName": "Daniel Cuiñas Vázquez",
      "photoUrl": "",
      "userId": "11552885780691803973"
     },
     "user_tz": -120
    },
    "id": "PUvCNigeO46Y",
    "outputId": "c57441b6-bd2b-4848-aa47-a6f96b12f7b4"
   },
   "outputs": [
    {
     "name": "stdout",
     "output_type": "stream",
     "text": [
      "| epoch   0 |    25/  283 batches | lr 0.0003 | loss  3.61 | ppl    36.89\n",
      "| epoch   0 |    50/  283 batches | lr 0.0003 | loss  1.45 | ppl     4.25\n",
      "| epoch   0 |    75/  283 batches | lr 0.0003 | loss  1.31 | ppl     3.70\n",
      "| epoch   0 |   100/  283 batches | lr 0.0003 | loss  1.31 | ppl     3.71\n",
      "| epoch   0 |   125/  283 batches | lr 0.0003 | loss  1.15 | ppl     3.15\n",
      "| epoch   0 |   150/  283 batches | lr 0.0003 | loss  1.15 | ppl     3.15\n",
      "| epoch   0 |   175/  283 batches | lr 0.0003 | loss  1.06 | ppl     2.89\n",
      "| epoch   0 |   200/  283 batches | lr 0.0003 | loss  1.09 | ppl     2.98\n",
      "| epoch   0 |   225/  283 batches | lr 0.0003 | loss  1.00 | ppl     2.72\n",
      "| epoch   0 |   250/  283 batches | lr 0.0003 | loss  0.95 | ppl     2.59\n",
      "| epoch   0 |   275/  283 batches | lr 0.0003 | loss  1.02 | ppl     2.77\n",
      "Epoch: 01 | Epoch Time: 0m 7s\n",
      "\tTrain Loss: 0.027 | Val. Loss: 0.948\n",
      "| epoch   1 |    25/  283 batches | lr 0.0003 | loss  0.98 | ppl     2.67\n",
      "| epoch   1 |    50/  283 batches | lr 0.0003 | loss  0.97 | ppl     2.64\n",
      "| epoch   1 |    75/  283 batches | lr 0.0003 | loss  0.90 | ppl     2.46\n",
      "| epoch   1 |   100/  283 batches | lr 0.0003 | loss  0.88 | ppl     2.42\n",
      "| epoch   1 |   125/  283 batches | lr 0.0003 | loss  0.88 | ppl     2.42\n",
      "| epoch   1 |   150/  283 batches | lr 0.0003 | loss  0.82 | ppl     2.28\n",
      "| epoch   1 |   175/  283 batches | lr 0.0003 | loss  0.82 | ppl     2.27\n",
      "| epoch   1 |   200/  283 batches | lr 0.0003 | loss  0.79 | ppl     2.20\n",
      "| epoch   1 |   225/  283 batches | lr 0.0003 | loss  0.78 | ppl     2.19\n",
      "| epoch   1 |   250/  283 batches | lr 0.0003 | loss  0.83 | ppl     2.30\n",
      "| epoch   1 |   275/  283 batches | lr 0.0003 | loss  0.85 | ppl     2.34\n",
      "Epoch: 02 | Epoch Time: 0m 6s\n",
      "\tTrain Loss: 0.023 | Val. Loss: 0.828\n",
      "| epoch   2 |    25/  283 batches | lr 0.0003 | loss  0.84 | ppl     2.32\n",
      "| epoch   2 |    50/  283 batches | lr 0.0003 | loss  0.77 | ppl     2.17\n",
      "| epoch   2 |    75/  283 batches | lr 0.0003 | loss  0.83 | ppl     2.30\n",
      "| epoch   2 |   100/  283 batches | lr 0.0003 | loss  0.78 | ppl     2.17\n",
      "| epoch   2 |   125/  283 batches | lr 0.0003 | loss  0.83 | ppl     2.29\n",
      "| epoch   2 |   150/  283 batches | lr 0.0003 | loss  0.79 | ppl     2.21\n",
      "| epoch   2 |   175/  283 batches | lr 0.0003 | loss  0.77 | ppl     2.16\n",
      "| epoch   2 |   200/  283 batches | lr 0.0003 | loss  0.74 | ppl     2.10\n",
      "| epoch   2 |   225/  283 batches | lr 0.0003 | loss  0.76 | ppl     2.13\n",
      "| epoch   2 |   250/  283 batches | lr 0.0003 | loss  0.72 | ppl     2.06\n",
      "| epoch   2 |   275/  283 batches | lr 0.0003 | loss  0.80 | ppl     2.22\n",
      "Epoch: 03 | Epoch Time: 0m 7s\n",
      "\tTrain Loss: 0.021 | Val. Loss: 0.780\n",
      "| epoch   3 |    25/  283 batches | lr 0.0003 | loss  0.82 | ppl     2.27\n",
      "| epoch   3 |    50/  283 batches | lr 0.0003 | loss  0.73 | ppl     2.08\n",
      "| epoch   3 |    75/  283 batches | lr 0.0003 | loss  0.72 | ppl     2.06\n",
      "| epoch   3 |   100/  283 batches | lr 0.0003 | loss  0.76 | ppl     2.15\n",
      "| epoch   3 |   125/  283 batches | lr 0.0003 | loss  0.76 | ppl     2.14\n",
      "| epoch   3 |   150/  283 batches | lr 0.0003 | loss  0.69 | ppl     1.98\n",
      "| epoch   3 |   175/  283 batches | lr 0.0003 | loss  0.74 | ppl     2.10\n",
      "| epoch   3 |   200/  283 batches | lr 0.0003 | loss  0.74 | ppl     2.11\n",
      "| epoch   3 |   225/  283 batches | lr 0.0003 | loss  0.76 | ppl     2.15\n",
      "| epoch   3 |   250/  283 batches | lr 0.0003 | loss  0.73 | ppl     2.08\n",
      "| epoch   3 |   275/  283 batches | lr 0.0003 | loss  0.77 | ppl     2.15\n",
      "Epoch: 04 | Epoch Time: 0m 6s\n",
      "\tTrain Loss: 0.021 | Val. Loss: 0.749\n",
      "| epoch   4 |    25/  283 batches | lr 0.0003 | loss  0.75 | ppl     2.11\n",
      "| epoch   4 |    50/  283 batches | lr 0.0003 | loss  0.68 | ppl     1.98\n",
      "| epoch   4 |    75/  283 batches | lr 0.0003 | loss  0.69 | ppl     2.00\n",
      "| epoch   4 |   100/  283 batches | lr 0.0003 | loss  0.71 | ppl     2.03\n",
      "| epoch   4 |   125/  283 batches | lr 0.0003 | loss  0.74 | ppl     2.10\n",
      "| epoch   4 |   150/  283 batches | lr 0.0003 | loss  0.68 | ppl     1.97\n",
      "| epoch   4 |   175/  283 batches | lr 0.0003 | loss  0.74 | ppl     2.10\n",
      "| epoch   4 |   200/  283 batches | lr 0.0003 | loss  0.67 | ppl     1.95\n",
      "| epoch   4 |   225/  283 batches | lr 0.0003 | loss  0.74 | ppl     2.10\n",
      "| epoch   4 |   250/  283 batches | lr 0.0003 | loss  0.74 | ppl     2.09\n",
      "| epoch   4 |   275/  283 batches | lr 0.0003 | loss  0.76 | ppl     2.15\n",
      "Epoch: 05 | Epoch Time: 0m 7s\n",
      "\tTrain Loss: 0.020 | Val. Loss: 0.726\n",
      "| epoch   5 |    25/  283 batches | lr 0.0003 | loss  0.74 | ppl     2.09\n",
      "| epoch   5 |    50/  283 batches | lr 0.0003 | loss  0.71 | ppl     2.03\n",
      "| epoch   5 |    75/  283 batches | lr 0.0003 | loss  0.72 | ppl     2.05\n",
      "| epoch   5 |   100/  283 batches | lr 0.0003 | loss  0.79 | ppl     2.20\n",
      "| epoch   5 |   125/  283 batches | lr 0.0003 | loss  0.74 | ppl     2.09\n",
      "| epoch   5 |   150/  283 batches | lr 0.0003 | loss  0.72 | ppl     2.06\n",
      "| epoch   5 |   175/  283 batches | lr 0.0003 | loss  0.74 | ppl     2.10\n",
      "| epoch   5 |   200/  283 batches | lr 0.0003 | loss  0.73 | ppl     2.07\n",
      "| epoch   5 |   225/  283 batches | lr 0.0003 | loss  0.71 | ppl     2.03\n",
      "| epoch   5 |   250/  283 batches | lr 0.0003 | loss  0.73 | ppl     2.07\n",
      "| epoch   5 |   275/  283 batches | lr 0.0003 | loss  0.78 | ppl     2.18\n",
      "Epoch: 06 | Epoch Time: 0m 6s\n",
      "\tTrain Loss: 0.019 | Val. Loss: 0.709\n",
      "| epoch   6 |    25/  283 batches | lr 0.0003 | loss  0.73 | ppl     2.07\n",
      "| epoch   6 |    50/  283 batches | lr 0.0003 | loss  0.67 | ppl     1.95\n",
      "| epoch   6 |    75/  283 batches | lr 0.0003 | loss  0.70 | ppl     2.01\n",
      "| epoch   6 |   100/  283 batches | lr 0.0003 | loss  0.68 | ppl     1.98\n",
      "| epoch   6 |   125/  283 batches | lr 0.0003 | loss  0.70 | ppl     2.02\n",
      "| epoch   6 |   150/  283 batches | lr 0.0003 | loss  0.71 | ppl     2.03\n",
      "| epoch   6 |   175/  283 batches | lr 0.0003 | loss  0.72 | ppl     2.05\n",
      "| epoch   6 |   200/  283 batches | lr 0.0003 | loss  0.66 | ppl     1.93\n",
      "| epoch   6 |   225/  283 batches | lr 0.0003 | loss  0.64 | ppl     1.91\n",
      "| epoch   6 |   250/  283 batches | lr 0.0003 | loss  0.73 | ppl     2.07\n",
      "| epoch   6 |   275/  283 batches | lr 0.0003 | loss  0.70 | ppl     2.01\n",
      "Epoch: 07 | Epoch Time: 0m 6s\n",
      "\tTrain Loss: 0.019 | Val. Loss: 0.696\n",
      "| epoch   7 |    25/  283 batches | lr 0.0003 | loss  0.67 | ppl     1.96\n",
      "| epoch   7 |    50/  283 batches | lr 0.0003 | loss  0.73 | ppl     2.07\n",
      "| epoch   7 |    75/  283 batches | lr 0.0003 | loss  0.67 | ppl     1.96\n",
      "| epoch   7 |   100/  283 batches | lr 0.0003 | loss  0.70 | ppl     2.02\n",
      "| epoch   7 |   125/  283 batches | lr 0.0003 | loss  0.72 | ppl     2.05\n",
      "| epoch   7 |   150/  283 batches | lr 0.0003 | loss  0.66 | ppl     1.93\n",
      "| epoch   7 |   175/  283 batches | lr 0.0003 | loss  0.71 | ppl     2.03\n",
      "| epoch   7 |   200/  283 batches | lr 0.0003 | loss  0.76 | ppl     2.14\n",
      "| epoch   7 |   225/  283 batches | lr 0.0003 | loss  0.71 | ppl     2.03\n",
      "| epoch   7 |   250/  283 batches | lr 0.0003 | loss  0.69 | ppl     2.00\n",
      "| epoch   7 |   275/  283 batches | lr 0.0003 | loss  0.65 | ppl     1.92\n",
      "Epoch: 08 | Epoch Time: 0m 6s\n",
      "\tTrain Loss: 0.019 | Val. Loss: 0.684\n",
      "| epoch   8 |    25/  283 batches | lr 0.0003 | loss  0.68 | ppl     1.97\n",
      "| epoch   8 |    50/  283 batches | lr 0.0003 | loss  0.74 | ppl     2.09\n",
      "| epoch   8 |    75/  283 batches | lr 0.0003 | loss  0.69 | ppl     2.00\n",
      "| epoch   8 |   100/  283 batches | lr 0.0003 | loss  0.71 | ppl     2.02\n",
      "| epoch   8 |   125/  283 batches | lr 0.0003 | loss  0.73 | ppl     2.07\n",
      "| epoch   8 |   150/  283 batches | lr 0.0003 | loss  0.65 | ppl     1.93\n",
      "| epoch   8 |   175/  283 batches | lr 0.0003 | loss  0.68 | ppl     1.97\n",
      "| epoch   8 |   200/  283 batches | lr 0.0003 | loss  0.67 | ppl     1.96\n",
      "| epoch   8 |   225/  283 batches | lr 0.0003 | loss  0.72 | ppl     2.05\n",
      "| epoch   8 |   250/  283 batches | lr 0.0003 | loss  0.63 | ppl     1.87\n",
      "| epoch   8 |   275/  283 batches | lr 0.0003 | loss  0.65 | ppl     1.91\n",
      "Epoch: 09 | Epoch Time: 0m 6s\n",
      "\tTrain Loss: 0.019 | Val. Loss: 0.675\n",
      "| epoch   9 |    25/  283 batches | lr 0.0003 | loss  0.60 | ppl     1.82\n",
      "| epoch   9 |    50/  283 batches | lr 0.0003 | loss  0.68 | ppl     1.98\n",
      "| epoch   9 |    75/  283 batches | lr 0.0003 | loss  0.69 | ppl     2.00\n",
      "| epoch   9 |   100/  283 batches | lr 0.0003 | loss  0.69 | ppl     1.99\n",
      "| epoch   9 |   125/  283 batches | lr 0.0003 | loss  0.69 | ppl     2.00\n",
      "| epoch   9 |   150/  283 batches | lr 0.0003 | loss  0.63 | ppl     1.88\n",
      "| epoch   9 |   175/  283 batches | lr 0.0003 | loss  0.68 | ppl     1.97\n",
      "| epoch   9 |   200/  283 batches | lr 0.0003 | loss  0.64 | ppl     1.89\n",
      "| epoch   9 |   225/  283 batches | lr 0.0003 | loss  0.62 | ppl     1.86\n",
      "| epoch   9 |   250/  283 batches | lr 0.0003 | loss  0.66 | ppl     1.94\n",
      "| epoch   9 |   275/  283 batches | lr 0.0003 | loss  0.65 | ppl     1.92\n",
      "Epoch: 10 | Epoch Time: 0m 6s\n",
      "\tTrain Loss: 0.018 | Val. Loss: 0.665\n",
      "| epoch  10 |    25/  283 batches | lr 0.0003 | loss  0.64 | ppl     1.89\n",
      "| epoch  10 |    50/  283 batches | lr 0.0003 | loss  0.63 | ppl     1.88\n",
      "| epoch  10 |    75/  283 batches | lr 0.0003 | loss  0.66 | ppl     1.93\n",
      "| epoch  10 |   100/  283 batches | lr 0.0003 | loss  0.67 | ppl     1.96\n",
      "| epoch  10 |   125/  283 batches | lr 0.0003 | loss  0.63 | ppl     1.88\n",
      "| epoch  10 |   150/  283 batches | lr 0.0003 | loss  0.65 | ppl     1.91\n",
      "| epoch  10 |   175/  283 batches | lr 0.0003 | loss  0.70 | ppl     2.02\n",
      "| epoch  10 |   200/  283 batches | lr 0.0003 | loss  0.68 | ppl     1.98\n",
      "| epoch  10 |   225/  283 batches | lr 0.0003 | loss  0.68 | ppl     1.97\n",
      "| epoch  10 |   250/  283 batches | lr 0.0003 | loss  0.68 | ppl     1.98\n",
      "| epoch  10 |   275/  283 batches | lr 0.0003 | loss  0.69 | ppl     2.00\n",
      "Epoch: 11 | Epoch Time: 0m 6s\n",
      "\tTrain Loss: 0.018 | Val. Loss: 0.657\n",
      "| epoch  11 |    25/  283 batches | lr 0.0003 | loss  0.64 | ppl     1.90\n",
      "| epoch  11 |    50/  283 batches | lr 0.0003 | loss  0.59 | ppl     1.80\n",
      "| epoch  11 |    75/  283 batches | lr 0.0003 | loss  0.61 | ppl     1.84\n",
      "| epoch  11 |   100/  283 batches | lr 0.0003 | loss  0.68 | ppl     1.97\n",
      "| epoch  11 |   125/  283 batches | lr 0.0003 | loss  0.66 | ppl     1.94\n",
      "| epoch  11 |   150/  283 batches | lr 0.0003 | loss  0.67 | ppl     1.95\n",
      "| epoch  11 |   175/  283 batches | lr 0.0003 | loss  0.64 | ppl     1.89\n",
      "| epoch  11 |   200/  283 batches | lr 0.0003 | loss  0.66 | ppl     1.93\n",
      "| epoch  11 |   225/  283 batches | lr 0.0003 | loss  0.63 | ppl     1.88\n",
      "| epoch  11 |   250/  283 batches | lr 0.0003 | loss  0.65 | ppl     1.91\n",
      "| epoch  11 |   275/  283 batches | lr 0.0003 | loss  0.62 | ppl     1.87\n",
      "Epoch: 12 | Epoch Time: 0m 6s\n",
      "\tTrain Loss: 0.018 | Val. Loss: 0.650\n",
      "| epoch  12 |    25/  283 batches | lr 0.0003 | loss  0.61 | ppl     1.84\n",
      "| epoch  12 |    50/  283 batches | lr 0.0003 | loss  0.62 | ppl     1.86\n",
      "| epoch  12 |    75/  283 batches | lr 0.0003 | loss  0.66 | ppl     1.94\n",
      "| epoch  12 |   100/  283 batches | lr 0.0003 | loss  0.64 | ppl     1.89\n",
      "| epoch  12 |   125/  283 batches | lr 0.0003 | loss  0.60 | ppl     1.82\n",
      "| epoch  12 |   150/  283 batches | lr 0.0003 | loss  0.59 | ppl     1.81\n",
      "| epoch  12 |   175/  283 batches | lr 0.0003 | loss  0.64 | ppl     1.90\n",
      "| epoch  12 |   200/  283 batches | lr 0.0003 | loss  0.59 | ppl     1.80\n",
      "| epoch  12 |   225/  283 batches | lr 0.0003 | loss  0.57 | ppl     1.77\n",
      "| epoch  12 |   250/  283 batches | lr 0.0003 | loss  0.63 | ppl     1.87\n",
      "| epoch  12 |   275/  283 batches | lr 0.0003 | loss  0.62 | ppl     1.85\n",
      "Epoch: 13 | Epoch Time: 0m 6s\n",
      "\tTrain Loss: 0.017 | Val. Loss: 0.643\n",
      "| epoch  13 |    25/  283 batches | lr 0.0003 | loss  0.65 | ppl     1.91\n",
      "| epoch  13 |    50/  283 batches | lr 0.0003 | loss  0.65 | ppl     1.92\n",
      "| epoch  13 |    75/  283 batches | lr 0.0003 | loss  0.63 | ppl     1.88\n",
      "| epoch  13 |   100/  283 batches | lr 0.0003 | loss  0.65 | ppl     1.92\n",
      "| epoch  13 |   125/  283 batches | lr 0.0003 | loss  0.56 | ppl     1.76\n",
      "| epoch  13 |   150/  283 batches | lr 0.0003 | loss  0.63 | ppl     1.87\n",
      "| epoch  13 |   175/  283 batches | lr 0.0003 | loss  0.58 | ppl     1.78\n",
      "| epoch  13 |   200/  283 batches | lr 0.0003 | loss  0.60 | ppl     1.82\n",
      "| epoch  13 |   225/  283 batches | lr 0.0003 | loss  0.63 | ppl     1.87\n",
      "| epoch  13 |   250/  283 batches | lr 0.0003 | loss  0.65 | ppl     1.91\n",
      "| epoch  13 |   275/  283 batches | lr 0.0003 | loss  0.65 | ppl     1.92\n",
      "Epoch: 14 | Epoch Time: 0m 6s\n",
      "\tTrain Loss: 0.017 | Val. Loss: 0.636\n",
      "| epoch  14 |    25/  283 batches | lr 0.0003 | loss  0.62 | ppl     1.85\n",
      "| epoch  14 |    50/  283 batches | lr 0.0003 | loss  0.61 | ppl     1.83\n",
      "| epoch  14 |    75/  283 batches | lr 0.0003 | loss  0.65 | ppl     1.92\n",
      "| epoch  14 |   100/  283 batches | lr 0.0003 | loss  0.61 | ppl     1.84\n",
      "| epoch  14 |   125/  283 batches | lr 0.0003 | loss  0.61 | ppl     1.83\n",
      "| epoch  14 |   150/  283 batches | lr 0.0003 | loss  0.63 | ppl     1.88\n",
      "| epoch  14 |   175/  283 batches | lr 0.0003 | loss  0.58 | ppl     1.79\n",
      "| epoch  14 |   200/  283 batches | lr 0.0003 | loss  0.64 | ppl     1.90\n",
      "| epoch  14 |   225/  283 batches | lr 0.0003 | loss  0.64 | ppl     1.90\n",
      "| epoch  14 |   250/  283 batches | lr 0.0003 | loss  0.58 | ppl     1.78\n",
      "| epoch  14 |   275/  283 batches | lr 0.0003 | loss  0.64 | ppl     1.89\n",
      "Epoch: 15 | Epoch Time: 0m 6s\n",
      "\tTrain Loss: 0.018 | Val. Loss: 0.631\n",
      "| epoch  15 |    25/  283 batches | lr 0.0003 | loss  0.65 | ppl     1.91\n",
      "| epoch  15 |    50/  283 batches | lr 0.0003 | loss  0.56 | ppl     1.76\n",
      "| epoch  15 |    75/  283 batches | lr 0.0003 | loss  0.66 | ppl     1.93\n",
      "| epoch  15 |   100/  283 batches | lr 0.0003 | loss  0.62 | ppl     1.85\n",
      "| epoch  15 |   125/  283 batches | lr 0.0003 | loss  0.60 | ppl     1.82\n",
      "| epoch  15 |   150/  283 batches | lr 0.0003 | loss  0.57 | ppl     1.76\n",
      "| epoch  15 |   175/  283 batches | lr 0.0003 | loss  0.61 | ppl     1.83\n",
      "| epoch  15 |   200/  283 batches | lr 0.0003 | loss  0.63 | ppl     1.89\n",
      "| epoch  15 |   225/  283 batches | lr 0.0003 | loss  0.61 | ppl     1.83\n",
      "| epoch  15 |   250/  283 batches | lr 0.0003 | loss  0.63 | ppl     1.88\n",
      "| epoch  15 |   275/  283 batches | lr 0.0003 | loss  0.64 | ppl     1.89\n",
      "Epoch: 16 | Epoch Time: 0m 6s\n",
      "\tTrain Loss: 0.018 | Val. Loss: 0.625\n",
      "| epoch  16 |    25/  283 batches | lr 0.0003 | loss  0.61 | ppl     1.84\n",
      "| epoch  16 |    50/  283 batches | lr 0.0003 | loss  0.58 | ppl     1.79\n",
      "| epoch  16 |    75/  283 batches | lr 0.0003 | loss  0.62 | ppl     1.87\n",
      "| epoch  16 |   100/  283 batches | lr 0.0003 | loss  0.65 | ppl     1.92\n",
      "| epoch  16 |   125/  283 batches | lr 0.0003 | loss  0.64 | ppl     1.90\n",
      "| epoch  16 |   150/  283 batches | lr 0.0003 | loss  0.62 | ppl     1.85\n",
      "| epoch  16 |   175/  283 batches | lr 0.0003 | loss  0.62 | ppl     1.86\n",
      "| epoch  16 |   200/  283 batches | lr 0.0003 | loss  0.62 | ppl     1.86\n",
      "| epoch  16 |   225/  283 batches | lr 0.0003 | loss  0.61 | ppl     1.85\n",
      "| epoch  16 |   250/  283 batches | lr 0.0003 | loss  0.60 | ppl     1.81\n",
      "| epoch  16 |   275/  283 batches | lr 0.0003 | loss  0.62 | ppl     1.87\n",
      "Epoch: 17 | Epoch Time: 0m 6s\n",
      "\tTrain Loss: 0.017 | Val. Loss: 0.621\n",
      "| epoch  17 |    25/  283 batches | lr 0.0003 | loss  0.62 | ppl     1.86\n",
      "| epoch  17 |    50/  283 batches | lr 0.0003 | loss  0.61 | ppl     1.85\n",
      "| epoch  17 |    75/  283 batches | lr 0.0003 | loss  0.58 | ppl     1.79\n",
      "| epoch  17 |   100/  283 batches | lr 0.0003 | loss  0.57 | ppl     1.78\n",
      "| epoch  17 |   125/  283 batches | lr 0.0003 | loss  0.59 | ppl     1.80\n",
      "| epoch  17 |   150/  283 batches | lr 0.0003 | loss  0.59 | ppl     1.81\n",
      "| epoch  17 |   175/  283 batches | lr 0.0003 | loss  0.57 | ppl     1.77\n",
      "| epoch  17 |   200/  283 batches | lr 0.0003 | loss  0.51 | ppl     1.67\n",
      "| epoch  17 |   225/  283 batches | lr 0.0003 | loss  0.59 | ppl     1.81\n",
      "| epoch  17 |   250/  283 batches | lr 0.0003 | loss  0.56 | ppl     1.76\n",
      "| epoch  17 |   275/  283 batches | lr 0.0003 | loss  0.59 | ppl     1.80\n",
      "Epoch: 18 | Epoch Time: 0m 6s\n",
      "\tTrain Loss: 0.017 | Val. Loss: 0.616\n",
      "| epoch  18 |    25/  283 batches | lr 0.0003 | loss  0.55 | ppl     1.74\n",
      "| epoch  18 |    50/  283 batches | lr 0.0003 | loss  0.60 | ppl     1.82\n",
      "| epoch  18 |    75/  283 batches | lr 0.0003 | loss  0.57 | ppl     1.76\n",
      "| epoch  18 |   100/  283 batches | lr 0.0003 | loss  0.59 | ppl     1.80\n",
      "| epoch  18 |   125/  283 batches | lr 0.0003 | loss  0.60 | ppl     1.81\n",
      "| epoch  18 |   150/  283 batches | lr 0.0003 | loss  0.59 | ppl     1.80\n",
      "| epoch  18 |   175/  283 batches | lr 0.0003 | loss  0.63 | ppl     1.88\n",
      "| epoch  18 |   200/  283 batches | lr 0.0003 | loss  0.59 | ppl     1.80\n",
      "| epoch  18 |   225/  283 batches | lr 0.0003 | loss  0.58 | ppl     1.79\n",
      "| epoch  18 |   250/  283 batches | lr 0.0003 | loss  0.60 | ppl     1.82\n",
      "| epoch  18 |   275/  283 batches | lr 0.0003 | loss  0.57 | ppl     1.76\n",
      "Epoch: 19 | Epoch Time: 0m 6s\n",
      "\tTrain Loss: 0.017 | Val. Loss: 0.613\n",
      "| epoch  19 |    25/  283 batches | lr 0.0003 | loss  0.60 | ppl     1.82\n",
      "| epoch  19 |    50/  283 batches | lr 0.0003 | loss  0.58 | ppl     1.78\n",
      "| epoch  19 |    75/  283 batches | lr 0.0003 | loss  0.58 | ppl     1.78\n",
      "| epoch  19 |   100/  283 batches | lr 0.0003 | loss  0.60 | ppl     1.82\n",
      "| epoch  19 |   125/  283 batches | lr 0.0003 | loss  0.61 | ppl     1.85\n",
      "| epoch  19 |   150/  283 batches | lr 0.0003 | loss  0.59 | ppl     1.81\n",
      "| epoch  19 |   175/  283 batches | lr 0.0003 | loss  0.56 | ppl     1.75\n",
      "| epoch  19 |   200/  283 batches | lr 0.0003 | loss  0.57 | ppl     1.77\n",
      "| epoch  19 |   225/  283 batches | lr 0.0003 | loss  0.59 | ppl     1.81\n",
      "| epoch  19 |   250/  283 batches | lr 0.0003 | loss  0.57 | ppl     1.77\n",
      "| epoch  19 |   275/  283 batches | lr 0.0003 | loss  0.57 | ppl     1.76\n",
      "Epoch: 20 | Epoch Time: 0m 7s\n",
      "\tTrain Loss: 0.016 | Val. Loss: 0.608\n",
      "| epoch  20 |    25/  283 batches | lr 0.0003 | loss  0.57 | ppl     1.76\n",
      "| epoch  20 |    50/  283 batches | lr 0.0003 | loss  0.57 | ppl     1.77\n",
      "| epoch  20 |    75/  283 batches | lr 0.0003 | loss  0.55 | ppl     1.73\n",
      "| epoch  20 |   100/  283 batches | lr 0.0003 | loss  0.58 | ppl     1.78\n",
      "| epoch  20 |   125/  283 batches | lr 0.0003 | loss  0.57 | ppl     1.76\n",
      "| epoch  20 |   150/  283 batches | lr 0.0003 | loss  0.58 | ppl     1.79\n",
      "| epoch  20 |   175/  283 batches | lr 0.0003 | loss  0.60 | ppl     1.82\n",
      "| epoch  20 |   200/  283 batches | lr 0.0003 | loss  0.57 | ppl     1.76\n",
      "| epoch  20 |   225/  283 batches | lr 0.0003 | loss  0.53 | ppl     1.70\n",
      "| epoch  20 |   250/  283 batches | lr 0.0003 | loss  0.60 | ppl     1.83\n",
      "| epoch  20 |   275/  283 batches | lr 0.0003 | loss  0.57 | ppl     1.78\n",
      "Epoch: 21 | Epoch Time: 0m 6s\n",
      "\tTrain Loss: 0.017 | Val. Loss: 0.606\n",
      "| epoch  21 |    25/  283 batches | lr 0.0003 | loss  0.57 | ppl     1.77\n",
      "| epoch  21 |    50/  283 batches | lr 0.0003 | loss  0.58 | ppl     1.79\n",
      "| epoch  21 |    75/  283 batches | lr 0.0003 | loss  0.61 | ppl     1.84\n",
      "| epoch  21 |   100/  283 batches | lr 0.0003 | loss  0.56 | ppl     1.76\n",
      "| epoch  21 |   125/  283 batches | lr 0.0003 | loss  0.59 | ppl     1.81\n",
      "| epoch  21 |   150/  283 batches | lr 0.0003 | loss  0.61 | ppl     1.84\n",
      "| epoch  21 |   175/  283 batches | lr 0.0003 | loss  0.64 | ppl     1.89\n",
      "| epoch  21 |   200/  283 batches | lr 0.0003 | loss  0.57 | ppl     1.76\n",
      "| epoch  21 |   225/  283 batches | lr 0.0003 | loss  0.58 | ppl     1.79\n",
      "| epoch  21 |   250/  283 batches | lr 0.0003 | loss  0.58 | ppl     1.79\n",
      "| epoch  21 |   275/  283 batches | lr 0.0003 | loss  0.52 | ppl     1.69\n",
      "Epoch: 22 | Epoch Time: 0m 6s\n",
      "\tTrain Loss: 0.017 | Val. Loss: 0.602\n",
      "| epoch  22 |    25/  283 batches | lr 0.0003 | loss  0.61 | ppl     1.83\n",
      "| epoch  22 |    50/  283 batches | lr 0.0003 | loss  0.61 | ppl     1.84\n",
      "| epoch  22 |    75/  283 batches | lr 0.0003 | loss  0.53 | ppl     1.69\n",
      "| epoch  22 |   100/  283 batches | lr 0.0003 | loss  0.59 | ppl     1.81\n",
      "| epoch  22 |   125/  283 batches | lr 0.0003 | loss  0.61 | ppl     1.83\n",
      "| epoch  22 |   150/  283 batches | lr 0.0003 | loss  0.57 | ppl     1.78\n",
      "| epoch  22 |   175/  283 batches | lr 0.0003 | loss  0.61 | ppl     1.84\n",
      "| epoch  22 |   200/  283 batches | lr 0.0003 | loss  0.54 | ppl     1.71\n",
      "| epoch  22 |   225/  283 batches | lr 0.0003 | loss  0.56 | ppl     1.75\n",
      "| epoch  22 |   250/  283 batches | lr 0.0003 | loss  0.57 | ppl     1.77\n",
      "| epoch  22 |   275/  283 batches | lr 0.0003 | loss  0.60 | ppl     1.83\n",
      "Epoch: 23 | Epoch Time: 0m 6s\n",
      "\tTrain Loss: 0.016 | Val. Loss: 0.599\n",
      "| epoch  23 |    25/  283 batches | lr 0.0003 | loss  0.60 | ppl     1.82\n",
      "| epoch  23 |    50/  283 batches | lr 0.0003 | loss  0.59 | ppl     1.80\n",
      "| epoch  23 |    75/  283 batches | lr 0.0003 | loss  0.60 | ppl     1.82\n",
      "| epoch  23 |   100/  283 batches | lr 0.0003 | loss  0.57 | ppl     1.77\n",
      "| epoch  23 |   125/  283 batches | lr 0.0003 | loss  0.57 | ppl     1.77\n",
      "| epoch  23 |   150/  283 batches | lr 0.0003 | loss  0.61 | ppl     1.84\n",
      "| epoch  23 |   175/  283 batches | lr 0.0003 | loss  0.54 | ppl     1.72\n",
      "| epoch  23 |   200/  283 batches | lr 0.0003 | loss  0.59 | ppl     1.80\n",
      "| epoch  23 |   225/  283 batches | lr 0.0003 | loss  0.59 | ppl     1.80\n",
      "| epoch  23 |   250/  283 batches | lr 0.0003 | loss  0.54 | ppl     1.71\n",
      "| epoch  23 |   275/  283 batches | lr 0.0003 | loss  0.59 | ppl     1.81\n",
      "Epoch: 24 | Epoch Time: 0m 6s\n",
      "\tTrain Loss: 0.016 | Val. Loss: 0.594\n",
      "| epoch  24 |    25/  283 batches | lr 0.0003 | loss  0.56 | ppl     1.76\n",
      "| epoch  24 |    50/  283 batches | lr 0.0003 | loss  0.55 | ppl     1.74\n",
      "| epoch  24 |    75/  283 batches | lr 0.0003 | loss  0.56 | ppl     1.75\n",
      "| epoch  24 |   100/  283 batches | lr 0.0003 | loss  0.61 | ppl     1.84\n",
      "| epoch  24 |   125/  283 batches | lr 0.0003 | loss  0.53 | ppl     1.70\n",
      "| epoch  24 |   150/  283 batches | lr 0.0003 | loss  0.55 | ppl     1.73\n",
      "| epoch  24 |   175/  283 batches | lr 0.0003 | loss  0.58 | ppl     1.78\n",
      "| epoch  24 |   200/  283 batches | lr 0.0003 | loss  0.55 | ppl     1.73\n",
      "| epoch  24 |   225/  283 batches | lr 0.0003 | loss  0.54 | ppl     1.72\n",
      "| epoch  24 |   250/  283 batches | lr 0.0003 | loss  0.62 | ppl     1.86\n",
      "| epoch  24 |   275/  283 batches | lr 0.0003 | loss  0.50 | ppl     1.65\n",
      "Epoch: 25 | Epoch Time: 0m 6s\n",
      "\tTrain Loss: 0.016 | Val. Loss: 0.592\n",
      "| epoch  25 |    25/  283 batches | lr 0.0003 | loss  0.57 | ppl     1.78\n",
      "| epoch  25 |    50/  283 batches | lr 0.0003 | loss  0.52 | ppl     1.68\n",
      "| epoch  25 |    75/  283 batches | lr 0.0003 | loss  0.57 | ppl     1.77\n",
      "| epoch  25 |   100/  283 batches | lr 0.0003 | loss  0.59 | ppl     1.80\n",
      "| epoch  25 |   125/  283 batches | lr 0.0003 | loss  0.60 | ppl     1.82\n",
      "| epoch  25 |   150/  283 batches | lr 0.0003 | loss  0.55 | ppl     1.73\n",
      "| epoch  25 |   175/  283 batches | lr 0.0003 | loss  0.56 | ppl     1.76\n",
      "| epoch  25 |   200/  283 batches | lr 0.0003 | loss  0.56 | ppl     1.75\n",
      "| epoch  25 |   225/  283 batches | lr 0.0003 | loss  0.51 | ppl     1.67\n",
      "| epoch  25 |   250/  283 batches | lr 0.0003 | loss  0.58 | ppl     1.79\n",
      "| epoch  25 |   275/  283 batches | lr 0.0003 | loss  0.56 | ppl     1.75\n",
      "Epoch: 26 | Epoch Time: 0m 6s\n",
      "\tTrain Loss: 0.016 | Val. Loss: 0.588\n",
      "| epoch  26 |    25/  283 batches | lr 0.0003 | loss  0.52 | ppl     1.68\n",
      "| epoch  26 |    50/  283 batches | lr 0.0003 | loss  0.52 | ppl     1.68\n",
      "| epoch  26 |    75/  283 batches | lr 0.0003 | loss  0.55 | ppl     1.74\n",
      "| epoch  26 |   100/  283 batches | lr 0.0003 | loss  0.62 | ppl     1.86\n",
      "| epoch  26 |   125/  283 batches | lr 0.0003 | loss  0.61 | ppl     1.85\n",
      "| epoch  26 |   150/  283 batches | lr 0.0003 | loss  0.56 | ppl     1.75\n",
      "| epoch  26 |   175/  283 batches | lr 0.0003 | loss  0.57 | ppl     1.76\n",
      "| epoch  26 |   200/  283 batches | lr 0.0003 | loss  0.54 | ppl     1.71\n",
      "| epoch  26 |   225/  283 batches | lr 0.0003 | loss  0.56 | ppl     1.75\n",
      "| epoch  26 |   250/  283 batches | lr 0.0003 | loss  0.56 | ppl     1.76\n",
      "| epoch  26 |   275/  283 batches | lr 0.0003 | loss  0.59 | ppl     1.81\n",
      "Epoch: 27 | Epoch Time: 0m 6s\n",
      "\tTrain Loss: 0.016 | Val. Loss: 0.588\n",
      "| epoch  27 |    25/  283 batches | lr 0.0003 | loss  0.53 | ppl     1.70\n",
      "| epoch  27 |    50/  283 batches | lr 0.0003 | loss  0.52 | ppl     1.69\n",
      "| epoch  27 |    75/  283 batches | lr 0.0003 | loss  0.57 | ppl     1.77\n",
      "| epoch  27 |   100/  283 batches | lr 0.0003 | loss  0.55 | ppl     1.73\n",
      "| epoch  27 |   125/  283 batches | lr 0.0003 | loss  0.49 | ppl     1.64\n",
      "| epoch  27 |   150/  283 batches | lr 0.0003 | loss  0.56 | ppl     1.75\n",
      "| epoch  27 |   175/  283 batches | lr 0.0003 | loss  0.54 | ppl     1.71\n",
      "| epoch  27 |   200/  283 batches | lr 0.0003 | loss  0.52 | ppl     1.69\n",
      "| epoch  27 |   225/  283 batches | lr 0.0003 | loss  0.58 | ppl     1.79\n",
      "| epoch  27 |   250/  283 batches | lr 0.0003 | loss  0.56 | ppl     1.75\n",
      "| epoch  27 |   275/  283 batches | lr 0.0003 | loss  0.56 | ppl     1.75\n",
      "Epoch: 28 | Epoch Time: 0m 6s\n",
      "\tTrain Loss: 0.015 | Val. Loss: 0.585\n",
      "| epoch  28 |    25/  283 batches | lr 0.0003 | loss  0.60 | ppl     1.82\n",
      "| epoch  28 |    50/  283 batches | lr 0.0003 | loss  0.56 | ppl     1.76\n",
      "| epoch  28 |    75/  283 batches | lr 0.0003 | loss  0.56 | ppl     1.75\n",
      "| epoch  28 |   100/  283 batches | lr 0.0003 | loss  0.59 | ppl     1.80\n",
      "| epoch  28 |   125/  283 batches | lr 0.0003 | loss  0.54 | ppl     1.72\n",
      "| epoch  28 |   150/  283 batches | lr 0.0003 | loss  0.53 | ppl     1.70\n",
      "| epoch  28 |   175/  283 batches | lr 0.0003 | loss  0.53 | ppl     1.71\n",
      "| epoch  28 |   200/  283 batches | lr 0.0003 | loss  0.54 | ppl     1.72\n",
      "| epoch  28 |   225/  283 batches | lr 0.0003 | loss  0.52 | ppl     1.68\n",
      "| epoch  28 |   250/  283 batches | lr 0.0003 | loss  0.60 | ppl     1.82\n",
      "| epoch  28 |   275/  283 batches | lr 0.0003 | loss  0.54 | ppl     1.72\n",
      "Epoch: 29 | Epoch Time: 0m 6s\n",
      "\tTrain Loss: 0.015 | Val. Loss: 0.584\n",
      "| epoch  29 |    25/  283 batches | lr 0.0003 | loss  0.48 | ppl     1.62\n",
      "| epoch  29 |    50/  283 batches | lr 0.0003 | loss  0.55 | ppl     1.73\n",
      "| epoch  29 |    75/  283 batches | lr 0.0003 | loss  0.52 | ppl     1.68\n",
      "| epoch  29 |   100/  283 batches | lr 0.0003 | loss  0.52 | ppl     1.69\n",
      "| epoch  29 |   125/  283 batches | lr 0.0003 | loss  0.58 | ppl     1.79\n",
      "| epoch  29 |   150/  283 batches | lr 0.0003 | loss  0.53 | ppl     1.69\n",
      "| epoch  29 |   175/  283 batches | lr 0.0003 | loss  0.57 | ppl     1.77\n",
      "| epoch  29 |   200/  283 batches | lr 0.0003 | loss  0.51 | ppl     1.67\n",
      "| epoch  29 |   225/  283 batches | lr 0.0003 | loss  0.57 | ppl     1.78\n",
      "| epoch  29 |   250/  283 batches | lr 0.0003 | loss  0.51 | ppl     1.67\n",
      "| epoch  29 |   275/  283 batches | lr 0.0003 | loss  0.57 | ppl     1.77\n",
      "Epoch: 30 | Epoch Time: 0m 6s\n",
      "\tTrain Loss: 0.016 | Val. Loss: 0.582\n",
      "| epoch  30 |    25/  283 batches | lr 0.0003 | loss  0.57 | ppl     1.76\n",
      "| epoch  30 |    50/  283 batches | lr 0.0003 | loss  0.56 | ppl     1.75\n",
      "| epoch  30 |    75/  283 batches | lr 0.0003 | loss  0.54 | ppl     1.72\n",
      "| epoch  30 |   100/  283 batches | lr 0.0003 | loss  0.53 | ppl     1.70\n",
      "| epoch  30 |   125/  283 batches | lr 0.0003 | loss  0.52 | ppl     1.69\n",
      "| epoch  30 |   150/  283 batches | lr 0.0003 | loss  0.53 | ppl     1.70\n",
      "| epoch  30 |   175/  283 batches | lr 0.0003 | loss  0.55 | ppl     1.73\n",
      "| epoch  30 |   200/  283 batches | lr 0.0003 | loss  0.53 | ppl     1.70\n",
      "| epoch  30 |   225/  283 batches | lr 0.0003 | loss  0.56 | ppl     1.74\n",
      "| epoch  30 |   250/  283 batches | lr 0.0003 | loss  0.57 | ppl     1.77\n",
      "| epoch  30 |   275/  283 batches | lr 0.0003 | loss  0.57 | ppl     1.76\n",
      "Epoch: 31 | Epoch Time: 0m 7s\n",
      "\tTrain Loss: 0.016 | Val. Loss: 0.580\n",
      "| epoch  31 |    25/  283 batches | lr 0.0003 | loss  0.54 | ppl     1.71\n",
      "| epoch  31 |    50/  283 batches | lr 0.0003 | loss  0.55 | ppl     1.73\n",
      "| epoch  31 |    75/  283 batches | lr 0.0003 | loss  0.52 | ppl     1.68\n",
      "| epoch  31 |   100/  283 batches | lr 0.0003 | loss  0.51 | ppl     1.66\n",
      "| epoch  31 |   125/  283 batches | lr 0.0003 | loss  0.54 | ppl     1.72\n",
      "| epoch  31 |   150/  283 batches | lr 0.0003 | loss  0.58 | ppl     1.78\n",
      "| epoch  31 |   175/  283 batches | lr 0.0003 | loss  0.62 | ppl     1.87\n",
      "| epoch  31 |   200/  283 batches | lr 0.0003 | loss  0.53 | ppl     1.70\n",
      "| epoch  31 |   225/  283 batches | lr 0.0003 | loss  0.52 | ppl     1.68\n",
      "| epoch  31 |   250/  283 batches | lr 0.0003 | loss  0.54 | ppl     1.72\n",
      "| epoch  31 |   275/  283 batches | lr 0.0003 | loss  0.55 | ppl     1.73\n",
      "Epoch: 32 | Epoch Time: 0m 6s\n",
      "\tTrain Loss: 0.016 | Val. Loss: 0.578\n",
      "| epoch  32 |    25/  283 batches | lr 0.0003 | loss  0.54 | ppl     1.71\n",
      "| epoch  32 |    50/  283 batches | lr 0.0003 | loss  0.50 | ppl     1.65\n",
      "| epoch  32 |    75/  283 batches | lr 0.0003 | loss  0.54 | ppl     1.72\n",
      "| epoch  32 |   100/  283 batches | lr 0.0003 | loss  0.52 | ppl     1.67\n",
      "| epoch  32 |   125/  283 batches | lr 0.0003 | loss  0.51 | ppl     1.67\n",
      "| epoch  32 |   150/  283 batches | lr 0.0003 | loss  0.53 | ppl     1.70\n",
      "| epoch  32 |   175/  283 batches | lr 0.0003 | loss  0.52 | ppl     1.68\n",
      "| epoch  32 |   200/  283 batches | lr 0.0003 | loss  0.56 | ppl     1.74\n",
      "| epoch  32 |   225/  283 batches | lr 0.0003 | loss  0.59 | ppl     1.80\n",
      "| epoch  32 |   250/  283 batches | lr 0.0003 | loss  0.55 | ppl     1.74\n",
      "| epoch  32 |   275/  283 batches | lr 0.0003 | loss  0.55 | ppl     1.74\n",
      "Epoch: 33 | Epoch Time: 0m 7s\n",
      "\tTrain Loss: 0.015 | Val. Loss: 0.576\n",
      "| epoch  33 |    25/  283 batches | lr 0.0003 | loss  0.55 | ppl     1.73\n",
      "| epoch  33 |    50/  283 batches | lr 0.0003 | loss  0.51 | ppl     1.66\n",
      "| epoch  33 |    75/  283 batches | lr 0.0003 | loss  0.52 | ppl     1.68\n",
      "| epoch  33 |   100/  283 batches | lr 0.0003 | loss  0.51 | ppl     1.67\n",
      "| epoch  33 |   125/  283 batches | lr 0.0003 | loss  0.51 | ppl     1.67\n",
      "| epoch  33 |   150/  283 batches | lr 0.0003 | loss  0.53 | ppl     1.70\n",
      "| epoch  33 |   175/  283 batches | lr 0.0003 | loss  0.53 | ppl     1.70\n",
      "| epoch  33 |   200/  283 batches | lr 0.0003 | loss  0.52 | ppl     1.68\n",
      "| epoch  33 |   225/  283 batches | lr 0.0003 | loss  0.52 | ppl     1.69\n",
      "| epoch  33 |   250/  283 batches | lr 0.0003 | loss  0.52 | ppl     1.69\n",
      "| epoch  33 |   275/  283 batches | lr 0.0003 | loss  0.54 | ppl     1.71\n",
      "Epoch: 34 | Epoch Time: 0m 7s\n",
      "\tTrain Loss: 0.015 | Val. Loss: 0.575\n",
      "| epoch  34 |    25/  283 batches | lr 0.0003 | loss  0.48 | ppl     1.61\n",
      "| epoch  34 |    50/  283 batches | lr 0.0003 | loss  0.54 | ppl     1.71\n",
      "| epoch  34 |    75/  283 batches | lr 0.0003 | loss  0.54 | ppl     1.72\n",
      "| epoch  34 |   100/  283 batches | lr 0.0003 | loss  0.51 | ppl     1.67\n",
      "| epoch  34 |   125/  283 batches | lr 0.0003 | loss  0.52 | ppl     1.69\n",
      "| epoch  34 |   150/  283 batches | lr 0.0003 | loss  0.50 | ppl     1.65\n",
      "| epoch  34 |   175/  283 batches | lr 0.0003 | loss  0.51 | ppl     1.67\n",
      "| epoch  34 |   200/  283 batches | lr 0.0003 | loss  0.58 | ppl     1.79\n",
      "| epoch  34 |   225/  283 batches | lr 0.0003 | loss  0.52 | ppl     1.68\n",
      "| epoch  34 |   250/  283 batches | lr 0.0003 | loss  0.54 | ppl     1.71\n",
      "| epoch  34 |   275/  283 batches | lr 0.0003 | loss  0.53 | ppl     1.69\n",
      "Epoch: 35 | Epoch Time: 0m 6s\n",
      "\tTrain Loss: 0.016 | Val. Loss: 0.572\n",
      "| epoch  35 |    25/  283 batches | lr 0.0003 | loss  0.54 | ppl     1.71\n",
      "| epoch  35 |    50/  283 batches | lr 0.0003 | loss  0.46 | ppl     1.58\n",
      "| epoch  35 |    75/  283 batches | lr 0.0003 | loss  0.56 | ppl     1.76\n",
      "| epoch  35 |   100/  283 batches | lr 0.0003 | loss  0.55 | ppl     1.73\n",
      "| epoch  35 |   125/  283 batches | lr 0.0003 | loss  0.52 | ppl     1.68\n",
      "| epoch  35 |   150/  283 batches | lr 0.0003 | loss  0.52 | ppl     1.67\n",
      "| epoch  35 |   175/  283 batches | lr 0.0003 | loss  0.49 | ppl     1.63\n",
      "| epoch  35 |   200/  283 batches | lr 0.0003 | loss  0.53 | ppl     1.70\n",
      "| epoch  35 |   225/  283 batches | lr 0.0003 | loss  0.55 | ppl     1.73\n",
      "| epoch  35 |   250/  283 batches | lr 0.0003 | loss  0.51 | ppl     1.67\n",
      "| epoch  35 |   275/  283 batches | lr 0.0003 | loss  0.53 | ppl     1.70\n",
      "Epoch: 36 | Epoch Time: 0m 6s\n",
      "\tTrain Loss: 0.014 | Val. Loss: 0.572\n",
      "| epoch  36 |    25/  283 batches | lr 0.0003 | loss  0.55 | ppl     1.73\n",
      "| epoch  36 |    50/  283 batches | lr 0.0003 | loss  0.53 | ppl     1.71\n",
      "| epoch  36 |    75/  283 batches | lr 0.0003 | loss  0.51 | ppl     1.67\n",
      "| epoch  36 |   100/  283 batches | lr 0.0003 | loss  0.54 | ppl     1.72\n",
      "| epoch  36 |   125/  283 batches | lr 0.0003 | loss  0.57 | ppl     1.77\n",
      "| epoch  36 |   150/  283 batches | lr 0.0003 | loss  0.52 | ppl     1.68\n",
      "| epoch  36 |   175/  283 batches | lr 0.0003 | loss  0.55 | ppl     1.73\n",
      "| epoch  36 |   200/  283 batches | lr 0.0003 | loss  0.54 | ppl     1.71\n",
      "| epoch  36 |   225/  283 batches | lr 0.0003 | loss  0.52 | ppl     1.68\n",
      "| epoch  36 |   250/  283 batches | lr 0.0003 | loss  0.53 | ppl     1.69\n",
      "| epoch  36 |   275/  283 batches | lr 0.0003 | loss  0.52 | ppl     1.68\n",
      "Epoch: 37 | Epoch Time: 0m 6s\n",
      "\tTrain Loss: 0.015 | Val. Loss: 0.571\n",
      "| epoch  37 |    25/  283 batches | lr 0.0003 | loss  0.48 | ppl     1.62\n",
      "| epoch  37 |    50/  283 batches | lr 0.0003 | loss  0.52 | ppl     1.68\n",
      "| epoch  37 |    75/  283 batches | lr 0.0003 | loss  0.48 | ppl     1.62\n",
      "| epoch  37 |   100/  283 batches | lr 0.0003 | loss  0.50 | ppl     1.64\n",
      "| epoch  37 |   125/  283 batches | lr 0.0003 | loss  0.50 | ppl     1.64\n",
      "| epoch  37 |   150/  283 batches | lr 0.0003 | loss  0.54 | ppl     1.72\n",
      "| epoch  37 |   175/  283 batches | lr 0.0003 | loss  0.53 | ppl     1.70\n",
      "| epoch  37 |   200/  283 batches | lr 0.0003 | loss  0.56 | ppl     1.74\n",
      "| epoch  37 |   225/  283 batches | lr 0.0003 | loss  0.52 | ppl     1.67\n",
      "| epoch  37 |   250/  283 batches | lr 0.0003 | loss  0.53 | ppl     1.70\n",
      "| epoch  37 |   275/  283 batches | lr 0.0003 | loss  0.53 | ppl     1.70\n",
      "Epoch: 38 | Epoch Time: 0m 6s\n",
      "\tTrain Loss: 0.015 | Val. Loss: 0.569\n",
      "| epoch  38 |    25/  283 batches | lr 0.0003 | loss  0.52 | ppl     1.69\n",
      "| epoch  38 |    50/  283 batches | lr 0.0003 | loss  0.52 | ppl     1.68\n",
      "| epoch  38 |    75/  283 batches | lr 0.0003 | loss  0.55 | ppl     1.73\n",
      "| epoch  38 |   100/  283 batches | lr 0.0003 | loss  0.53 | ppl     1.70\n",
      "| epoch  38 |   125/  283 batches | lr 0.0003 | loss  0.47 | ppl     1.60\n",
      "| epoch  38 |   150/  283 batches | lr 0.0003 | loss  0.55 | ppl     1.73\n",
      "| epoch  38 |   175/  283 batches | lr 0.0003 | loss  0.53 | ppl     1.69\n",
      "| epoch  38 |   200/  283 batches | lr 0.0003 | loss  0.46 | ppl     1.59\n",
      "| epoch  38 |   225/  283 batches | lr 0.0003 | loss  0.53 | ppl     1.70\n",
      "| epoch  38 |   250/  283 batches | lr 0.0003 | loss  0.53 | ppl     1.69\n",
      "| epoch  38 |   275/  283 batches | lr 0.0003 | loss  0.50 | ppl     1.65\n",
      "Epoch: 39 | Epoch Time: 0m 6s\n",
      "\tTrain Loss: 0.015 | Val. Loss: 0.570\n",
      "| epoch  39 |    25/  283 batches | lr 0.0003 | loss  0.50 | ppl     1.65\n",
      "| epoch  39 |    50/  283 batches | lr 0.0003 | loss  0.55 | ppl     1.73\n",
      "| epoch  39 |    75/  283 batches | lr 0.0003 | loss  0.53 | ppl     1.69\n",
      "| epoch  39 |   100/  283 batches | lr 0.0003 | loss  0.48 | ppl     1.62\n",
      "| epoch  39 |   125/  283 batches | lr 0.0003 | loss  0.52 | ppl     1.68\n",
      "| epoch  39 |   150/  283 batches | lr 0.0003 | loss  0.54 | ppl     1.72\n",
      "| epoch  39 |   175/  283 batches | lr 0.0003 | loss  0.52 | ppl     1.67\n",
      "| epoch  39 |   200/  283 batches | lr 0.0003 | loss  0.52 | ppl     1.69\n",
      "| epoch  39 |   225/  283 batches | lr 0.0003 | loss  0.57 | ppl     1.77\n",
      "| epoch  39 |   250/  283 batches | lr 0.0003 | loss  0.56 | ppl     1.75\n",
      "| epoch  39 |   275/  283 batches | lr 0.0003 | loss  0.49 | ppl     1.63\n",
      "Epoch: 40 | Epoch Time: 0m 6s\n",
      "\tTrain Loss: 0.015 | Val. Loss: 0.567\n",
      "| epoch  40 |    25/  283 batches | lr 0.0003 | loss  0.54 | ppl     1.71\n",
      "| epoch  40 |    50/  283 batches | lr 0.0003 | loss  0.49 | ppl     1.62\n",
      "| epoch  40 |    75/  283 batches | lr 0.0003 | loss  0.51 | ppl     1.67\n",
      "| epoch  40 |   100/  283 batches | lr 0.0003 | loss  0.53 | ppl     1.70\n",
      "| epoch  40 |   125/  283 batches | lr 0.0003 | loss  0.46 | ppl     1.58\n",
      "| epoch  40 |   150/  283 batches | lr 0.0003 | loss  0.54 | ppl     1.72\n",
      "| epoch  40 |   175/  283 batches | lr 0.0003 | loss  0.52 | ppl     1.67\n",
      "| epoch  40 |   200/  283 batches | lr 0.0003 | loss  0.51 | ppl     1.66\n",
      "| epoch  40 |   225/  283 batches | lr 0.0003 | loss  0.53 | ppl     1.70\n",
      "| epoch  40 |   250/  283 batches | lr 0.0003 | loss  0.54 | ppl     1.71\n",
      "| epoch  40 |   275/  283 batches | lr 0.0003 | loss  0.52 | ppl     1.69\n",
      "Epoch: 41 | Epoch Time: 0m 6s\n",
      "\tTrain Loss: 0.015 | Val. Loss: 0.568\n",
      "| epoch  41 |    25/  283 batches | lr 0.0003 | loss  0.52 | ppl     1.67\n",
      "| epoch  41 |    50/  283 batches | lr 0.0003 | loss  0.48 | ppl     1.62\n",
      "| epoch  41 |    75/  283 batches | lr 0.0003 | loss  0.50 | ppl     1.65\n",
      "| epoch  41 |   100/  283 batches | lr 0.0003 | loss  0.53 | ppl     1.70\n",
      "| epoch  41 |   125/  283 batches | lr 0.0003 | loss  0.49 | ppl     1.63\n",
      "| epoch  41 |   150/  283 batches | lr 0.0003 | loss  0.45 | ppl     1.56\n",
      "| epoch  41 |   175/  283 batches | lr 0.0003 | loss  0.55 | ppl     1.74\n",
      "| epoch  41 |   200/  283 batches | lr 0.0003 | loss  0.47 | ppl     1.60\n",
      "| epoch  41 |   225/  283 batches | lr 0.0003 | loss  0.57 | ppl     1.76\n",
      "| epoch  41 |   250/  283 batches | lr 0.0003 | loss  0.52 | ppl     1.68\n",
      "| epoch  41 |   275/  283 batches | lr 0.0003 | loss  0.54 | ppl     1.72\n",
      "Epoch: 42 | Epoch Time: 0m 6s\n",
      "\tTrain Loss: 0.015 | Val. Loss: 0.566\n",
      "| epoch  42 |    25/  283 batches | lr 0.0003 | loss  0.55 | ppl     1.73\n",
      "| epoch  42 |    50/  283 batches | lr 0.0003 | loss  0.48 | ppl     1.61\n",
      "| epoch  42 |    75/  283 batches | lr 0.0003 | loss  0.50 | ppl     1.64\n",
      "| epoch  42 |   100/  283 batches | lr 0.0003 | loss  0.55 | ppl     1.73\n",
      "| epoch  42 |   125/  283 batches | lr 0.0003 | loss  0.51 | ppl     1.66\n",
      "| epoch  42 |   150/  283 batches | lr 0.0003 | loss  0.51 | ppl     1.66\n",
      "| epoch  42 |   175/  283 batches | lr 0.0003 | loss  0.51 | ppl     1.66\n",
      "| epoch  42 |   200/  283 batches | lr 0.0003 | loss  0.52 | ppl     1.69\n",
      "| epoch  42 |   225/  283 batches | lr 0.0003 | loss  0.49 | ppl     1.64\n",
      "| epoch  42 |   250/  283 batches | lr 0.0003 | loss  0.53 | ppl     1.70\n",
      "| epoch  42 |   275/  283 batches | lr 0.0003 | loss  0.51 | ppl     1.67\n",
      "Epoch: 43 | Epoch Time: 0m 6s\n",
      "\tTrain Loss: 0.015 | Val. Loss: 0.566\n",
      "| epoch  43 |    25/  283 batches | lr 0.0003 | loss  0.53 | ppl     1.70\n",
      "| epoch  43 |    50/  283 batches | lr 0.0003 | loss  0.52 | ppl     1.68\n",
      "| epoch  43 |    75/  283 batches | lr 0.0003 | loss  0.51 | ppl     1.66\n",
      "| epoch  43 |   100/  283 batches | lr 0.0003 | loss  0.51 | ppl     1.67\n",
      "| epoch  43 |   125/  283 batches | lr 0.0003 | loss  0.51 | ppl     1.67\n",
      "| epoch  43 |   150/  283 batches | lr 0.0003 | loss  0.50 | ppl     1.64\n",
      "| epoch  43 |   175/  283 batches | lr 0.0003 | loss  0.50 | ppl     1.66\n",
      "| epoch  43 |   200/  283 batches | lr 0.0003 | loss  0.48 | ppl     1.62\n",
      "| epoch  43 |   225/  283 batches | lr 0.0003 | loss  0.49 | ppl     1.64\n",
      "| epoch  43 |   250/  283 batches | lr 0.0003 | loss  0.51 | ppl     1.67\n",
      "| epoch  43 |   275/  283 batches | lr 0.0003 | loss  0.50 | ppl     1.65\n",
      "Epoch: 44 | Epoch Time: 0m 6s\n",
      "\tTrain Loss: 0.014 | Val. Loss: 0.566\n",
      "| epoch  44 |    25/  283 batches | lr 0.0003 | loss  0.50 | ppl     1.65\n",
      "| epoch  44 |    50/  283 batches | lr 0.0003 | loss  0.49 | ppl     1.64\n",
      "| epoch  44 |    75/  283 batches | lr 0.0003 | loss  0.49 | ppl     1.63\n",
      "| epoch  44 |   100/  283 batches | lr 0.0003 | loss  0.51 | ppl     1.66\n",
      "| epoch  44 |   125/  283 batches | lr 0.0003 | loss  0.44 | ppl     1.56\n",
      "| epoch  44 |   150/  283 batches | lr 0.0003 | loss  0.52 | ppl     1.68\n",
      "| epoch  44 |   175/  283 batches | lr 0.0003 | loss  0.51 | ppl     1.66\n",
      "| epoch  44 |   200/  283 batches | lr 0.0003 | loss  0.50 | ppl     1.64\n",
      "| epoch  44 |   225/  283 batches | lr 0.0003 | loss  0.49 | ppl     1.63\n",
      "| epoch  44 |   250/  283 batches | lr 0.0003 | loss  0.54 | ppl     1.72\n",
      "| epoch  44 |   275/  283 batches | lr 0.0003 | loss  0.56 | ppl     1.74\n",
      "Epoch: 45 | Epoch Time: 0m 7s\n",
      "\tTrain Loss: 0.014 | Val. Loss: 0.565\n",
      "| epoch  45 |    25/  283 batches | lr 0.0003 | loss  0.52 | ppl     1.69\n",
      "| epoch  45 |    50/  283 batches | lr 0.0003 | loss  0.51 | ppl     1.66\n",
      "| epoch  45 |    75/  283 batches | lr 0.0003 | loss  0.52 | ppl     1.68\n",
      "| epoch  45 |   100/  283 batches | lr 0.0003 | loss  0.56 | ppl     1.75\n",
      "| epoch  45 |   125/  283 batches | lr 0.0003 | loss  0.45 | ppl     1.57\n",
      "| epoch  45 |   150/  283 batches | lr 0.0003 | loss  0.49 | ppl     1.63\n",
      "| epoch  45 |   175/  283 batches | lr 0.0003 | loss  0.51 | ppl     1.66\n",
      "| epoch  45 |   200/  283 batches | lr 0.0003 | loss  0.49 | ppl     1.62\n",
      "| epoch  45 |   225/  283 batches | lr 0.0003 | loss  0.51 | ppl     1.66\n",
      "| epoch  45 |   250/  283 batches | lr 0.0003 | loss  0.50 | ppl     1.65\n",
      "| epoch  45 |   275/  283 batches | lr 0.0003 | loss  0.53 | ppl     1.70\n",
      "Epoch: 46 | Epoch Time: 0m 6s\n",
      "\tTrain Loss: 0.014 | Val. Loss: 0.565\n",
      "| epoch  46 |    25/  283 batches | lr 0.0003 | loss  0.50 | ppl     1.65\n",
      "| epoch  46 |    50/  283 batches | lr 0.0003 | loss  0.51 | ppl     1.66\n",
      "| epoch  46 |    75/  283 batches | lr 0.0003 | loss  0.51 | ppl     1.67\n",
      "| epoch  46 |   100/  283 batches | lr 0.0003 | loss  0.52 | ppl     1.68\n",
      "| epoch  46 |   125/  283 batches | lr 0.0003 | loss  0.55 | ppl     1.73\n",
      "| epoch  46 |   150/  283 batches | lr 0.0003 | loss  0.52 | ppl     1.69\n",
      "| epoch  46 |   175/  283 batches | lr 0.0003 | loss  0.47 | ppl     1.60\n",
      "| epoch  46 |   200/  283 batches | lr 0.0003 | loss  0.50 | ppl     1.65\n",
      "| epoch  46 |   225/  283 batches | lr 0.0003 | loss  0.53 | ppl     1.71\n",
      "| epoch  46 |   250/  283 batches | lr 0.0003 | loss  0.50 | ppl     1.66\n",
      "| epoch  46 |   275/  283 batches | lr 0.0003 | loss  0.50 | ppl     1.65\n",
      "Epoch: 47 | Epoch Time: 0m 6s\n",
      "\tTrain Loss: 0.014 | Val. Loss: 0.563\n",
      "| epoch  47 |    25/  283 batches | lr 0.0003 | loss  0.47 | ppl     1.60\n",
      "| epoch  47 |    50/  283 batches | lr 0.0003 | loss  0.49 | ppl     1.63\n",
      "| epoch  47 |    75/  283 batches | lr 0.0003 | loss  0.50 | ppl     1.66\n",
      "| epoch  47 |   100/  283 batches | lr 0.0003 | loss  0.57 | ppl     1.76\n",
      "| epoch  47 |   125/  283 batches | lr 0.0003 | loss  0.46 | ppl     1.59\n",
      "| epoch  47 |   150/  283 batches | lr 0.0003 | loss  0.51 | ppl     1.67\n",
      "| epoch  47 |   175/  283 batches | lr 0.0003 | loss  0.52 | ppl     1.68\n",
      "| epoch  47 |   200/  283 batches | lr 0.0003 | loss  0.50 | ppl     1.65\n",
      "| epoch  47 |   225/  283 batches | lr 0.0003 | loss  0.53 | ppl     1.70\n",
      "| epoch  47 |   250/  283 batches | lr 0.0003 | loss  0.54 | ppl     1.71\n",
      "| epoch  47 |   275/  283 batches | lr 0.0003 | loss  0.51 | ppl     1.66\n",
      "Epoch: 48 | Epoch Time: 0m 6s\n",
      "\tTrain Loss: 0.014 | Val. Loss: 0.563\n",
      "| epoch  48 |    25/  283 batches | lr 0.0003 | loss  0.48 | ppl     1.62\n",
      "| epoch  48 |    50/  283 batches | lr 0.0003 | loss  0.46 | ppl     1.59\n",
      "| epoch  48 |    75/  283 batches | lr 0.0003 | loss  0.49 | ppl     1.64\n",
      "| epoch  48 |   100/  283 batches | lr 0.0003 | loss  0.44 | ppl     1.56\n",
      "| epoch  48 |   125/  283 batches | lr 0.0003 | loss  0.45 | ppl     1.57\n",
      "| epoch  48 |   150/  283 batches | lr 0.0003 | loss  0.55 | ppl     1.74\n",
      "| epoch  48 |   175/  283 batches | lr 0.0003 | loss  0.51 | ppl     1.67\n",
      "| epoch  48 |   200/  283 batches | lr 0.0003 | loss  0.49 | ppl     1.63\n",
      "| epoch  48 |   225/  283 batches | lr 0.0003 | loss  0.51 | ppl     1.67\n",
      "| epoch  48 |   250/  283 batches | lr 0.0003 | loss  0.53 | ppl     1.69\n",
      "| epoch  48 |   275/  283 batches | lr 0.0003 | loss  0.50 | ppl     1.66\n",
      "Epoch: 49 | Epoch Time: 0m 6s\n",
      "\tTrain Loss: 0.014 | Val. Loss: 0.562\n",
      "| epoch  49 |    25/  283 batches | lr 0.0003 | loss  0.48 | ppl     1.62\n",
      "| epoch  49 |    50/  283 batches | lr 0.0003 | loss  0.46 | ppl     1.58\n",
      "| epoch  49 |    75/  283 batches | lr 0.0003 | loss  0.49 | ppl     1.63\n",
      "| epoch  49 |   100/  283 batches | lr 0.0003 | loss  0.51 | ppl     1.66\n",
      "| epoch  49 |   125/  283 batches | lr 0.0003 | loss  0.45 | ppl     1.56\n",
      "| epoch  49 |   150/  283 batches | lr 0.0003 | loss  0.44 | ppl     1.56\n",
      "| epoch  49 |   175/  283 batches | lr 0.0003 | loss  0.49 | ppl     1.64\n",
      "| epoch  49 |   200/  283 batches | lr 0.0003 | loss  0.55 | ppl     1.74\n",
      "| epoch  49 |   225/  283 batches | lr 0.0003 | loss  0.54 | ppl     1.71\n",
      "| epoch  49 |   250/  283 batches | lr 0.0003 | loss  0.52 | ppl     1.69\n",
      "| epoch  49 |   275/  283 batches | lr 0.0003 | loss  0.48 | ppl     1.61\n",
      "Epoch: 50 | Epoch Time: 0m 6s\n",
      "\tTrain Loss: 0.014 | Val. Loss: 0.562\n"
     ]
    }
   ],
   "source": [
    "N_EPOCHS = 50\n",
    "\n",
    "best_valid_loss = float('inf')\n",
    "counter = 0\n",
    "patience = 5\n",
    "log_interval = 25\n",
    "plot_every = 10\n",
    "train_loses = []\n",
    "valid_loses = []\n",
    "\n",
    "for epoch in range(N_EPOCHS):\n",
    "\n",
    "    start_time = time.time()\n",
    "\n",
    "    train_loss = train(model, train_loader, optimizer, criterion)\n",
    "    valid_loss = evaluate(model, valid_loader, criterion)\n",
    "    \n",
    "    end_time = time.time()\n",
    "\n",
    "    epoch_mins, epoch_secs = epoch_time(start_time, end_time)\n",
    "\n",
    "    print(f'Epoch: {epoch+1:02} | Epoch Time: {epoch_mins}m {epoch_secs}s')\n",
    "    print(f'\\tTrain Loss: {train_loss:.3f} | Val. Loss: {valid_loss:.3f}')\n",
    "    \n",
    "    train_loses.append(train_loss)\n",
    "    valid_loses.append(valid_loss)\n",
    "\n",
    "    if valid_loss < best_valid_loss:\n",
    "        best_valid_loss = valid_loss\n",
    "        #torch.save(model.state_dict(), 'tut2-model.pt')\n",
    "        counter = 0 \n",
    "    else:\n",
    "        counter += 1\n",
    "        if counter >= patience:\n",
    "            break"
   ]
  },
  {
   "cell_type": "code",
   "execution_count": 37,
   "metadata": {
    "colab": {
     "base_uri": "https://localhost:8080/",
     "height": 282
    },
    "colab_type": "code",
    "executionInfo": {
     "elapsed": 951,
     "status": "ok",
     "timestamp": 1591637780100,
     "user": {
      "displayName": "Daniel Cuiñas Vázquez",
      "photoUrl": "",
      "userId": "11552885780691803973"
     },
     "user_tz": -120
    },
    "id": "XCOuGxd3WRnI",
    "outputId": "22ec9662-0782-4fed-8e46-b68c183156f5"
   },
   "outputs": [
    {
     "data": {
      "text/plain": [
       "[<matplotlib.lines.Line2D at 0x7fbceae5d2e8>]"
      ]
     },
     "execution_count": 37,
     "metadata": {
      "tags": []
     },
     "output_type": "execute_result"
    },
    {
     "data": {
      "image/png": "[encoded data removed]",
      "text/plain": [
       "<Figure size 432x288 with 1 Axes>"
      ]
     },
     "metadata": {
      "needs_background": "light",
      "tags": []
     },
     "output_type": "display_data"
    }
   ],
   "source": [
    "import matplotlib.pyplot as plt\n",
    "import matplotlib.ticker as ticker\n",
    "\n",
    "plt.figure()\n",
    "# plt.plot(train_loses)\n",
    "plt.plot(valid_loses)"
   ]
  },
  {
   "cell_type": "code",
   "execution_count": 38,
   "metadata": {
    "colab": {
     "base_uri": "https://localhost:8080/",
     "height": 34
    },
    "colab_type": "code",
    "executionInfo": {
     "elapsed": 889,
     "status": "ok",
     "timestamp": 1591637783204,
     "user": {
      "displayName": "Daniel Cuiñas Vázquez",
      "photoUrl": "",
      "userId": "11552885780691803973"
     },
     "user_tz": -120
    },
    "id": "fydt-eAaZW5l",
    "outputId": "3e7ecb12-9756-480c-8d6b-f51e7437fe2f"
   },
   "outputs": [
    {
     "data": {
      "text/plain": [
       "0.5631688719704038"
      ]
     },
     "execution_count": 38,
     "metadata": {
      "tags": []
     },
     "output_type": "execute_result"
    }
   ],
   "source": [
    "evaluate(model, test_loader, criterion)"
   ]
  },
  {
   "cell_type": "code",
   "execution_count": 0,
   "metadata": {
    "colab": {},
    "colab_type": "code",
    "id": "Zhlj8b_-WrWB"
   },
   "outputs": [],
   "source": [
    "def sample(category_, prime_str, predict_len = 10):\n",
    "    cat_input = categoryArray(all_categories[category_])\n",
    "    cat_tensor = torch.tensor(cat_input).unsqueeze(0).float()\n",
    "    word_indexes = [dict_words[li] for li in prime_str]\n",
    "    prime_input = torch.tensor(word_indexes).unsqueeze(1)\n",
    "    prime_input = prime_input.to(device)\n",
    "    cat_tensor = cat_tensor.to(device)\n",
    "    hidden = model.init_hidden(1)\n",
    "    hidden = hidden.to(device)\n",
    "    # Use priming string to \"build up\" hidden state\n",
    "    with torch.no_grad():\n",
    "        for p in range(len(prime_str) - 1):\n",
    "            _, hidden = model(cat_tensor, prime_input[p], hidden)\n",
    "\n",
    "        inp = prime_input[-1]\n",
    "        inp = inp.to(device)\n",
    "        predicted = prime_str\n",
    "        tops = []\n",
    "        for i in range(predict_len):\n",
    "            output, hidden = model(cat_tensor, inp, hidden)\n",
    "            topv, topp = output.topk(1)\n",
    "            _, topps = output.topk(20)\n",
    "            tops.append(topps)\n",
    "            topi = topp[0][0].item()\n",
    "            if topi == 1:\n",
    "                break   \n",
    "            else:\n",
    "                letter = int_2_vocab[topi]\n",
    "                predicted += letter\n",
    "            inp = [dict_words[letter]]\n",
    "            inp = torch.tensor(inp).to(device)\n",
    "\n",
    "    return predicted"
   ]
  },
  {
   "cell_type": "code",
   "execution_count": 42,
   "metadata": {
    "colab": {
     "base_uri": "https://localhost:8080/",
     "height": 34
    },
    "colab_type": "code",
    "executionInfo": {
     "elapsed": 935,
     "status": "ok",
     "timestamp": 1591637802967,
     "user": {
      "displayName": "Daniel Cuiñas Vázquez",
      "photoUrl": "",
      "userId": "11552885780691803973"
     },
     "user_tz": -120
    },
    "id": "X_ACMUgxhM_n",
    "outputId": "59a34fb6-2c89-4999-d388-9c20d9acc8e5"
   },
   "outputs": [
    {
     "data": {
      "text/plain": [
       "'Vitori'"
      ]
     },
     "execution_count": 42,
     "metadata": {
      "tags": []
     },
     "output_type": "execute_result"
    }
   ],
   "source": [
    "sample('Italian',\"Vit\")"
   ]
  },
  {
   "cell_type": "code",
   "execution_count": 43,
   "metadata": {
    "colab": {
     "base_uri": "https://localhost:8080/",
     "height": 34
    },
    "colab_type": "code",
    "executionInfo": {
     "elapsed": 886,
     "status": "ok",
     "timestamp": 1591637808719,
     "user": {
      "displayName": "Daniel Cuiñas Vázquez",
      "photoUrl": "",
      "userId": "11552885780691803973"
     },
     "user_tz": -120
    },
    "id": "jM_q4pATYXyG",
    "outputId": "c4c8f1a3-d96a-4d47-ee33-63a21f459758"
   },
   "outputs": [
    {
     "data": {
      "text/plain": [
       "'Rimino'"
      ]
     },
     "execution_count": 43,
     "metadata": {
      "tags": []
     },
     "output_type": "execute_result"
    }
   ],
   "source": [
    "sample('Italian','Rimin')"
   ]
  },
  {
   "cell_type": "code",
   "execution_count": 0,
   "metadata": {
    "colab": {
     "base_uri": "https://localhost:8080/",
     "height": 419
    },
    "colab_type": "code",
    "executionInfo": {
     "elapsed": 334036,
     "status": "ok",
     "timestamp": 1591210910634,
     "user": {
      "displayName": "Daniel Cuiñas Vázquez",
      "photoUrl": "",
      "userId": "11552885780691803973"
     },
     "user_tz": -120
    },
    "id": "VGNYHiDDwaVv",
    "outputId": "df3f8484-6977-4937-c33c-7df767859553"
   },
   "outputs": [
    {
     "data": {
      "text/html": [
       "<div>\n",
       "<style scoped>\n",
       "    .dataframe tbody tr th:only-of-type {\n",
       "        vertical-align: middle;\n",
       "    }\n",
       "\n",
       "    .dataframe tbody tr th {\n",
       "        vertical-align: top;\n",
       "    }\n",
       "\n",
       "    .dataframe thead th {\n",
       "        text-align: right;\n",
       "    }\n",
       "</style>\n",
       "<table border=\"1\" class=\"dataframe\">\n",
       "  <thead>\n",
       "    <tr style=\"text-align: right;\">\n",
       "      <th></th>\n",
       "      <th>category_</th>\n",
       "      <th>name</th>\n",
       "      <th>len</th>\n",
       "      <th>category</th>\n",
       "    </tr>\n",
       "  </thead>\n",
       "  <tbody>\n",
       "    <tr>\n",
       "      <th>4447</th>\n",
       "      <td>Italian</td>\n",
       "      <td>Bartalotti</td>\n",
       "      <td>10</td>\n",
       "      <td>[0.0, 0.0, 0.0, 1.0, 0.0, 0.0, 0.0, 0.0, 0.0, ...</td>\n",
       "    </tr>\n",
       "    <tr>\n",
       "      <th>4292</th>\n",
       "      <td>Italian</td>\n",
       "      <td>Abatescianni</td>\n",
       "      <td>12</td>\n",
       "      <td>[0.0, 0.0, 0.0, 1.0, 0.0, 0.0, 0.0, 0.0, 0.0, ...</td>\n",
       "    </tr>\n",
       "    <tr>\n",
       "      <th>4368</th>\n",
       "      <td>Italian</td>\n",
       "      <td>Albrici</td>\n",
       "      <td>7</td>\n",
       "      <td>[0.0, 0.0, 0.0, 1.0, 0.0, 0.0, 0.0, 0.0, 0.0, ...</td>\n",
       "    </tr>\n",
       "    <tr>\n",
       "      <th>4886</th>\n",
       "      <td>Italian</td>\n",
       "      <td>Sapienti</td>\n",
       "      <td>8</td>\n",
       "      <td>[0.0, 0.0, 0.0, 1.0, 0.0, 0.0, 0.0, 0.0, 0.0, ...</td>\n",
       "    </tr>\n",
       "    <tr>\n",
       "      <th>4899</th>\n",
       "      <td>Italian</td>\n",
       "      <td>Scotti</td>\n",
       "      <td>6</td>\n",
       "      <td>[0.0, 0.0, 0.0, 1.0, 0.0, 0.0, 0.0, 0.0, 0.0, ...</td>\n",
       "    </tr>\n",
       "    <tr>\n",
       "      <th>...</th>\n",
       "      <td>...</td>\n",
       "      <td>...</td>\n",
       "      <td>...</td>\n",
       "      <td>...</td>\n",
       "    </tr>\n",
       "    <tr>\n",
       "      <th>4979</th>\n",
       "      <td>Italian</td>\n",
       "      <td>Vico</td>\n",
       "      <td>4</td>\n",
       "      <td>[0.0, 0.0, 0.0, 1.0, 0.0, 0.0, 0.0, 0.0, 0.0, ...</td>\n",
       "    </tr>\n",
       "    <tr>\n",
       "      <th>4611</th>\n",
       "      <td>Italian</td>\n",
       "      <td>Fierro</td>\n",
       "      <td>6</td>\n",
       "      <td>[0.0, 0.0, 0.0, 1.0, 0.0, 0.0, 0.0, 0.0, 0.0, ...</td>\n",
       "    </tr>\n",
       "    <tr>\n",
       "      <th>4301</th>\n",
       "      <td>Italian</td>\n",
       "      <td>Abbiati</td>\n",
       "      <td>7</td>\n",
       "      <td>[0.0, 0.0, 0.0, 1.0, 0.0, 0.0, 0.0, 0.0, 0.0, ...</td>\n",
       "    </tr>\n",
       "    <tr>\n",
       "      <th>4650</th>\n",
       "      <td>Italian</td>\n",
       "      <td>Guttuso</td>\n",
       "      <td>7</td>\n",
       "      <td>[0.0, 0.0, 0.0, 1.0, 0.0, 0.0, 0.0, 0.0, 0.0, ...</td>\n",
       "    </tr>\n",
       "    <tr>\n",
       "      <th>4815</th>\n",
       "      <td>Italian</td>\n",
       "      <td>Pisani</td>\n",
       "      <td>6</td>\n",
       "      <td>[0.0, 0.0, 0.0, 1.0, 0.0, 0.0, 0.0, 0.0, 0.0, ...</td>\n",
       "    </tr>\n",
       "  </tbody>\n",
       "</table>\n",
       "<p>709 rows × 4 columns</p>\n",
       "</div>"
      ],
      "text/plain": [
       "     category_  ...                                           category\n",
       "4447   Italian  ...  [0.0, 0.0, 0.0, 1.0, 0.0, 0.0, 0.0, 0.0, 0.0, ...\n",
       "4292   Italian  ...  [0.0, 0.0, 0.0, 1.0, 0.0, 0.0, 0.0, 0.0, 0.0, ...\n",
       "4368   Italian  ...  [0.0, 0.0, 0.0, 1.0, 0.0, 0.0, 0.0, 0.0, 0.0, ...\n",
       "4886   Italian  ...  [0.0, 0.0, 0.0, 1.0, 0.0, 0.0, 0.0, 0.0, 0.0, ...\n",
       "4899   Italian  ...  [0.0, 0.0, 0.0, 1.0, 0.0, 0.0, 0.0, 0.0, 0.0, ...\n",
       "...        ...  ...                                                ...\n",
       "4979   Italian  ...  [0.0, 0.0, 0.0, 1.0, 0.0, 0.0, 0.0, 0.0, 0.0, ...\n",
       "4611   Italian  ...  [0.0, 0.0, 0.0, 1.0, 0.0, 0.0, 0.0, 0.0, 0.0, ...\n",
       "4301   Italian  ...  [0.0, 0.0, 0.0, 1.0, 0.0, 0.0, 0.0, 0.0, 0.0, ...\n",
       "4650   Italian  ...  [0.0, 0.0, 0.0, 1.0, 0.0, 0.0, 0.0, 0.0, 0.0, ...\n",
       "4815   Italian  ...  [0.0, 0.0, 0.0, 1.0, 0.0, 0.0, 0.0, 0.0, 0.0, ...\n",
       "\n",
       "[709 rows x 4 columns]"
      ]
     },
     "execution_count": 42,
     "metadata": {
      "tags": []
     },
     "output_type": "execute_result"
    }
   ],
   "source": [
    "df[df['category_']=='Italian']"
   ]
  },
  {
   "cell_type": "code",
   "execution_count": 0,
   "metadata": {
    "colab": {},
    "colab_type": "code",
    "id": "GSJ-RgVlyEn_"
   },
   "outputs": [],
   "source": []
  }
 ],
 "metadata": {
  "accelerator": "GPU",
  "colab": {
   "authorship_tag": "ABX9TyM8Gp9bGVG561zjpb4yi7Et",
   "collapsed_sections": [],
   "name": "GRU_batch.ipynb",
   "provenance": []
  },
  "kernelspec": {
   "display_name": "Python 3",
   "language": "python",
   "name": "python3"
  },
  "language_info": {
   "codemirror_mode": {
    "name": "ipython",
    "version": 3
   },
   "file_extension": ".py",
   "mimetype": "text/x-python",
   "name": "python",
   "nbconvert_exporter": "python",
   "pygments_lexer": "ipython3",
   "version": "3.7.4"
  }
 },
 "nbformat": 4,
 "nbformat_minor": 1
}
