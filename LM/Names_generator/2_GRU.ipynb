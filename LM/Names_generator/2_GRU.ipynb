{
 "cells": [
  {
   "cell_type": "code",
   "execution_count": 0,
   "metadata": {
    "colab": {},
    "colab_type": "code",
    "id": "JIBRLmwoueza"
   },
   "outputs": [],
   "source": [
    "from io import open\n",
    "import glob\n",
    "import os\n",
    "import unicodedata\n",
    "import string\n",
    "\n",
    "all_letters = string.ascii_letters + \" .,;'-\"\n",
    "n_letters = len(all_letters) + 1 # Plus EOS marker\n",
    "\n",
    "def findFiles(path):\n",
    "   return glob.glob(path)"
   ]
  },
  {
   "cell_type": "code",
   "execution_count": 0,
   "metadata": {
    "colab": {},
    "colab_type": "code",
    "id": "71QUJ179ulxt"
   },
   "outputs": [],
   "source": [
    "# Turn a Unicode string to plain ASCII, thanks to https://stackoverflow.com/a/518232/2809427\n",
    "def unicodeToAscii(s):\n",
    "    return ''.join(\n",
    "        c for c in unicodedata.normalize('NFD', s)\n",
    "        if unicodedata.category(c) != 'Mn'\n",
    "        and c in all_letters\n",
    "    )\n",
    "\n",
    "# Read a file and split into lines\n",
    "def readLines(filename):\n",
    "    lines = open(filename, encoding='utf-8').read().strip().split('\\n')\n",
    "    return [unicodeToAscii(line) for line in lines]"
   ]
  },
  {
   "cell_type": "code",
   "execution_count": 0,
   "metadata": {
    "colab": {},
    "colab_type": "code",
    "id": "X-S-n36husc0"
   },
   "outputs": [],
   "source": [
    "# Build the category_lines dictionary, a list of lines per category\n",
    "category_lines = {}\n",
    "all_categories = []\n",
    "for filename in findFiles('data/names/*.txt'):\n",
    "    category = os.path.splitext(os.path.basename(filename))[0]\n",
    "    all_categories.append(category)\n",
    "    lines = readLines(filename)\n",
    "    category_lines[category] = lines\n",
    "\n",
    "n_categories = len(all_categories)"
   ]
  },
  {
   "cell_type": "code",
   "execution_count": 5,
   "metadata": {
    "colab": {
     "base_uri": "https://localhost:8080/",
     "height": 71
    },
    "colab_type": "code",
    "executionInfo": {
     "elapsed": 13252,
     "status": "ok",
     "timestamp": 1591207604164,
     "user": {
      "displayName": "Daniel Cuiñas Vázquez",
      "photoUrl": "",
      "userId": "11552885780691803973"
     },
     "user_tz": -120
    },
    "id": "9c__wFpuuuZq",
    "outputId": "8224e13e-06bf-44d9-ce43-5e1aa7786ab0"
   },
   "outputs": [
    {
     "name": "stdout",
     "output_type": "stream",
     "text": [
      "# categories: 18 ['Czech', 'English', 'Scottish', 'Italian', 'Polish', 'Greek', 'Dutch', 'German', 'Japanese', 'Korean', 'Arabic', 'Portuguese', 'Russian', 'Vietnamese', 'Irish', 'Spanish', 'French', 'Chinese']\n",
      "O'Neal\n"
     ]
    }
   ],
   "source": [
    "print('# categories:', n_categories, all_categories)\n",
    "print(unicodeToAscii(\"O'Néàl\"))"
   ]
  },
  {
   "cell_type": "code",
   "execution_count": 0,
   "metadata": {
    "colab": {},
    "colab_type": "code",
    "id": "7Bonrb5OCua7"
   },
   "outputs": [],
   "source": [
    "import torch\n",
    "import random\n",
    "\n",
    "# Random item from a list\n",
    "def randomChoice(l):\n",
    "    return l[random.randint(0, len(l) - 1)]\n",
    "\n",
    "# Get a random category and random line from that category\n",
    "def randomTrainingPair():\n",
    "    category = randomChoice(all_categories)\n",
    "    line = randomChoice(category_lines[category])\n",
    "    return category, line\n",
    "\n",
    "# One-hot vector for category\n",
    "def categoryTensor(category):\n",
    "    li = all_categories.index(category)\n",
    "    tensor = torch.zeros(1, n_categories)\n",
    "    tensor[0][li] = 1\n",
    "    return tensor\n",
    "\n",
    "# One-hot matrix of first to last letters (not including EOS) for input\n",
    "def inputTensor(line):\n",
    "    letter_indexes = [all_letters.find(line[li]) for li in range(0, len(line))]\n",
    "    return torch.tensor(letter_indexes).unsqueeze(1)\n",
    "\n",
    "# LongTensor of second letter to end (EOS) for target\n",
    "def targetTensor(line):\n",
    "    letter_indexes = [all_letters.find(line[li]) for li in range(1, len(line))]\n",
    "    letter_indexes.append(n_letters - 1) # EOS\n",
    "    return torch.LongTensor(letter_indexes).unsqueeze(1)"
   ]
  },
  {
   "cell_type": "code",
   "execution_count": 7,
   "metadata": {
    "colab": {
     "base_uri": "https://localhost:8080/",
     "height": 34
    },
    "colab_type": "code",
    "executionInfo": {
     "elapsed": 1403,
     "status": "ok",
     "timestamp": 1591207609161,
     "user": {
      "displayName": "Daniel Cuiñas Vázquez",
      "photoUrl": "",
      "userId": "11552885780691803973"
     },
     "user_tz": -120
    },
    "id": "oTm_LARcvtiF",
    "outputId": "8571f90a-6a60-494d-d057-6bea44e3e0b7"
   },
   "outputs": [
    {
     "name": "stdout",
     "output_type": "stream",
     "text": [
      "cpu\n"
     ]
    }
   ],
   "source": [
    "device = torch.device(\"cuda\" if torch.cuda.is_available() else \"cpu\")\n",
    "\n",
    "print(device)"
   ]
  },
  {
   "cell_type": "code",
   "execution_count": 0,
   "metadata": {
    "colab": {},
    "colab_type": "code",
    "id": "18MV1gnLvtkt"
   },
   "outputs": [],
   "source": [
    "def randomTrainingExample():\n",
    "    category, line = randomTrainingPair()\n",
    "    category_tensor = categoryTensor(category)\n",
    "    input_line_tensor = inputTensor(line)\n",
    "    target_line_tensor = targetTensor(line)\n",
    "    return category_tensor.to(device), input_line_tensor.to(device), target_line_tensor.to(device)"
   ]
  },
  {
   "cell_type": "code",
   "execution_count": 0,
   "metadata": {
    "colab": {},
    "colab_type": "code",
    "id": "XW4mc0OlvtnU"
   },
   "outputs": [],
   "source": [
    "import torch.nn as nn\n",
    "import torch.nn.functional as F\n",
    "\n",
    "class Gru(nn.Module):\n",
    "    def __init__(self, input_dim, embed_dim, hid_dim, n_layers, dropout):\n",
    "      super().__init__()\n",
    "      self.input_dim = input_dim\n",
    "      self.n_layers = n_layers\n",
    "      self.hid_dim = hid_dim\n",
    "\n",
    "      self.embedding = nn.Embedding(input_dim, embed_dim)\n",
    "\n",
    "      self.rnn = nn.GRU(embed_dim+n_categories,\n",
    "                        hid_dim, \n",
    "                        num_layers=n_layers, \n",
    "                        dropout = 0 if n_layers < 2 else dropout)\n",
    "      \n",
    "      self.fc = nn.Linear(hid_dim, input_dim)\n",
    "\n",
    "    def forward(self, cat, inputs, hidden):\n",
    "\n",
    "      #cat = [batch size, n_cats]\n",
    "      #inputs = [batch size]\n",
    "\n",
    "      emb = self.embedding(inputs)\n",
    "\n",
    "      #emb = [batch size, emb dim]\n",
    "\n",
    "      combined_input = torch.cat((cat, emb), 1)\n",
    "\n",
    "      #combined_input = [batch size, n_cats + emb dim]\n",
    "\n",
    "      combined_input=combined_input.unsqueeze(1)\n",
    "\n",
    "      #combined_input = [batch size, 1, n_cats + emb dim]\n",
    "\n",
    "      output, hidden = self.rnn(combined_input, hidden)\n",
    "\n",
    "      #output = [batch size, 1, hid dim * num directions dim]\n",
    "      #hidden = [n layers * num directions, batch size, hid dim]\n",
    "\n",
    "      output = self.fc(output)\n",
    "\n",
    "      #output = [batch size, 1, input dim]\n",
    "\n",
    "      output = output.view(-1, self.input_dim)\n",
    "\n",
    "      #output = [batch size*1, input_dim] == [1, input dim]\n",
    "\n",
    "      return F.log_softmax(output, dim=1), hidden\n",
    "\n",
    "    def init_hidden(self, bsz):\n",
    "        weight = next(self.parameters())\n",
    "\n",
    "        return weight.new_zeros(self.n_layers, bsz, self.hid_dim)"
   ]
  },
  {
   "cell_type": "code",
   "execution_count": 0,
   "metadata": {
    "colab": {},
    "colab_type": "code",
    "id": "2xGmh4PDvtqz"
   },
   "outputs": [],
   "source": [
    "embed_dim=50\n",
    "hid_dim=128\n",
    "n_layers =1\n",
    "dropout = 0.1\n",
    "\n",
    "model = Gru(n_letters, embed_dim, hid_dim, n_layers, dropout)"
   ]
  },
  {
   "cell_type": "code",
   "execution_count": 11,
   "metadata": {
    "colab": {
     "base_uri": "https://localhost:8080/",
     "height": 34
    },
    "colab_type": "code",
    "executionInfo": {
     "elapsed": 1382,
     "status": "ok",
     "timestamp": 1591207609165,
     "user": {
      "displayName": "Daniel Cuiñas Vázquez",
      "photoUrl": "",
      "userId": "11552885780691803973"
     },
     "user_tz": -120
    },
    "id": "eqyScvwG0d0c",
    "outputId": "4ee9a227-c358-4e6a-c279-667b27382660"
   },
   "outputs": [
    {
     "name": "stdout",
     "output_type": "stream",
     "text": [
      "The model has 86,593 trainable parameters\n"
     ]
    }
   ],
   "source": [
    "def count_parameters(model):\n",
    "    return sum(p.numel() for p in model.parameters() if p.requires_grad)\n",
    "\n",
    "print(f'The model has {count_parameters(model):,} trainable parameters')"
   ]
  },
  {
   "cell_type": "code",
   "execution_count": 0,
   "metadata": {
    "colab": {},
    "colab_type": "code",
    "id": "PS76ccD81Jre"
   },
   "outputs": [],
   "source": [
    "import torch.optim as optim\n",
    "\n",
    "criterion = nn.NLLLoss()"
   ]
  },
  {
   "cell_type": "code",
   "execution_count": 0,
   "metadata": {
    "colab": {},
    "colab_type": "code",
    "id": "CqK3e2A670xC"
   },
   "outputs": [],
   "source": [
    "model=model.to(device)\n",
    "criterion=criterion.to(device)"
   ]
  },
  {
   "cell_type": "code",
   "execution_count": 0,
   "metadata": {
    "colab": {},
    "colab_type": "code",
    "id": "2_UtAQ-6ZB56"
   },
   "outputs": [],
   "source": [
    "learning_rate = 0.0003\n",
    "optimizer = optim.Adam(model.parameters(), learning_rate)"
   ]
  },
  {
   "cell_type": "code",
   "execution_count": 0,
   "metadata": {
    "colab": {},
    "colab_type": "code",
    "id": "Qzc8GtLk_9SX"
   },
   "outputs": [],
   "source": [
    "def randomTrainingExample():\n",
    "    category, line = randomTrainingPair()\n",
    "    category_tensor = categoryTensor(category)\n",
    "    input_line_tensor = inputTensor(line)\n",
    "    target_line_tensor = targetTensor(line)\n",
    "    return category_tensor.to(device), input_line_tensor.to(device), target_line_tensor.to(device)"
   ]
  },
  {
   "cell_type": "code",
   "execution_count": 0,
   "metadata": {
    "colab": {},
    "colab_type": "code",
    "id": "9Im5CA66_9rs"
   },
   "outputs": [],
   "source": [
    "\n",
    "learning_rate = 0.0005\n",
    "\n",
    "def train(category_tensor, input_line_tensor, target_line_tensor):\n",
    "    hidden = model.init_hidden(1)\n",
    "    hidden = hidden.to(device)\n",
    "\n",
    "    model.zero_grad()\n",
    "\n",
    "    loss = 0\n",
    "\n",
    "    for i in range(input_line_tensor.size(0)):\n",
    "        output, hidden = model(category_tensor, input_line_tensor[i], hidden)\n",
    "        loss += criterion(output, target_line_tensor[i])\n",
    "\n",
    "    loss.backward()\n",
    "    optimizer.step()\n",
    "\n",
    "    return output, loss.item() / input_line_tensor.size(0)\n"
   ]
  },
  {
   "cell_type": "code",
   "execution_count": 0,
   "metadata": {
    "colab": {},
    "colab_type": "code",
    "id": "tkYrAJvNACvM"
   },
   "outputs": [],
   "source": [
    "import time\n",
    "import math\n",
    "\n",
    "def timeSince(since):\n",
    "    now = time.time()\n",
    "    s = now - since\n",
    "    m = math.floor(s / 60)\n",
    "    s -= m * 60\n",
    "    return '%dm %ds' % (m, s)"
   ]
  },
  {
   "cell_type": "code",
   "execution_count": 18,
   "metadata": {
    "colab": {
     "base_uri": "https://localhost:8080/",
     "height": 1000
    },
    "colab_type": "code",
    "executionInfo": {
     "elapsed": 2394052,
     "status": "ok",
     "timestamp": 1591210034995,
     "user": {
      "displayName": "Daniel Cuiñas Vázquez",
      "photoUrl": "",
      "userId": "11552885780691803973"
     },
     "user_tz": -120
    },
    "id": "2fkluu2VAbRN",
    "outputId": "c4c3dc0c-4879-413d-9d9a-e6c5b25217d2"
   },
   "outputs": [
    {
     "name": "stdout",
     "output_type": "stream",
     "text": [
      "0m 29s (5000 1%) 2.3057\n",
      "0m 58s (10000 2%) 2.7438\n",
      "1m 27s (15000 3%) 1.3473\n",
      "1m 57s (20000 5%) 1.9445\n",
      "2m 26s (25000 6%) 2.1666\n",
      "2m 55s (30000 7%) 1.8209\n",
      "3m 25s (35000 8%) 1.4389\n",
      "3m 54s (40000 10%) 1.0307\n",
      "4m 25s (45000 11%) 0.7397\n",
      "4m 55s (50000 12%) 1.0539\n",
      "5m 25s (55000 13%) 0.6305\n",
      "5m 55s (60000 15%) 0.6090\n",
      "6m 24s (65000 16%) 2.0908\n",
      "6m 54s (70000 17%) 0.4279\n",
      "7m 24s (75000 18%) 0.4347\n",
      "7m 54s (80000 20%) 1.2629\n",
      "8m 24s (85000 21%) 1.5171\n",
      "8m 54s (90000 22%) 0.5225\n",
      "9m 24s (95000 23%) 1.7410\n",
      "9m 55s (100000 25%) 2.5282\n",
      "10m 26s (105000 26%) 0.3434\n",
      "10m 56s (110000 27%) 0.5114\n",
      "11m 25s (115000 28%) 0.5101\n",
      "11m 55s (120000 30%) 1.0082\n",
      "12m 25s (125000 31%) 1.1695\n",
      "12m 55s (130000 32%) 0.3047\n",
      "13m 25s (135000 33%) 0.9919\n",
      "13m 54s (140000 35%) 0.4813\n",
      "14m 24s (145000 36%) 1.2289\n",
      "14m 54s (150000 37%) 1.3477\n",
      "15m 24s (155000 38%) 0.7123\n",
      "15m 54s (160000 40%) 0.5899\n",
      "16m 24s (165000 41%) 1.0183\n",
      "16m 54s (170000 42%) 0.7102\n",
      "17m 25s (175000 43%) 1.7910\n",
      "17m 55s (180000 45%) 0.8850\n",
      "18m 24s (185000 46%) 0.6262\n",
      "18m 54s (190000 47%) 1.1141\n",
      "19m 24s (195000 48%) 0.5089\n",
      "19m 54s (200000 50%) 0.6705\n",
      "20m 23s (205000 51%) 0.3964\n",
      "20m 53s (210000 52%) 0.8557\n",
      "21m 22s (215000 53%) 1.6000\n",
      "21m 53s (220000 55%) 1.4197\n",
      "22m 23s (225000 56%) 2.1010\n",
      "22m 54s (230000 57%) 1.5472\n",
      "23m 23s (235000 58%) 1.5216\n",
      "23m 54s (240000 60%) 0.6272\n",
      "24m 23s (245000 61%) 0.7950\n",
      "24m 53s (250000 62%) 1.2622\n",
      "25m 22s (255000 63%) 1.6963\n",
      "25m 52s (260000 65%) 1.7378\n",
      "26m 22s (265000 66%) 0.6512\n",
      "26m 52s (270000 67%) 1.0922\n",
      "27m 22s (275000 68%) 0.2963\n",
      "27m 53s (280000 70%) 0.9215\n",
      "28m 22s (285000 71%) 0.4753\n",
      "28m 52s (290000 72%) 0.8757\n",
      "29m 22s (295000 73%) 0.5873\n",
      "29m 52s (300000 75%) 1.5698\n",
      "30m 23s (305000 76%) 1.2594\n",
      "30m 53s (310000 77%) 1.2540\n",
      "31m 24s (315000 78%) 1.3758\n",
      "31m 53s (320000 80%) 0.4836\n",
      "32m 23s (325000 81%) 0.6527\n",
      "32m 53s (330000 82%) 0.5066\n",
      "33m 23s (335000 83%) 0.2303\n",
      "33m 53s (340000 85%) 0.2088\n",
      "34m 23s (345000 86%) 0.9341\n",
      "34m 53s (350000 87%) 0.8037\n",
      "35m 23s (355000 88%) 0.3788\n",
      "35m 53s (360000 90%) 1.0204\n",
      "36m 22s (365000 91%) 1.4749\n",
      "36m 52s (370000 92%) 1.8971\n",
      "37m 22s (375000 93%) 1.2479\n",
      "37m 53s (380000 95%) 0.7879\n",
      "38m 23s (385000 96%) 0.3772\n",
      "38m 53s (390000 97%) 1.5009\n",
      "39m 23s (395000 98%) 0.4969\n",
      "39m 53s (400000 100%) 0.5451\n"
     ]
    }
   ],
   "source": [
    "\n",
    "n_iters = 400000\n",
    "print_every = 5000\n",
    "plot_every = 500\n",
    "all_losses = []\n",
    "total_loss = 0 # Reset every plot_every iters\n",
    "\n",
    "start = time.time()\n",
    "\n",
    "for iter in range(1, n_iters + 1):\n",
    "    output, loss = train(*randomTrainingExample())\n",
    "    total_loss += loss\n",
    "\n",
    "    if iter % print_every == 0:\n",
    "        print('%s (%d %d%%) %.4f' % (timeSince(start), iter, iter / n_iters * 100, loss))\n",
    "\n",
    "    if iter % plot_every == 0:\n",
    "        all_losses.append(total_loss / plot_every)\n",
    "        total_loss = 0"
   ]
  },
  {
   "cell_type": "code",
   "execution_count": 19,
   "metadata": {
    "colab": {
     "base_uri": "https://localhost:8080/",
     "height": 282
    },
    "colab_type": "code",
    "executionInfo": {
     "elapsed": 809,
     "status": "ok",
     "timestamp": 1591210039914,
     "user": {
      "displayName": "Daniel Cuiñas Vázquez",
      "photoUrl": "",
      "userId": "11552885780691803973"
     },
     "user_tz": -120
    },
    "id": "jUS39ZWnAfwZ",
    "outputId": "54ee7115-1a6c-4086-aca9-921108299648"
   },
   "outputs": [
    {
     "data": {
      "text/plain": [
       "[<matplotlib.lines.Line2D at 0x7fce86f07160>]"
      ]
     },
     "execution_count": 19,
     "metadata": {
      "tags": []
     },
     "output_type": "execute_result"
    },
    {
     "data": {
      "image/png": "[encoded data removed]",
      "text/plain": [
       "<Figure size 432x288 with 1 Axes>"
      ]
     },
     "metadata": {
      "needs_background": "light",
      "tags": []
     },
     "output_type": "display_data"
    }
   ],
   "source": [
    "import matplotlib.pyplot as plt\n",
    "import matplotlib.ticker as ticker\n",
    "\n",
    "plt.figure()\n",
    "plt.plot(all_losses)"
   ]
  },
  {
   "cell_type": "code",
   "execution_count": 0,
   "metadata": {
    "colab": {},
    "colab_type": "code",
    "id": "8tNRYDq7f98u"
   },
   "outputs": [],
   "source": [
    "max_length = 20\n",
    "\n",
    "# Sample from a category and starting letter\n",
    "def sample(category, start_letter='A'):\n",
    "    with torch.no_grad():  # no need to track history in sampling\n",
    "        category_tensor = categoryTensor(category)\n",
    "        input = inputTensor(start_letter)\n",
    "        hidden = model.init_hidden(1)\n",
    "\n",
    "        output_name = start_letter\n",
    "\n",
    "        for i in range(max_length):\n",
    "            output, hidden = model(category_tensor, input[0], hidden)\n",
    "            topv, topi = output.topk(1)\n",
    "            topi = topi[0][0]\n",
    "            if topi == n_letters - 1:\n",
    "                break\n",
    "            else:\n",
    "                letter = all_letters[topi]\n",
    "                output_name += letter\n",
    "            input = inputTensor(letter)\n",
    "\n",
    "        return output_name"
   ]
  },
  {
   "cell_type": "code",
   "execution_count": 42,
   "metadata": {
    "colab": {
     "base_uri": "https://localhost:8080/",
     "height": 34
    },
    "colab_type": "code",
    "executionInfo": {
     "elapsed": 732,
     "status": "ok",
     "timestamp": 1591212794336,
     "user": {
      "displayName": "Daniel Cuiñas Vázquez",
      "photoUrl": "",
      "userId": "11552885780691803973"
     },
     "user_tz": -120
    },
    "id": "y0GVOxm5k97-",
    "outputId": "0a3d0c3b-6965-4288-b95c-ba4b2872a34c"
   },
   "outputs": [
    {
     "data": {
      "text/plain": [
       "'Eliora'"
      ]
     },
     "execution_count": 42,
     "metadata": {
      "tags": []
     },
     "output_type": "execute_result"
    }
   ],
   "source": [
    "sample('Italian',\"E\")"
   ]
  },
  {
   "cell_type": "code",
   "execution_count": 40,
   "metadata": {
    "colab": {
     "base_uri": "https://localhost:8080/",
     "height": 34
    },
    "colab_type": "code",
    "executionInfo": {
     "elapsed": 862,
     "status": "ok",
     "timestamp": 1591212729631,
     "user": {
      "displayName": "Daniel Cuiñas Vázquez",
      "photoUrl": "",
      "userId": "11552885780691803973"
     },
     "user_tz": -120
    },
    "id": "9YYnmkO4hQDL",
    "outputId": "95d7bcff-c353-436d-8990-66610910e933"
   },
   "outputs": [
    {
     "data": {
      "text/plain": [
       "'Riminomano'"
      ]
     },
     "execution_count": 40,
     "metadata": {
      "tags": []
     },
     "output_type": "execute_result"
    }
   ],
   "source": [
    "sample('Italian','Rimin')"
   ]
  },
  {
   "cell_type": "code",
   "execution_count": 0,
   "metadata": {
    "colab": {
     "base_uri": "https://localhost:8080/",
     "height": 323
    },
    "colab_type": "code",
    "executionInfo": {
     "elapsed": 2290721,
     "status": "ok",
     "timestamp": 1589734875412,
     "user": {
      "displayName": "Daniel Cuiñas Vázquez",
      "photoUrl": "",
      "userId": "11552885780691803973"
     },
     "user_tz": -120
    },
    "id": "TBbVMP-NlAo8",
    "outputId": "c82c9ae7-2102-4d22-a0c2-541ba03dbdf3"
   },
   "outputs": [
    {
     "data": {
      "text/plain": [
       "['Czech',\n",
       " 'English',\n",
       " 'Scottish',\n",
       " 'Italian',\n",
       " 'Polish',\n",
       " 'Greek',\n",
       " 'Dutch',\n",
       " 'German',\n",
       " 'Japanese',\n",
       " 'Korean',\n",
       " 'Arabic',\n",
       " 'Portuguese',\n",
       " 'Russian',\n",
       " 'Vietnamese',\n",
       " 'Irish',\n",
       " 'Spanish',\n",
       " 'French',\n",
       " 'Chinese']"
      ]
     },
     "execution_count": 22,
     "metadata": {
      "tags": []
     },
     "output_type": "execute_result"
    }
   ],
   "source": [
    "all_categories"
   ]
  },
  {
   "cell_type": "code",
   "execution_count": 0,
   "metadata": {
    "colab": {},
    "colab_type": "code",
    "id": "jawRFmgA0P-q"
   },
   "outputs": [],
   "source": []
  }
 ],
 "metadata": {
  "colab": {
   "authorship_tag": "ABX9TyNiulJLGCIat5xgQsrvVTQy",
   "name": "GRU.ipynb",
   "provenance": []
  },
  "kernelspec": {
   "display_name": "Python 3",
   "language": "python",
   "name": "python3"
  },
  "language_info": {
   "codemirror_mode": {
    "name": "ipython",
    "version": 3
   },
   "file_extension": ".py",
   "mimetype": "text/x-python",
   "name": "python",
   "nbconvert_exporter": "python",
   "pygments_lexer": "ipython3",
   "version": "3.7.4"
  }
 },
 "nbformat": 4,
 "nbformat_minor": 1
}
