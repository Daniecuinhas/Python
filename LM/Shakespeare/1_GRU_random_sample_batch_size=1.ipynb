{
 "cells": [
  {
   "cell_type": "code",
   "execution_count": 0,
   "metadata": {
    "colab": {
     "base_uri": "https://localhost:8080/",
     "height": 122
    },
    "colab_type": "code",
    "executionInfo": {
     "elapsed": 4920,
     "status": "ok",
     "timestamp": 1590263545587,
     "user": {
      "displayName": "Daniel Cuiñas Vázquez",
      "photoUrl": "",
      "userId": "11552885780691803973"
     },
     "user_tz": -120
    },
    "id": "qqxhB_A-RunZ",
    "outputId": "bdbd3bba-d66f-44b3-9c62-9c0781125961"
   },
   "outputs": [
    {
     "name": "stdout",
     "output_type": "stream",
     "text": [
      "Collecting unidecode\n",
      "\u001b[?25l  Downloading https://files.pythonhosted.org/packages/d0/42/d9edfed04228bacea2d824904cae367ee9efd05e6cce7ceaaedd0b0ad964/Unidecode-1.1.1-py2.py3-none-any.whl (238kB)\n",
      "\u001b[K     |████████████████████████████████| 245kB 2.8MB/s \n",
      "\u001b[?25hInstalling collected packages: unidecode\n",
      "Successfully installed unidecode-1.1.1\n"
     ]
    }
   ],
   "source": [
    "!pip install unidecode"
   ]
  },
  {
   "cell_type": "code",
   "execution_count": 0,
   "metadata": {
    "colab": {
     "base_uri": "https://localhost:8080/",
     "height": 34
    },
    "colab_type": "code",
    "executionInfo": {
     "elapsed": 3280,
     "status": "ok",
     "timestamp": 1590263549505,
     "user": {
      "displayName": "Daniel Cuiñas Vázquez",
      "photoUrl": "",
      "userId": "11552885780691803973"
     },
     "user_tz": -120
    },
    "id": "lAtcN5GvRfgS",
    "outputId": "3014210d-3173-4fda-da58-5e161646f677"
   },
   "outputs": [
    {
     "name": "stdout",
     "output_type": "stream",
     "text": [
      "file_len = 5465394\n"
     ]
    }
   ],
   "source": [
    "\n",
    "import unidecode\n",
    "import string\n",
    "import random\n",
    "import re\n",
    "\n",
    "all_characters = string.printable\n",
    "n_characters = len(all_characters)\n",
    "\n",
    "file = unidecode.unidecode(open('data/shakespeare.txt').read())\n",
    "file_len = len(file)\n",
    "print('file_len =', file_len)"
   ]
  },
  {
   "cell_type": "code",
   "execution_count": 0,
   "metadata": {
    "colab": {
     "base_uri": "https://localhost:8080/",
     "height": 34
    },
    "colab_type": "code",
    "executionInfo": {
     "elapsed": 546,
     "status": "ok",
     "timestamp": 1590263552534,
     "user": {
      "displayName": "Daniel Cuiñas Vázquez",
      "photoUrl": "",
      "userId": "11552885780691803973"
     },
     "user_tz": -120
    },
    "id": "CIqhnoJ8RtY5",
    "outputId": "6400f88f-7f5c-4180-af02-184db8a586f0"
   },
   "outputs": [
    {
     "name": "stdout",
     "output_type": "stream",
     "text": [
      "d you offer\n"
     ]
    }
   ],
   "source": [
    "chunk_len = 200\n",
    "\n",
    "def random_chunk():\n",
    "    start_index = random.randint(0, file_len - chunk_len)\n",
    "    end_index = start_index + chunk_len + 1\n",
    "    return file[start_index:end_index]\n",
    "\n",
    "print(random_chunk())"
   ]
  },
  {
   "cell_type": "code",
   "execution_count": 0,
   "metadata": {
    "colab": {},
    "colab_type": "code",
    "id": "a9x334r1R3k-"
   },
   "outputs": [],
   "source": [
    "import torch\n",
    "import torch.nn as nn\n",
    "from torch.autograd import Variable\n",
    "import torch.nn.functional as F\n",
    "\n",
    "\n",
    "class RNN(nn.Module):\n",
    "    def __init__(self, input_size, hidden_size, output_size, n_layers=1):\n",
    "        super(RNN, self).__init__()\n",
    "        self.input_size = input_size\n",
    "        self.hidden_size = hidden_size\n",
    "        self.output_size = output_size\n",
    "        self.n_layers = n_layers\n",
    "        \n",
    "        self.embedding = nn.Embedding(input_size, hidden_size)\n",
    "        self.gru = nn.GRU(hidden_size, hidden_size, n_layers)\n",
    "        self.fc = nn.Linear(hidden_size, output_size)\n",
    "    \n",
    "    def forward(self, inputs, hidden):\n",
    "        # input = [batch size]\n",
    "\n",
    "        emb = self.embedding(inputs)\n",
    "\n",
    "        #emb = [batch size, emb dim]\n",
    "\n",
    "        emb=emb.unsqueeze(1)\n",
    "\n",
    "        #emb = [batch size, 1, emb dim]\n",
    "\n",
    "        output, hidden = self.gru(emb, hidden)\n",
    "\n",
    "        #output = [batch size, 1, hid dim * num directions]\n",
    "        #hidden = [n layers * num directions, batch size, hid dim]\n",
    "\n",
    "        output = self.fc(output)\n",
    "\n",
    "        #output = [batch size, 1, input dim]\n",
    "\n",
    "        output = output.view(-1, self.input_size)\n",
    "\n",
    "        #output = [batch size*1, input_dim] == [1, input dim]\n",
    "\n",
    "        return output, hidden\n",
    "        \n",
    "    def init_hidden(self):\n",
    "        return Variable(torch.zeros(self.n_layers, 1, self.hidden_size))"
   ]
  },
  {
   "cell_type": "code",
   "execution_count": 0,
   "metadata": {
    "colab": {
     "base_uri": "https://localhost:8080/",
     "height": 119
    },
    "colab_type": "code",
    "executionInfo": {
     "elapsed": 895,
     "status": "ok",
     "timestamp": 1590263557257,
     "user": {
      "displayName": "Daniel Cuiñas Vázquez",
      "photoUrl": "",
      "userId": "11552885780691803973"
     },
     "user_tz": -120
    },
    "id": "OlCEFgi4R-Jq",
    "outputId": "fd95acd2-1413-447d-83b6-a2f464b093d8"
   },
   "outputs": [
    {
     "name": "stdout",
     "output_type": "stream",
     "text": [
      "tensor([[10],\n",
      "        [11],\n",
      "        [12],\n",
      "        [39],\n",
      "        [40],\n",
      "        [41]])\n"
     ]
    }
   ],
   "source": [
    "# Turn string into list of longs\n",
    "def char_tensor(string):\n",
    "    tensor = torch.zeros(len(string)).long()\n",
    "    for c in range(len(string)):\n",
    "        tensor[c] = all_characters.index(string[c])\n",
    "    return Variable(tensor).unsqueeze(1)\n",
    "\n",
    "print(char_tensor('abcDEF'))"
   ]
  },
  {
   "cell_type": "code",
   "execution_count": 0,
   "metadata": {
    "colab": {},
    "colab_type": "code",
    "id": "zf7Tpc5jSBog"
   },
   "outputs": [],
   "source": [
    "def random_training_set():    \n",
    "    chunk = random_chunk()\n",
    "    inp = char_tensor(chunk[:-1])\n",
    "    target = char_tensor(chunk[1:])\n",
    "    return inp, target"
   ]
  },
  {
   "cell_type": "code",
   "execution_count": 0,
   "metadata": {
    "colab": {},
    "colab_type": "code",
    "id": "68JoEnHpSeR3"
   },
   "outputs": [],
   "source": [
    "inp, tar = random_training_set()"
   ]
  },
  {
   "cell_type": "code",
   "execution_count": 0,
   "metadata": {
    "colab": {
     "base_uri": "https://localhost:8080/",
     "height": 187
    },
    "colab_type": "code",
    "executionInfo": {
     "elapsed": 568,
     "status": "ok",
     "timestamp": 1590263580592,
     "user": {
      "displayName": "Daniel Cuiñas Vázquez",
      "photoUrl": "",
      "userId": "11552885780691803973"
     },
     "user_tz": -120
    },
    "id": "MliLaukeGD5I",
    "outputId": "0102830b-bbc0-421f-e605-fe5a4f1d4f71"
   },
   "outputs": [
    {
     "data": {
      "text/plain": [
       "tensor([[56],\n",
       "        [38],\n",
       "        [43],\n",
       "        [44],\n",
       "        [50],\n",
       "        [75],\n",
       "        [94],\n",
       "        [58],\n",
       "        [17],\n",
       "        [24]])"
      ]
     },
     "execution_count": 9,
     "metadata": {
      "tags": []
     },
     "output_type": "execute_result"
    }
   ],
   "source": [
    "inp"
   ]
  },
  {
   "cell_type": "code",
   "execution_count": 0,
   "metadata": {
    "colab": {
     "base_uri": "https://localhost:8080/",
     "height": 187
    },
    "colab_type": "code",
    "executionInfo": {
     "elapsed": 613,
     "status": "ok",
     "timestamp": 1590263583364,
     "user": {
      "displayName": "Daniel Cuiñas Vázquez",
      "photoUrl": "",
      "userId": "11552885780691803973"
     },
     "user_tz": -120
    },
    "id": "9hPlmbwrGD72",
    "outputId": "7d9598f9-20b9-4672-d512-ce17515f1226"
   },
   "outputs": [
    {
     "data": {
      "text/plain": [
       "tensor([[38],\n",
       "        [43],\n",
       "        [44],\n",
       "        [50],\n",
       "        [75],\n",
       "        [94],\n",
       "        [58],\n",
       "        [17],\n",
       "        [24],\n",
       "        [28]])"
      ]
     },
     "execution_count": 10,
     "metadata": {
      "tags": []
     },
     "output_type": "execute_result"
    }
   ],
   "source": [
    "tar"
   ]
  },
  {
   "cell_type": "code",
   "execution_count": 0,
   "metadata": {
    "colab": {},
    "colab_type": "code",
    "id": "Qasb_hwYSOC0"
   },
   "outputs": [],
   "source": [
    "def evaluate(prime_str='A', predict_len=100, temperature=0.8):\n",
    "    hidden = decoder.init_hidden()\n",
    "    prime_input = char_tensor(prime_str)\n",
    "    predicted = prime_str\n",
    "\n",
    "    # Use priming string to \"build up\" hidden state\n",
    "    for p in range(len(prime_str) - 1):\n",
    "        _, hidden = decoder(prime_input[p], hidden)\n",
    "    inp = prime_input[-1]\n",
    "    \n",
    "    for p in range(predict_len):\n",
    "        output, hidden = decoder(inp, hidden)\n",
    "        \n",
    "        # Sample from the network as a multinomial distribution\n",
    "        output_dist = output.data.view(-1).div(temperature).exp()\n",
    "        top_i = torch.multinomial(output_dist, 1)[0]\n",
    "        \n",
    "        # Add predicted character to string and use as next input\n",
    "        predicted_char = all_characters[top_i]\n",
    "        predicted += predicted_char\n",
    "        inp = char_tensor(predicted_char)[-1]\n",
    "\n",
    "    return predicted"
   ]
  },
  {
   "cell_type": "code",
   "execution_count": 0,
   "metadata": {
    "colab": {},
    "colab_type": "code",
    "id": "aBmS4ycYSQGp"
   },
   "outputs": [],
   "source": [
    "import time, math\n",
    "\n",
    "def time_since(since):\n",
    "    s = time.time() - since\n",
    "    m = math.floor(s / 60)\n",
    "    s -= m * 60\n",
    "    return '%dm %ds' % (m, s)"
   ]
  },
  {
   "cell_type": "code",
   "execution_count": 0,
   "metadata": {
    "colab": {},
    "colab_type": "code",
    "id": "Q5Ly1PmkSqoL"
   },
   "outputs": [],
   "source": [
    "def train(inp, target):\n",
    "    hidden = decoder.init_hidden()\n",
    "    decoder.zero_grad()\n",
    "    loss = 0\n",
    "\n",
    "    for c in range(chunk_len):\n",
    "        output, hidden = decoder(inp[c], hidden)\n",
    "        loss += criterion(output, target[c])\n",
    "\n",
    "    loss.backward()\n",
    "    decoder_optimizer.step()\n",
    "\n",
    "    return loss.item() / chunk_len"
   ]
  },
  {
   "cell_type": "code",
   "execution_count": 0,
   "metadata": {
    "colab": {},
    "colab_type": "code",
    "id": "xePcNgK6UccX"
   },
   "outputs": [],
   "source": [
    "\n",
    "hidden_size = 100\n",
    "n_layers = 1\n",
    "lr = 0.005\n",
    "\n",
    "decoder = RNN(n_characters, hidden_size, n_characters, n_layers)\n",
    "decoder_optimizer = torch.optim.Adam(decoder.parameters(), lr=lr)\n",
    "criterion = nn.CrossEntropyLoss()"
   ]
  },
  {
   "cell_type": "code",
   "execution_count": 0,
   "metadata": {
    "colab": {},
    "colab_type": "code",
    "id": "ssoj5CvhJxo7"
   },
   "outputs": [],
   "source": []
  },
  {
   "cell_type": "code",
   "execution_count": 0,
   "metadata": {
    "colab": {
     "base_uri": "https://localhost:8080/",
     "height": 34
    },
    "colab_type": "code",
    "executionInfo": {
     "elapsed": 6465,
     "status": "ok",
     "timestamp": 1590251009647,
     "user": {
      "displayName": "Daniel Cuiñas Vázquez",
      "photoUrl": "",
      "userId": "11552885780691803973"
     },
     "user_tz": -120
    },
    "id": "kHCVCW5uUgoK",
    "outputId": "0b1b9938-cfe2-4c18-832e-cc47afa2b554"
   },
   "outputs": [
    {
     "name": "stdout",
     "output_type": "stream",
     "text": [
      "The model has 80,700 trainable parameters\n"
     ]
    }
   ],
   "source": [
    "def count_parameters(model):\n",
    "    return sum(p.numel() for p in model.parameters() if p.requires_grad)\n",
    "\n",
    "print(f'The model has {count_parameters(decoder):,} trainable parameters')"
   ]
  },
  {
   "cell_type": "code",
   "execution_count": 0,
   "metadata": {
    "colab": {
     "base_uri": "https://localhost:8080/",
     "height": 1000
    },
    "colab_type": "code",
    "executionInfo": {
     "elapsed": 308208,
     "status": "ok",
     "timestamp": 1590251311400,
     "user": {
      "displayName": "Daniel Cuiñas Vázquez",
      "photoUrl": "",
      "userId": "11552885780691803973"
     },
     "user_tz": -120
    },
    "id": "sQ0WtlbHURhx",
    "outputId": "73dc4703-f2e5-4a8f-fc30-87c6bc410f8e"
   },
   "outputs": [
    {
     "name": "stdout",
     "output_type": "stream",
     "text": [
      "[0m 15s (100 5%) 2.3005]\n",
      "Whut hand hat hat asat had thins boul sund archae mand thog hout so the dier\n",
      "                 Auth ay  \n",
      "\n",
      "[0m 30s (200 10%) 2.1880]\n",
      "WhI Fou lith bard hearth\n",
      "   Buselo, amy gle.\n",
      "    Thof mang,\n",
      "   Buet for\n",
      "  I Sat here tarecs at our you \n",
      "\n",
      "[0m 45s (300 15%) 2.0582]\n",
      "Wher eard.\n",
      "   Hast state; knot as warn. Sit not entay chard bes, he be a that\n",
      "     I be drose weart wa \n",
      "\n",
      "[1m 0s (400 20%) 2.0936]\n",
      "Whill bly be of and gos of my liven in live\n",
      "           Tis in deand spe'n of whid lom, cuson candood s \n",
      "\n",
      "[1m 15s (500 25%) 1.9056]\n",
      "Whatheac! Bainteneds and god dods have atI I pleatotue a daughtseher.\n",
      "                                 \n",
      "\n",
      "[1m 30s (600 30%) 2.1142]\n",
      "Wheed.                                                                    ' Prould that ich our haves' \n",
      "\n",
      "[1m 45s (700 35%) 1.9148]\n",
      "Whe so welacue, warmpy of tons whount,\n",
      "      Thave in heard senst not serve\n",
      "   Unter recarrase, a beme \n",
      "\n",
      "[2m 0s (800 40%) 2.3791]\n",
      "Whing an that thou more an the with there to all but all the promever and warry'd of of ding the goo m \n",
      "\n",
      "[2m 15s (900 45%) 1.7047]\n",
      "When traging hiv, of furlys jut\n",
      "    And 'reater?\n",
      "    And his he sider that whil Singhary,\n",
      "    Year thi \n",
      "\n",
      "[2m 30s (1000 50%) 1.7459]\n",
      "What sive.\n",
      "       Ean doughts here the and care so rate\n",
      "    Bidd. The a love lave hath! Be what not he \n",
      "\n",
      "[2m 45s (1100 55%) 1.6827]\n",
      "When have is has'd pire\n",
      "    As of cate be a was our to aror I love her on his hoinst for him? Whies of \n",
      "\n",
      "[3m 1s (1200 60%) 1.8821]\n",
      "Wha- I will word you wante with tell speself not busin on am repair, and man this blotte live the so m \n",
      "\n",
      "[3m 16s (1300 65%) 2.0391]\n",
      "Whan, a do Fret well, my, armoud no sergutheard, and thou to prongert end it God\n",
      "    preet Prant cand  \n",
      "\n",
      "[3m 31s (1400 70%) 2.0302]\n",
      "Wht and ine And loded your as, and shaut,\n",
      "  Nou sindry, for breighthing\n",
      "    If themon ruener-if you sh \n",
      "\n",
      "[3m 46s (1500 75%) 2.0488]\n",
      "Whight and and cursorning heaves of geaten the the with a lovering a makest loighter. That plaset of t \n",
      "\n",
      "[4m 1s (1600 80%) 1.8637]\n",
      "Whime\n",
      "        The A the s and him,\n",
      "    That world to with, sonquiby dut.\n",
      "  QUEEN. Which he stey be a d \n",
      "\n",
      "[4m 16s (1700 85%) 1.8619]\n",
      "Whalt,\n",
      "                Exit Be o to she I malf think you the show shall adder in the him that there of \n",
      "\n",
      "[4m 31s (1800 90%) 1.7745]\n",
      "Wht!                      [To day, as one, plenstoring Pricice we no frick in be her'd sicks\n",
      "    HiPRO \n",
      "\n",
      "[4m 46s (1900 95%) 1.9440]\n",
      "Wham, touds shall me thouble conto like to they hold rimbleance one;\n",
      "    That these theur, now yound p \n",
      "\n",
      "[5m 1s (2000 100%) 1.5457]\n",
      "Whther'd, but be the cournave worn,\n",
      "    As be for say the coy,\n",
      "    Wherron him. He congre.\n",
      "    At the  \n",
      "\n"
     ]
    }
   ],
   "source": [
    "n_epochs = 2000\n",
    "print_every = 100\n",
    "plot_every = 10\n",
    "\n",
    "\n",
    "start = time.time()\n",
    "all_losses = []\n",
    "loss_avg = 0\n",
    "\n",
    "for epoch in range(1, n_epochs + 1):\n",
    "    loss = train(*random_training_set())       \n",
    "    loss_avg += loss\n",
    "\n",
    "    if epoch % print_every == 0:\n",
    "        print('[%s (%d %d%%) %.4f]' % (time_since(start), epoch, epoch / n_epochs * 100, loss))\n",
    "        print(evaluate('Wh', 100), '\\n')\n",
    "\n",
    "    if epoch % plot_every == 0:\n",
    "        all_losses.append(loss_avg / plot_every)\n",
    "        loss_avg = 0"
   ]
  },
  {
   "cell_type": "code",
   "execution_count": 0,
   "metadata": {
    "colab": {
     "base_uri": "https://localhost:8080/",
     "height": 282
    },
    "colab_type": "code",
    "executionInfo": {
     "elapsed": 1100,
     "status": "ok",
     "timestamp": 1590251347340,
     "user": {
      "displayName": "Daniel Cuiñas Vázquez",
      "photoUrl": "",
      "userId": "11552885780691803973"
     },
     "user_tz": -120
    },
    "id": "b17nukSEUUW7",
    "outputId": "12ee5f16-90dd-42e7-dabb-f8591662284a"
   },
   "outputs": [
    {
     "data": {
      "text/plain": [
       "[<matplotlib.lines.Line2D at 0x7f7c443926a0>]"
      ]
     },
     "execution_count": 15,
     "metadata": {
      "tags": []
     },
     "output_type": "execute_result"
    },
    {
     "data": {
      "image/png": "[encoded data removed]",
      "text/plain": [
       "<Figure size 432x288 with 1 Axes>"
      ]
     },
     "metadata": {
      "needs_background": "light",
      "tags": []
     },
     "output_type": "display_data"
    }
   ],
   "source": [
    "import matplotlib.pyplot as plt\n",
    "import matplotlib.ticker as ticker\n",
    "\n",
    "plt.figure()\n",
    "plt.plot(all_losses)"
   ]
  },
  {
   "cell_type": "code",
   "execution_count": 0,
   "metadata": {
    "colab": {},
    "colab_type": "code",
    "id": "-daV0Y92RJgJ"
   },
   "outputs": [],
   "source": []
  }
 ],
 "metadata": {
  "colab": {
   "authorship_tag": "ABX9TyP/LKS62ke/IRpL8jEAFHil",
   "collapsed_sections": [],
   "name": "random_batch_size=1.ipynb",
   "provenance": []
  },
  "kernelspec": {
   "display_name": "Python 3",
   "language": "python",
   "name": "python3"
  },
  "language_info": {
   "codemirror_mode": {
    "name": "ipython",
    "version": 3
   },
   "file_extension": ".py",
   "mimetype": "text/x-python",
   "name": "python",
   "nbconvert_exporter": "python",
   "pygments_lexer": "ipython3",
   "version": "3.7.4"
  }
 },
 "nbformat": 4,
 "nbformat_minor": 1
}
