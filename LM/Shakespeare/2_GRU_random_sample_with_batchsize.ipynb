{
 "cells": [
  {
   "cell_type": "code",
   "execution_count": 2,
   "metadata": {
    "colab": {
     "base_uri": "https://localhost:8080/",
     "height": 122
    },
    "colab_type": "code",
    "executionInfo": {
     "elapsed": 27113,
     "status": "ok",
     "timestamp": 1590418363503,
     "user": {
      "displayName": "Daniel Cuiñas Vázquez",
      "photoUrl": "",
      "userId": "11552885780691803973"
     },
     "user_tz": -120
    },
    "id": "HQYZ6ovnom6s",
    "outputId": "2fcd4115-e163-46d4-fb7d-74e4a56def61"
   },
   "outputs": [
    {
     "name": "stdout",
     "output_type": "stream",
     "text": [
      "Collecting unidecode\n",
      "\u001b[?25l  Downloading https://files.pythonhosted.org/packages/d0/42/d9edfed04228bacea2d824904cae367ee9efd05e6cce7ceaaedd0b0ad964/Unidecode-1.1.1-py2.py3-none-any.whl (238kB)\n",
      "\r",
      "\u001b[K     |█▍                              | 10kB 30.0MB/s eta 0:00:01\r",
      "\u001b[K     |██▊                             | 20kB 24.4MB/s eta 0:00:01\r",
      "\u001b[K     |████▏                           | 30kB 29.6MB/s eta 0:00:01\r",
      "\u001b[K     |█████▌                          | 40kB 23.0MB/s eta 0:00:01\r",
      "\u001b[K     |██████▉                         | 51kB 13.3MB/s eta 0:00:01\r",
      "\u001b[K     |████████▎                       | 61kB 12.5MB/s eta 0:00:01\r",
      "\u001b[K     |█████████▋                      | 71kB 12.3MB/s eta 0:00:01\r",
      "\u001b[K     |███████████                     | 81kB 12.1MB/s eta 0:00:01\r",
      "\u001b[K     |████████████▍                   | 92kB 11.6MB/s eta 0:00:01\r",
      "\u001b[K     |█████████████▊                  | 102kB 12.6MB/s eta 0:00:01\r",
      "\u001b[K     |███████████████▏                | 112kB 12.6MB/s eta 0:00:01\r",
      "\u001b[K     |████████████████▌               | 122kB 12.6MB/s eta 0:00:01\r",
      "\u001b[K     |█████████████████▉              | 133kB 12.6MB/s eta 0:00:01\r",
      "\u001b[K     |███████████████████▎            | 143kB 12.6MB/s eta 0:00:01\r",
      "\u001b[K     |████████████████████▋           | 153kB 12.6MB/s eta 0:00:01\r",
      "\u001b[K     |██████████████████████          | 163kB 12.6MB/s eta 0:00:01\r",
      "\u001b[K     |███████████████████████▍        | 174kB 12.6MB/s eta 0:00:01\r",
      "\u001b[K     |████████████████████████▊       | 184kB 12.6MB/s eta 0:00:01\r",
      "\u001b[K     |██████████████████████████▏     | 194kB 12.6MB/s eta 0:00:01\r",
      "\u001b[K     |███████████████████████████▌    | 204kB 12.6MB/s eta 0:00:01\r",
      "\u001b[K     |████████████████████████████▉   | 215kB 12.6MB/s eta 0:00:01\r",
      "\u001b[K     |██████████████████████████████▎ | 225kB 12.6MB/s eta 0:00:01\r",
      "\u001b[K     |███████████████████████████████▋| 235kB 12.6MB/s eta 0:00:01\r",
      "\u001b[K     |████████████████████████████████| 245kB 12.6MB/s \n",
      "\u001b[?25hInstalling collected packages: unidecode\n",
      "Successfully installed unidecode-1.1.1\n"
     ]
    }
   ],
   "source": [
    "!pip install unidecode"
   ]
  },
  {
   "cell_type": "code",
   "execution_count": 3,
   "metadata": {
    "colab": {
     "base_uri": "https://localhost:8080/",
     "height": 34
    },
    "colab_type": "code",
    "executionInfo": {
     "elapsed": 37673,
     "status": "ok",
     "timestamp": 1590418374076,
     "user": {
      "displayName": "Daniel Cuiñas Vázquez",
      "photoUrl": "",
      "userId": "11552885780691803973"
     },
     "user_tz": -120
    },
    "id": "qfMEebaooxMR",
    "outputId": "ece9479a-7080-43a6-ed5a-61504ab1dd9f"
   },
   "outputs": [
    {
     "name": "stdout",
     "output_type": "stream",
     "text": [
      "file_len = 5465394\n"
     ]
    }
   ],
   "source": [
    "import torch\n",
    "import unidecode\n",
    "import string\n",
    "import random\n",
    "import re\n",
    "\n",
    "all_characters = string.printable\n",
    "n_characters = len(all_characters)\n",
    "\n",
    "file = unidecode.unidecode(open('data/shakespeare.txt').read())\n",
    "file_len = len(file)\n",
    "print('file_len =', file_len)"
   ]
  },
  {
   "cell_type": "code",
   "execution_count": 4,
   "metadata": {
    "colab": {
     "base_uri": "https://localhost:8080/",
     "height": 102
    },
    "colab_type": "code",
    "executionInfo": {
     "elapsed": 37662,
     "status": "ok",
     "timestamp": 1590418374078,
     "user": {
      "displayName": "Daniel Cuiñas Vázquez",
      "photoUrl": "",
      "userId": "11552885780691803973"
     },
     "user_tz": -120
    },
    "id": "Ol7K9K45pnS9",
    "outputId": "4bc97cdf-3179-4222-f273-90a25ace7737"
   },
   "outputs": [
    {
     "name": "stdout",
     "output_type": "stream",
     "text": [
      "s altar to protest\n",
      "    For aye austerity and single life.\n",
      "  DEMETRIUS. Relent, sweet Hermia; and, Lysander, yield\n",
      "    Thy crazed title to my certain right.\n",
      "  LYSANDER. You have her father's love, Demet\n"
     ]
    }
   ],
   "source": [
    "chunk_len = 200\n",
    "batch_size = 50\n",
    "\n",
    "def random_chunk():\n",
    "    start_index = random.randint(0, file_len - chunk_len)\n",
    "    end_index = start_index + chunk_len + 1\n",
    "    return file[start_index:end_index]\n",
    "\n",
    "print(random_chunk())"
   ]
  },
  {
   "cell_type": "code",
   "execution_count": 0,
   "metadata": {
    "colab": {},
    "colab_type": "code",
    "id": "zBV6xZyjozKh"
   },
   "outputs": [],
   "source": [
    "from torch.autograd import Variable\n"
   ]
  },
  {
   "cell_type": "code",
   "execution_count": 6,
   "metadata": {
    "colab": {
     "base_uri": "https://localhost:8080/",
     "height": 34
    },
    "colab_type": "code",
    "executionInfo": {
     "elapsed": 37644,
     "status": "ok",
     "timestamp": 1590418374081,
     "user": {
      "displayName": "Daniel Cuiñas Vázquez",
      "photoUrl": "",
      "userId": "11552885780691803973"
     },
     "user_tz": -120
    },
    "id": "Tp5uh5jXpCai",
    "outputId": "afe38a14-ad0e-4963-bd3e-a9e5509bb6d9"
   },
   "outputs": [
    {
     "name": "stdout",
     "output_type": "stream",
     "text": [
      "tensor([10, 11, 12, 39, 40, 41])\n"
     ]
    }
   ],
   "source": [
    "# Turn string into list of longs\n",
    "def char_tensor(string):\n",
    "    tensor = torch.zeros(len(string)).long()\n",
    "    for c in range(len(string)):\n",
    "        tensor[c] = all_characters.index(string[c])\n",
    "    return Variable(tensor)\n",
    "print(char_tensor('abcDEF'))"
   ]
  },
  {
   "cell_type": "code",
   "execution_count": 7,
   "metadata": {
    "colab": {
     "base_uri": "https://localhost:8080/",
     "height": 34
    },
    "colab_type": "code",
    "executionInfo": {
     "elapsed": 37633,
     "status": "ok",
     "timestamp": 1590418374082,
     "user": {
      "displayName": "Daniel Cuiñas Vázquez",
      "photoUrl": "",
      "userId": "11552885780691803973"
     },
     "user_tz": -120
    },
    "id": "7QwWDbSU2tLa",
    "outputId": "1bf9641a-1871-4639-f326-183353b8a3e8"
   },
   "outputs": [
    {
     "name": "stdout",
     "output_type": "stream",
     "text": [
      "cuda\n"
     ]
    }
   ],
   "source": [
    "device = torch.device(\"cuda\" if torch.cuda.is_available() else \"cpu\")\n",
    "print(device)"
   ]
  },
  {
   "cell_type": "code",
   "execution_count": 0,
   "metadata": {
    "colab": {},
    "colab_type": "code",
    "id": "QeMogIDxpOuG"
   },
   "outputs": [],
   "source": [
    "def random_training_set(chunk_len, batch_size, file):\n",
    "    inp = torch.LongTensor(batch_size, chunk_len)\n",
    "    target = torch.LongTensor(batch_size, chunk_len)\n",
    "    for bi in range(batch_size):\n",
    "        start_index = random.randint(0, len(file) - chunk_len)\n",
    "        end_index = start_index + chunk_len + 1\n",
    "        chunk = file[start_index:end_index]\n",
    "        inp[bi] = char_tensor(chunk[:-1])\n",
    "        target[bi] = char_tensor(chunk[1:])\n",
    "    inp = Variable(inp)\n",
    "    target = Variable(target)\n",
    "    inp= inp.transpose(1,0)\n",
    "    target = target.transpose(1,0)\n",
    "\n",
    "    return inp.to(device), target.to(device)"
   ]
  },
  {
   "cell_type": "code",
   "execution_count": 0,
   "metadata": {
    "colab": {},
    "colab_type": "code",
    "id": "BlBuqfrT15FV"
   },
   "outputs": [],
   "source": [
    "i,o = random_training_set(200, 50, file)"
   ]
  },
  {
   "cell_type": "code",
   "execution_count": 10,
   "metadata": {
    "colab": {
     "base_uri": "https://localhost:8080/",
     "height": 34
    },
    "colab_type": "code",
    "executionInfo": {
     "elapsed": 47848,
     "status": "ok",
     "timestamp": 1590418384331,
     "user": {
      "displayName": "Daniel Cuiñas Vázquez",
      "photoUrl": "",
      "userId": "11552885780691803973"
     },
     "user_tz": -120
    },
    "id": "eWleH5kj15RO",
    "outputId": "367c6e94-2247-4935-8b62-3c515116ac50"
   },
   "outputs": [
    {
     "data": {
      "text/plain": [
       "(torch.Size([200, 50]), torch.Size([200, 50]))"
      ]
     },
     "execution_count": 10,
     "metadata": {
      "tags": []
     },
     "output_type": "execute_result"
    }
   ],
   "source": [
    "i.shape, o.shape"
   ]
  },
  {
   "cell_type": "code",
   "execution_count": 0,
   "metadata": {
    "colab": {},
    "colab_type": "code",
    "id": "0_uA_vK2pikr"
   },
   "outputs": [],
   "source": [
    "import torch\n",
    "import torch.nn as nn\n",
    "from torch.autograd import Variable\n",
    "import torch.nn.functional as F\n",
    "\n",
    "\n",
    "class RNN(nn.Module):\n",
    "    def __init__(self, input_size, emb_size, hidden_size, n_layers, dropout):\n",
    "        super(RNN, self).__init__()\n",
    "        self.input_size = input_size\n",
    "        self.emb_size = emb_size\n",
    "        self.hidden_size = hidden_size\n",
    "        self.n_layers = n_layers\n",
    "        \n",
    "        self.embedding = nn.Embedding(input_size, emb_size)\n",
    "        self.gru = nn.GRU(emb_size, hidden_size, n_layers)\n",
    "        self.fc = nn.Linear(hidden_size, input_size)\n",
    "        self.drop = nn.Dropout(dropout)\n",
    "    \n",
    "    def forward(self, inputs, hidden):\n",
    "\n",
    "        #inputs = [batch size]\n",
    "\n",
    "        encoded = self.drop(self.embedding(inputs))\n",
    "\n",
    "        #encoded = [batch size, emb dim]\n",
    "\n",
    "        encoded = encoded.unsqueeze(0)\n",
    "\n",
    "        #encoded = [1, batch size, emb dim]\n",
    "\n",
    "        output, hidden = self.gru(encoded, hidden)\n",
    "\n",
    "        #output = [1, batch size, hid dim * num directions]\n",
    "        #hidden = [n layers * num directions, batch size, hid dim]\n",
    "\n",
    "        output = self.fc(output)\n",
    "\n",
    "        #output = [1, batch size, input size]\n",
    "\n",
    "        output = output.view(-1, self.input_size)\n",
    "\n",
    "        #output = [1*batch size, input size]\n",
    "\n",
    "        return output, hidden\n",
    "        \n",
    "    def init_hidden(self, batch_size):\n",
    "\n",
    "        return Variable(torch.zeros(self.n_layers, batch_size, self.hidden_size))"
   ]
  },
  {
   "cell_type": "code",
   "execution_count": 0,
   "metadata": {
    "colab": {},
    "colab_type": "code",
    "id": "iTDzkxtNpryy"
   },
   "outputs": [],
   "source": [
    "\n",
    "hidden_size = 256\n",
    "emb_size = 128\n",
    "n_layers = 2\n",
    "lr = 0.005\n",
    "dropout = 0.3\n",
    "\n",
    "model = RNN(n_characters, emb_size, hidden_size, n_layers, dropout)\n",
    "optimizer = torch.optim.Adam(model.parameters(), lr=lr)\n",
    "criterion = nn.CrossEntropyLoss()"
   ]
  },
  {
   "cell_type": "code",
   "execution_count": 0,
   "metadata": {
    "colab": {},
    "colab_type": "code",
    "id": "I_EAUU2D20Ff"
   },
   "outputs": [],
   "source": [
    "model = model.to(device)\n",
    "criterion = criterion.to(device)"
   ]
  },
  {
   "cell_type": "code",
   "execution_count": 14,
   "metadata": {
    "colab": {
     "base_uri": "https://localhost:8080/",
     "height": 34
    },
    "colab_type": "code",
    "executionInfo": {
     "elapsed": 47823,
     "status": "ok",
     "timestamp": 1590418384336,
     "user": {
      "displayName": "Daniel Cuiñas Vázquez",
      "photoUrl": "",
      "userId": "11552885780691803973"
     },
     "user_tz": -120
    },
    "id": "S9VnRxzktmSM",
    "outputId": "f6ca8319-02f9-40c4-b818-b8260811edfe"
   },
   "outputs": [
    {
     "name": "stdout",
     "output_type": "stream",
     "text": [
      "The model has 729,700 trainable parameters\n"
     ]
    }
   ],
   "source": [
    "def count_parameters(model):\n",
    "    return sum(p.numel() for p in model.parameters() if p.requires_grad)\n",
    "\n",
    "print(f'The model has {count_parameters(model):,} trainable parameters')"
   ]
  },
  {
   "cell_type": "code",
   "execution_count": 0,
   "metadata": {
    "colab": {},
    "colab_type": "code",
    "id": "1K9MtFPOzaNj"
   },
   "outputs": [],
   "source": [
    "import time, math\n",
    "\n",
    "def time_since(since):\n",
    "    s = time.time() - since\n",
    "    m = math.floor(s / 60)\n",
    "    s -= m * 60\n",
    "    return '%dm %ds' % (m, s)"
   ]
  },
  {
   "cell_type": "code",
   "execution_count": 0,
   "metadata": {
    "colab": {},
    "colab_type": "code",
    "id": "E0YqNrOqzacX"
   },
   "outputs": [],
   "source": [
    "def train(inp, target):\n",
    "    hidden = model.init_hidden(batch_size)\n",
    "    hidden = hidden.to(device)\n",
    "    optimizer.zero_grad()\n",
    "    loss = 0\n",
    "\n",
    "    for c in range(chunk_len):\n",
    "        output, hidden = model(inp[c], hidden)\n",
    "        loss += criterion(output, target[c])\n",
    "\n",
    "    loss.backward()\n",
    "    optimizer.step()\n",
    "\n",
    "    return loss.item() / chunk_len"
   ]
  },
  {
   "cell_type": "code",
   "execution_count": 0,
   "metadata": {
    "colab": {},
    "colab_type": "code",
    "id": "Dew71bae0xOR"
   },
   "outputs": [],
   "source": [
    "def generate(decoder, prime_str='A', predict_len=100, temperature=0.8, cuda=False):\n",
    "    hidden = model.init_hidden(1)\n",
    "    prime_input = Variable(char_tensor(prime_str).unsqueeze(0))\n",
    "    predicted = prime_str\n",
    "\n",
    "    hidden = hidden.to(device)\n",
    "    prime_input = prime_input.to(device)\n",
    "    # Use priming string to \"build up\" hidden state\n",
    "    for p in range(len(prime_str) - 1):\n",
    "        _, hidden = model(prime_input[:,p], hidden)\n",
    "        \n",
    "    inp = prime_input[:,-1]\n",
    "    inp = inp.to(device)\n",
    "\n",
    "    for p in range(predict_len):\n",
    "        output, hidden = model(inp, hidden)\n",
    "        \n",
    "        # Sample from the network as a multinomial distribution\n",
    "        output_dist = output.data.view(-1).div(temperature).exp()\n",
    "        top_i = torch.multinomial(output_dist, 1)[0]\n",
    "\n",
    "        # Add predicted character to string and use as next input\n",
    "        predicted_char = all_characters[top_i]\n",
    "        predicted += predicted_char\n",
    "        inp = Variable(char_tensor(predicted_char))\n",
    "        inp = inp.to(device)\n",
    "\n",
    "    return predicted"
   ]
  },
  {
   "cell_type": "code",
   "execution_count": 18,
   "metadata": {
    "colab": {
     "base_uri": "https://localhost:8080/",
     "height": 34
    },
    "colab_type": "code",
    "executionInfo": {
     "elapsed": 47803,
     "status": "ok",
     "timestamp": 1590418384339,
     "user": {
      "displayName": "Daniel Cuiñas Vázquez",
      "photoUrl": "",
      "userId": "11552885780691803973"
     },
     "user_tz": -120
    },
    "id": "JeY4naz50zlf",
    "outputId": "ef183d9c-121e-4ec9-bf4d-f5f2e80393dd"
   },
   "outputs": [
    {
     "data": {
      "text/plain": [
       "'Wh::iHv[@A\"0=NGOYRwjB($\\n^+,\\'7_e6O\\r\\\\/wU>_K4>L]$\\r%m>_70h`; y0 ->=v \\'[Mj@1y7;6hRzP@py7IJ{_W5^)<P;-J:4)Y&>'"
      ]
     },
     "execution_count": 18,
     "metadata": {
      "tags": []
     },
     "output_type": "execute_result"
    }
   ],
   "source": [
    "generate(model, 'Wh', 100)"
   ]
  },
  {
   "cell_type": "code",
   "execution_count": 19,
   "metadata": {
    "colab": {
     "base_uri": "https://localhost:8080/",
     "height": 1000
    },
    "colab_type": "code",
    "executionInfo": {
     "elapsed": 728361,
     "status": "ok",
     "timestamp": 1590419064908,
     "user": {
      "displayName": "Daniel Cuiñas Vázquez",
      "photoUrl": "",
      "userId": "11552885780691803973"
     },
     "user_tz": -120
    },
    "id": "QMzR5W9RzUJk",
    "outputId": "6f57649c-159e-4ddc-d8ea-84662fedc624"
   },
   "outputs": [
    {
     "name": "stdout",
     "output_type": "stream",
     "text": [
      "0m 34s (100 5%) 1.7407\n",
      "Whis hor maysests'd from and to case, so sprey do munkined adlear conferieron\n",
      "    and the hartures the \n",
      "\n",
      "1m 8s (200 10%) 1.5463\n",
      "Wher their son the save,\n",
      "    For a generain give me you.\n",
      "  PASSALON. Words! Why, for the streaty, more \n",
      "\n",
      "1m 42s (300 15%) 1.5218\n",
      "Which a merry beard him thee than asters,\n",
      "    A die most prove, their starf away.\n",
      "    This a like, do  \n",
      "\n",
      "2m 16s (400 20%) 1.3153\n",
      "Wheres of thy judge\n",
      "    That, but lose the last and she respect call the sinness in her heaven which\n",
      "  \n",
      "\n",
      "2m 50s (500 25%) 1.3509\n",
      "Whe possifity. Sir Troy the\n",
      "    times shall for thou are before the wing, and trible.\n",
      "\n",
      "    So head to  \n",
      "\n",
      "3m 24s (600 30%) 1.2941\n",
      "Whe done to strange the sert.\n",
      "  WILLIAM\n",
      "SHAMPHALLEMPLE. There sours. What\n",
      "    Than to had be so now an \n",
      "\n",
      "3m 58s (700 35%) 1.2742\n",
      "When me in heaven be and easy man he shall nature born.\n",
      "    She spurning was not says slepper of my sl \n",
      "\n",
      "4m 32s (800 40%) 1.3175\n",
      "Wher life,\n",
      "    For the triumph's worth will further eyes a praise of men.\n",
      "    What did be enough?\n",
      "     \n",
      "\n",
      "5m 6s (900 45%) 1.3422\n",
      "Where cross'st behold them, proceed,\n",
      "    None envil'd you lies are to be will forgot,\n",
      "    Where he hat \n",
      "\n",
      "5m 40s (1000 50%) 1.3444\n",
      "What, he shall smother me.\n",
      "  Hor. When say his roar'd in Horatio. Pray you will make blants,\n",
      "    You s \n",
      "\n",
      "6m 14s (1100 55%) 1.3198\n",
      "Which a bitter that thou died\n",
      "    And all this time how him with thee that I have not so\n",
      "    be all tw \n",
      "\n",
      "6m 48s (1200 60%) 1.3635\n",
      "Whece\n",
      "    Most more standon, if he foul for all the sight,\n",
      "    To truy he stays dear. Her formise of a \n",
      "\n",
      "7m 22s (1300 65%) 1.3273\n",
      "Where it is the violent,\n",
      "    My poor kill'd that hath then that then in thy father carry\n",
      "    Where i t \n",
      "\n",
      "7m 56s (1400 70%) 1.2818\n",
      "Wht, Master Off?\n",
      "  FIRST LORD. O, I, faves us where? SC was not cold tongue;\n",
      "    So fear in her, sir,  \n",
      "\n",
      "8m 30s (1500 75%) 1.2971\n",
      "Where have deserved and out of two\n",
      "    first again? I prate come out of scorn'd in this Sausina.\n",
      "    T \n",
      "\n",
      "9m 4s (1600 80%) 1.3245\n",
      "Where this desires a king. But not thou wilt stay\n",
      "    Give them her tongue babe the name men.'\n",
      "    And \n",
      "\n",
      "9m 38s (1700 85%) 1.2724\n",
      "Where were proveen to be the work.\n",
      "    For their conscience of her better a matrease,\n",
      "    In enjoyter  \n",
      "\n",
      "10m 12s (1800 90%) 1.3308\n",
      "Where play i' th' gold,\n",
      "    Even that he should keep let hush'd of the law is their safety\n",
      "    How sha \n",
      "\n",
      "10m 46s (1900 95%) 1.3068\n",
      "When she labours would I cannot see persuak\n",
      "    such the timell nothing cut?\n",
      "  LEONDER. Look in all Bu \n",
      "\n",
      "11m 20s (2000 100%) 1.2442\n",
      "Where swear thou had he scrung Prince Pisan\n",
      "\n",
      "                       [Read, and of Mictory,\n",
      "    That sh \n",
      "\n"
     ]
    }
   ],
   "source": [
    "n_epochs = 2000\n",
    "print_every = 100\n",
    "plot_every = 10\n",
    "\n",
    "\n",
    "start = time.time()\n",
    "all_losses = []\n",
    "loss_avg = 0\n",
    "\n",
    "for epoch in range(1, n_epochs + 1):\n",
    "    loss = train(*random_training_set(chunk_len, batch_size, file))       \n",
    "    loss_avg += loss\n",
    "\n",
    "    if epoch % print_every == 0:\n",
    "        print('%s (%d %d%%) %.4f' % (time_since(start), epoch, epoch / n_epochs * 100, loss))\n",
    "        print(generate(model, 'Wh', 100), '\\n')\n",
    "\n",
    "    if epoch % plot_every == 0:\n",
    "        all_losses.append(loss_avg / plot_every)\n",
    "        loss_avg = 0"
   ]
  },
  {
   "cell_type": "code",
   "execution_count": 26,
   "metadata": {
    "colab": {
     "base_uri": "https://localhost:8080/",
     "height": 282
    },
    "colab_type": "code",
    "executionInfo": {
     "elapsed": 1980,
     "status": "ok",
     "timestamp": 1590419102953,
     "user": {
      "displayName": "Daniel Cuiñas Vázquez",
      "photoUrl": "",
      "userId": "11552885780691803973"
     },
     "user_tz": -120
    },
    "id": "ggBhT9uv0BcO",
    "outputId": "c20c7662-17b4-444d-bf92-e9b90dae98c3"
   },
   "outputs": [
    {
     "data": {
      "text/plain": [
       "[<matplotlib.lines.Line2D at 0x7fd130494f60>]"
      ]
     },
     "execution_count": 26,
     "metadata": {
      "tags": []
     },
     "output_type": "execute_result"
    },
    {
     "data": {
      "image/png": "[encoded data removed]",
      "text/plain": [
       "<Figure size 432x288 with 1 Axes>"
      ]
     },
     "metadata": {
      "needs_background": "light",
      "tags": []
     },
     "output_type": "display_data"
    }
   ],
   "source": [
    "import matplotlib.pyplot as plt\n",
    "import matplotlib.ticker as ticker\n",
    "\n",
    "plt.figure()\n",
    "plt.plot(all_losses)"
   ]
  },
  {
   "cell_type": "code",
   "execution_count": 27,
   "metadata": {
    "colab": {
     "base_uri": "https://localhost:8080/",
     "height": 1000
    },
    "colab_type": "code",
    "executionInfo": {
     "elapsed": 1545,
     "status": "ok",
     "timestamp": 1590419102954,
     "user": {
      "displayName": "Daniel Cuiñas Vázquez",
      "photoUrl": "",
      "userId": "11552885780691803973"
     },
     "user_tz": -120
    },
    "id": "_2OVOND0pVmI",
    "outputId": "daa04bd0-41b9-419c-c68b-7330797923a3"
   },
   "outputs": [
    {
     "data": {
      "text/plain": [
       "[3.451211639404297,\n",
       " 2.6565270233154292,\n",
       " 2.340855194091797,\n",
       " 2.1877010040283205,\n",
       " 2.081510055541992,\n",
       " 1.9775684204101567,\n",
       " 1.9300117187499997,\n",
       " 1.8431220092773433,\n",
       " 1.8161417236328128,\n",
       " 1.7665685729980471,\n",
       " 1.739521499633789,\n",
       " 1.7084078826904296,\n",
       " 1.668901580810547,\n",
       " 1.6470437164306642,\n",
       " 1.6257487182617187,\n",
       " 1.6030997161865237,\n",
       " 1.5961676483154297,\n",
       " 1.5713032989501952,\n",
       " 1.5575265350341794,\n",
       " 1.5198209838867187,\n",
       " 1.5245289916992184,\n",
       " 1.5155142669677732,\n",
       " 1.5103032379150392,\n",
       " 1.47675634765625,\n",
       " 1.4790421752929686,\n",
       " 1.4720307312011718,\n",
       " 1.4691592712402344,\n",
       " 1.4576027832031246,\n",
       " 1.4487079162597658,\n",
       " 1.4526519012451171,\n",
       " 1.4613454589843748,\n",
       " 1.4354214935302736,\n",
       " 1.4322088623046876,\n",
       " 1.4176626586914063,\n",
       " 1.439006362915039,\n",
       " 1.417789566040039,\n",
       " 1.420164306640625,\n",
       " 1.410012756347656,\n",
       " 1.4157041473388672,\n",
       " 1.3928342895507815,\n",
       " 1.3878683624267578,\n",
       " 1.3816539001464843,\n",
       " 1.3849233856201173,\n",
       " 1.3798448944091797,\n",
       " 1.372448715209961,\n",
       " 1.372226593017578,\n",
       " 1.3844587707519531,\n",
       " 1.384092071533203,\n",
       " 1.387095947265625,\n",
       " 1.3851951904296875,\n",
       " 1.3595636291503905,\n",
       " 1.3657920989990238,\n",
       " 1.3816643981933594,\n",
       " 1.361896270751953,\n",
       " 1.3638028259277344,\n",
       " 1.3569829559326174,\n",
       " 1.3861074676513672,\n",
       " 1.390767593383789,\n",
       " 1.3584836502075193,\n",
       " 1.3385162353515625,\n",
       " 1.3661055145263672,\n",
       " 1.3413759155273437,\n",
       " 1.3601087951660158,\n",
       " 1.3335931549072266,\n",
       " 1.3263096466064455,\n",
       " 1.3654406280517577,\n",
       " 1.367417495727539,\n",
       " 1.3303038101196287,\n",
       " 1.3414923095703126,\n",
       " 1.3360155639648437,\n",
       " 1.3593535614013672,\n",
       " 1.3384202423095704,\n",
       " 1.324121368408203,\n",
       " 1.331981887817383,\n",
       " 1.3312093887329102,\n",
       " 1.3197387390136721,\n",
       " 1.3168878250122071,\n",
       " 1.3225699844360352,\n",
       " 1.3146903381347657,\n",
       " 1.3316336822509767,\n",
       " 1.323435371398926,\n",
       " 1.3355103912353514,\n",
       " 1.3240506286621092,\n",
       " 1.3089757690429689,\n",
       " 1.335624137878418,\n",
       " 1.3032471694946288,\n",
       " 1.3315481414794923,\n",
       " 1.3226780776977538,\n",
       " 1.321060577392578,\n",
       " 1.3399224853515626,\n",
       " 1.3240023422241212,\n",
       " 1.3268715362548826,\n",
       " 1.3254401779174807,\n",
       " 1.3206891784667967,\n",
       " 1.3157654876708984,\n",
       " 1.3202727813720705,\n",
       " 1.2956770935058592,\n",
       " 1.323072074890137,\n",
       " 1.3028684539794924,\n",
       " 1.3157597656250002,\n",
       " 1.3111679077148437,\n",
       " 1.3059900054931641,\n",
       " 1.3064577331542968,\n",
       " 1.2964450988769531,\n",
       " 1.315404441833496,\n",
       " 1.3192012481689452,\n",
       " 1.2959312591552736,\n",
       " 1.3062314987182617,\n",
       " 1.3106436462402344,\n",
       " 1.3088373641967774,\n",
       " 1.319516944885254,\n",
       " 1.3045536499023438,\n",
       " 1.293277114868164,\n",
       " 1.2990952301025391,\n",
       " 1.3043643341064453,\n",
       " 1.2867979965209961,\n",
       " 1.3086918716430664,\n",
       " 1.315440963745117,\n",
       " 1.2971398696899414,\n",
       " 1.2972417678833008,\n",
       " 1.311786849975586,\n",
       " 1.2876210556030272,\n",
       " 1.3135192031860352,\n",
       " 1.2975137176513674,\n",
       " 1.2842372894287108,\n",
       " 1.2953826370239259,\n",
       " 1.2899863815307617,\n",
       " 1.3004208221435547,\n",
       " 1.2791990585327149,\n",
       " 1.2816164932250977,\n",
       " 1.3048488922119141,\n",
       " 1.2842559967041016,\n",
       " 1.2691275634765626,\n",
       " 1.304226692199707,\n",
       " 1.3010310897827149,\n",
       " 1.3073832168579103,\n",
       " 1.2897459335327148,\n",
       " 1.294780960083008,\n",
       " 1.2797015075683595,\n",
       " 1.2868074493408201,\n",
       " 1.30200740814209,\n",
       " 1.3183084106445313,\n",
       " 1.2898570251464843,\n",
       " 1.2802772293090818,\n",
       " 1.294172172546387,\n",
       " 1.3037920532226561,\n",
       " 1.3008602294921876,\n",
       " 1.3087158050537109,\n",
       " 1.2859449310302735,\n",
       " 1.2873330154418945,\n",
       " 1.290446792602539,\n",
       " 1.2922340316772458,\n",
       " 1.3028076553344725,\n",
       " 1.2883667449951173,\n",
       " 1.3025820770263672,\n",
       " 1.278780616760254,\n",
       " 1.2763341445922853,\n",
       " 1.278781021118164,\n",
       " 1.2957376632690427,\n",
       " 1.2972853927612304,\n",
       " 1.2771742935180666,\n",
       " 1.289057777404785,\n",
       " 1.2811170730590822,\n",
       " 1.2957339248657227,\n",
       " 1.2973026428222656,\n",
       " 1.2995583801269532,\n",
       " 1.275614585876465,\n",
       " 1.2931288528442384,\n",
       " 1.2973199462890626,\n",
       " 1.2953664398193356,\n",
       " 1.3024148712158206,\n",
       " 1.3048387756347657,\n",
       " 1.2939831542968752,\n",
       " 1.2701323547363284,\n",
       " 1.300867866516113,\n",
       " 1.295140449523926,\n",
       " 1.3005490036010743,\n",
       " 1.2883678741455078,\n",
       " 1.2794113769531252,\n",
       " 1.2977767105102538,\n",
       " 1.309203025817871,\n",
       " 1.3021233444213869,\n",
       " 1.2658673934936522,\n",
       " 1.29479402923584,\n",
       " 1.2995245895385743,\n",
       " 1.309416374206543,\n",
       " 1.2932902755737306,\n",
       " 1.2771994781494143,\n",
       " 1.294998863220215,\n",
       " 1.2803373641967772,\n",
       " 1.2861581649780274,\n",
       " 1.305314300537109,\n",
       " 1.2909753341674806,\n",
       " 1.288991111755371,\n",
       " 1.291055122375488,\n",
       " 1.2945123443603517,\n",
       " 1.2862449493408203,\n",
       " 1.276002426147461,\n",
       " 1.2686656723022458,\n",
       " 1.2799935379028322]"
      ]
     },
     "execution_count": 27,
     "metadata": {
      "tags": []
     },
     "output_type": "execute_result"
    }
   ],
   "source": [
    "all_losses"
   ]
  },
  {
   "cell_type": "code",
   "execution_count": 40,
   "metadata": {
    "colab": {
     "base_uri": "https://localhost:8080/",
     "height": 102
    },
    "colab_type": "code",
    "executionInfo": {
     "elapsed": 1614,
     "status": "ok",
     "timestamp": 1590419327796,
     "user": {
      "displayName": "Daniel Cuiñas Vázquez",
      "photoUrl": "",
      "userId": "11552885780691803973"
     },
     "user_tz": -120
    },
    "id": "HbpQjiz6hIHm",
    "outputId": "42c9dcf2-3143-4813-9e2f-2db030bef767"
   },
   "outputs": [
    {
     "name": "stdout",
     "output_type": "stream",
     "text": [
      "PROJECT GUTENBERG ETEXT OF ILLINOS SENERCTIUS\n",
      "                                     Enter SERVANT\n",
      "\n",
      "  Hor. A will s \n",
      "\n"
     ]
    }
   ],
   "source": [
    "i='PROJECT GUTEN'\n",
    "print(generate(model, i, 100), '\\n')"
   ]
  },
  {
   "cell_type": "code",
   "execution_count": 0,
   "metadata": {
    "colab": {},
    "colab_type": "code",
    "id": "X3EF1DW7kUg5"
   },
   "outputs": [],
   "source": []
  }
 ],
 "metadata": {
  "accelerator": "GPU",
  "colab": {
   "authorship_tag": "ABX9TyOqpQCtzIyR+RI6OThTLkHB",
   "collapsed_sections": [],
   "name": "random_with_batchsize_one_by_one.ipynb",
   "provenance": []
  },
  "kernelspec": {
   "display_name": "Python 3",
   "language": "python",
   "name": "python3"
  },
  "language_info": {
   "codemirror_mode": {
    "name": "ipython",
    "version": 3
   },
   "file_extension": ".py",
   "mimetype": "text/x-python",
   "name": "python",
   "nbconvert_exporter": "python",
   "pygments_lexer": "ipython3",
   "version": "3.7.4"
  }
 },
 "nbformat": 4,
 "nbformat_minor": 1
}
