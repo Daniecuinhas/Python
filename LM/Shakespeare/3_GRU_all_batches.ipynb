{
 "cells": [
  {
   "cell_type": "code",
   "execution_count": 0,
   "metadata": {
    "colab": {},
    "colab_type": "code",
    "id": "-IT_0A3DgLf8"
   },
   "outputs": [],
   "source": [
    "import os\n",
    "from io import open\n",
    "import torch\n",
    "\n",
    "class Dictionary(object):\n",
    "    def __init__(self):\n",
    "        self.word2idx = {}\n",
    "        self.idx2word = []\n",
    "\n",
    "    def add_word(self, word):\n",
    "        if word not in self.word2idx:\n",
    "            self.idx2word.append(word)\n",
    "            self.word2idx[word] = len(self.idx2word) - 1\n",
    "        return self.word2idx[word]\n",
    "\n",
    "    def __len__(self):\n",
    "        return len(self.idx2word)\n",
    "\n",
    "\n",
    "class Corpus(object):\n",
    "    def __init__(self, path):\n",
    "        self.dictionary = Dictionary()\n",
    "        self.train = self.tokenize(os.path.join(path, 'shakespeare.txt'))\n",
    "\n",
    "    def tokenize(self, path):\n",
    "        \"\"\"Tokenizes a text file.\"\"\"\n",
    "        assert os.path.exists(path)\n",
    "        # Add words to the dictionary\n",
    "        with open(path, 'r', encoding=\"utf8\") as f:\n",
    "            for line in f:\n",
    "                for word in line:\n",
    "                    self.dictionary.add_word(word)\n",
    "\n",
    "        # Tokenize file content\n",
    "        with open(path, 'r', encoding=\"utf8\") as f:\n",
    "            idss = []\n",
    "            for line in f:\n",
    "                ids = []\n",
    "                for word in line:\n",
    "                    ids.append(self.dictionary.word2idx[word])\n",
    "                idss.append(torch.tensor(ids).type(torch.int64))\n",
    "            ids = torch.cat(idss)\n",
    "\n",
    "        return ids"
   ]
  },
  {
   "cell_type": "code",
   "execution_count": 0,
   "metadata": {
    "colab": {},
    "colab_type": "code",
    "id": "Z6uoPl_ogcqx"
   },
   "outputs": [],
   "source": [
    "path = 'data/'"
   ]
  },
  {
   "cell_type": "code",
   "execution_count": 0,
   "metadata": {
    "colab": {},
    "colab_type": "code",
    "id": "1Lxfhg0dggQV"
   },
   "outputs": [],
   "source": [
    "corpus = Corpus(path)"
   ]
  },
  {
   "cell_type": "code",
   "execution_count": 0,
   "metadata": {
    "colab": {},
    "colab_type": "code",
    "id": "D7hxRXWBgjqR"
   },
   "outputs": [],
   "source": [
    "def batchify(data, bsz):\n",
    "    # Work out how cleanly we can divide the dataset into bsz parts.\n",
    "    nbatch = data.size(0) // bsz\n",
    "    # Trim off any extra elements that wouldn't cleanly fit (remainders).\n",
    "    data = data.narrow(0, 0, nbatch * bsz)\n",
    "    # Evenly divide the data across the bsz batches.\n",
    "    data = data.view(bsz, -1).t().contiguous()\n",
    "    return data.to(device)\n",
    "\n",
    "def get_batch(source, i):\n",
    "    seq_len = min(bptt, len(source) - 1 - i)\n",
    "    data = source[i:i+seq_len]\n",
    "    target = source[i+1:i+1+seq_len]#.view(-1)\n",
    "    return data, target\n"
   ]
  },
  {
   "cell_type": "code",
   "execution_count": 0,
   "metadata": {
    "colab": {},
    "colab_type": "code",
    "id": "8J9LfWOhgnRL"
   },
   "outputs": [],
   "source": [
    "import math\n",
    "import torch\n",
    "import torch.nn as nn\n",
    "import torch.nn.functional as F\n",
    "from torch.autograd import Variable\n",
    "\n",
    "class RNN(nn.Module):\n",
    "    def __init__(self, input_size, emb_size, hidden_size, n_layers, dropout):\n",
    "        super(RNN, self).__init__()\n",
    "        self.input_size = input_size\n",
    "        self.emb_size = emb_size\n",
    "        self.hidden_size = hidden_size\n",
    "        self.n_layers = n_layers\n",
    "        \n",
    "        self.embedding = nn.Embedding(input_size, emb_size)\n",
    "        self.gru = nn.GRU(emb_size, hidden_size, n_layers)\n",
    "        self.fc = nn.Linear(hidden_size, input_size)\n",
    "        self.drop = nn.Dropout(dropout)\n",
    "    \n",
    "    def forward(self, inputs, hidden):\n",
    "\n",
    "        #inputs = [batch size]\n",
    "\n",
    "        encoded = self.drop(self.embedding(inputs))\n",
    "\n",
    "        #encoded = [batch size, emb dim]\n",
    "\n",
    "        encoded = encoded.unsqueeze(0)\n",
    "\n",
    "        #encoded = [1, batch size, emb dim]\n",
    "\n",
    "        output, hidden = self.gru(encoded, hidden)\n",
    "\n",
    "        #output = [1, batch size, hid dim * num directions]\n",
    "        #hidden = [n layers * num directions, batch size, hid dim]\n",
    "\n",
    "        output = self.fc(output)\n",
    "\n",
    "        #output = [1, batch size, input size]\n",
    "\n",
    "        output = output.view(-1, self.input_size)\n",
    "\n",
    "        #output = [1*batch size, input size]\n",
    "\n",
    "        return output, hidden\n",
    "        \n",
    "    def init_hidden(self, batch_size):\n",
    "\n",
    "        return Variable(torch.zeros(self.n_layers, batch_size, self.hidden_size))"
   ]
  },
  {
   "cell_type": "code",
   "execution_count": 0,
   "metadata": {
    "colab": {},
    "colab_type": "code",
    "id": "BXaIgXFAgq3l"
   },
   "outputs": [],
   "source": [
    "n_characters  = len(corpus.dictionary)\n",
    "hidden_size = 256\n",
    "emb_size = 128\n",
    "n_layers = 2\n",
    "lr = 0.005\n",
    "dropout = 0.3\n",
    "\n",
    "model = RNN(n_characters, emb_size, hidden_size, n_layers, dropout)"
   ]
  },
  {
   "cell_type": "code",
   "execution_count": 8,
   "metadata": {
    "colab": {
     "base_uri": "https://localhost:8080/",
     "height": 34
    },
    "colab_type": "code",
    "executionInfo": {
     "elapsed": 5140,
     "status": "ok",
     "timestamp": 1590419495540,
     "user": {
      "displayName": "Daniel Cuiñas Vázquez",
      "photoUrl": "",
      "userId": "11552885780691803973"
     },
     "user_tz": -120
    },
    "id": "tMY08CyDgtEJ",
    "outputId": "c6127597-ace0-4555-a9bf-41d79bfae8b3"
   },
   "outputs": [
    {
     "name": "stdout",
     "output_type": "stream",
     "text": [
      "The model has 726,620 trainable parameters\n"
     ]
    }
   ],
   "source": [
    "def count_parameters(model):\n",
    "    return sum(p.numel() for p in model.parameters() if p.requires_grad)\n",
    "\n",
    "print(f'The model has {count_parameters(model):,} trainable parameters')"
   ]
  },
  {
   "cell_type": "code",
   "execution_count": 9,
   "metadata": {
    "colab": {
     "base_uri": "https://localhost:8080/",
     "height": 34
    },
    "colab_type": "code",
    "executionInfo": {
     "elapsed": 5122,
     "status": "ok",
     "timestamp": 1590419495541,
     "user": {
      "displayName": "Daniel Cuiñas Vázquez",
      "photoUrl": "",
      "userId": "11552885780691803973"
     },
     "user_tz": -120
    },
    "id": "pr3D9RPOg1ug",
    "outputId": "91178fb0-23bb-4255-d072-3dcf66dcbc37"
   },
   "outputs": [
    {
     "name": "stdout",
     "output_type": "stream",
     "text": [
      "cuda\n"
     ]
    }
   ],
   "source": [
    "device = torch.device(\"cuda\" if torch.cuda.is_available() else \"cpu\")\n",
    "# device = 'cpu'\n",
    "print(device)"
   ]
  },
  {
   "cell_type": "code",
   "execution_count": 0,
   "metadata": {
    "colab": {},
    "colab_type": "code",
    "id": "Vq3tKxTJiE-e"
   },
   "outputs": [],
   "source": [
    "import torch.optim as optim\n",
    "\n",
    "\n",
    "criterion = nn.CrossEntropyLoss()\n",
    "optimizer = torch.optim.Adam(model.parameters(), lr=lr)\n"
   ]
  },
  {
   "cell_type": "code",
   "execution_count": 0,
   "metadata": {
    "colab": {},
    "colab_type": "code",
    "id": "Au-hPiLfiHR8"
   },
   "outputs": [],
   "source": [
    "model=model.to(device)\n",
    "criterion=criterion.to(device)"
   ]
  },
  {
   "cell_type": "code",
   "execution_count": 0,
   "metadata": {
    "colab": {},
    "colab_type": "code",
    "id": "2G9U8S_qiJSN"
   },
   "outputs": [],
   "source": [
    "batch_size = 50\n",
    "bptt = 200\n",
    "\n",
    "train_loader = batchify(corpus.train, batch_size)\n"
   ]
  },
  {
   "cell_type": "code",
   "execution_count": 0,
   "metadata": {
    "colab": {},
    "colab_type": "code",
    "id": "QPstSpF2qXxT"
   },
   "outputs": [],
   "source": [
    "def generate(model, input_str='A', predict_len=100, temperature=0.8):\n",
    "    input_list = [corpus.dictionary.word2idx[l] for l in input_str]\n",
    "    prime_input = torch.tensor(input_list, dtype=torch.long)\n",
    "    prime_input = Variable(prime_input.unsqueeze(1))\n",
    "    hidden = model.init_hidden(1)\n",
    "\n",
    "    predicted = input_str\n",
    "\n",
    "    hidden = hidden.to(device)\n",
    "    prime_input = prime_input.to(device)\n",
    "    # Use priming string to \"build up\" hidden state\n",
    "    for p in range(len(input_str)):\n",
    "        _, hidden = model(prime_input[p], hidden)\n",
    "        \n",
    "    inp = prime_input[-1]\n",
    "    inp = inp.to(device)\n",
    "    for p in range(predict_len):\n",
    "        output, hidden = model(inp, hidden)\n",
    "        \n",
    "        # Sample from the network as a multinomial distribution\n",
    "        output_dist = output.data.view(-1).div(temperature).exp()\n",
    "        top_i = torch.multinomial(output_dist, 1)[0]\n",
    "\n",
    "        # Add predicted character to string and use as next input\n",
    "        predicted_char = corpus.dictionary.idx2word[top_i]\n",
    "        predicted += predicted_char\n",
    "        \n",
    "        inp = Variable(torch.tensor(corpus.dictionary.word2idx[predicted_char], dtype=torch.long).unsqueeze(0))\n",
    "        inp = inp.to(device)\n",
    "    return predicted"
   ]
  },
  {
   "cell_type": "code",
   "execution_count": 0,
   "metadata": {
    "colab": {},
    "colab_type": "code",
    "id": "--KxzH8TiNO9"
   },
   "outputs": [],
   "source": [
    "def train(model, iterator, criterion):\n",
    "    clip = 0.25\n",
    "\n",
    "    model.train()\n",
    "    \n",
    "    hidden = model.init_hidden(batch_size)\n",
    "    hidden = hidden.to(device)\n",
    "    \n",
    "    # all_loss = []\n",
    "\n",
    "    for batch, i in enumerate(range(0, iterator.size(0) - 1, bptt)):\n",
    "        loss = 0\n",
    "        data, targets = get_batch(iterator, i)\n",
    "\n",
    "        seq_len_batched = data.shape[0]\n",
    "\n",
    "        model.zero_grad()\n",
    "\n",
    "        hidden = hidden.detach()\n",
    "        \n",
    "\n",
    "        for c in range(seq_len_batched):\n",
    "            output, hidden = model(data[c], hidden)\n",
    "            loss += criterion(output, targets[c])\n",
    "      \n",
    "        loss.backward()\n",
    "\n",
    "        optimizer.step()\n",
    "        \n",
    "        total_loss = loss.item()/seq_len_batched\n",
    "        \n",
    "        if batch % log_interval == 0 and batch > 0:\n",
    "            cur_loss = total_loss #/ log_interval\n",
    "            print('| epoch {:3d} | {:5d}/{:5d} batches | lr {:02.2f} | '\n",
    "                    'loss {:5.2f} | ppl {:8.2f}'.format(\n",
    "                epoch, batch, len(iterator) // bptt, lr,\n",
    "                cur_loss, math.exp(cur_loss)))\n",
    "            total_loss = 0\n",
    "            print(generate(model, 'Wh', 100), '\\n')\n",
    "\n",
    "        # if batch % plot_every == 0:\n",
    "        #     all_loss.append(total_loss)\n",
    "        # return all_loss\n"
   ]
  },
  {
   "cell_type": "code",
   "execution_count": 0,
   "metadata": {
    "colab": {},
    "colab_type": "code",
    "id": "9vL7VyZSiYsR"
   },
   "outputs": [],
   "source": [
    "import time\n",
    "\n",
    "def epoch_time(start_time, end_time):\n",
    "    elapsed_time = end_time - start_time\n",
    "    elapsed_mins = int(elapsed_time / 60)\n",
    "    elapsed_secs = int(elapsed_time - (elapsed_mins * 60))\n",
    "    return elapsed_mins, elapsed_secs"
   ]
  },
  {
   "cell_type": "code",
   "execution_count": 16,
   "metadata": {
    "colab": {
     "base_uri": "https://localhost:8080/",
     "height": 1000
    },
    "colab_type": "code",
    "executionInfo": {
     "elapsed": 756320,
     "status": "ok",
     "timestamp": 1590420246821,
     "user": {
      "displayName": "Daniel Cuiñas Vázquez",
      "photoUrl": "",
      "userId": "11552885780691803973"
     },
     "user_tz": -120
    },
    "id": "S17iowFfiach",
    "outputId": "59f73db7-a435-44fa-d063-e0c1e71ef9e7"
   },
   "outputs": [
    {
     "name": "stdout",
     "output_type": "stream",
     "text": [
      "| epoch   0 |   100/  546 batches | lr 0.01 | loss  1.73 | ppl     5.64\n",
      "Whow;\n",
      "    What reveres fay twat this bid the crut and that sman bited in yet dots\n",
      "     Geart it me mor \n",
      "\n",
      "| epoch   0 |   200/  546 batches | lr 0.01 | loss  1.50 | ppl     4.47\n",
      "Whip!\n",
      "  KING RAMINE. Speel thee, the will for they surm'd forside of great\n",
      "    Shall same of a power o \n",
      "\n",
      "| epoch   0 |   300/  546 batches | lr 0.01 | loss  1.44 | ppl     4.22\n",
      "Who;\n",
      "    And he day all thou duty your blatter of you\n",
      "    a blusadd dills, world for which a Graces;\n",
      "  \n",
      "\n",
      "| epoch   0 |   400/  546 batches | lr 0.01 | loss  1.39 | ppl     4.01\n",
      "Whese.\n",
      "  TOLUSTIAN. Ay, a must; sir.                                                                   \n",
      "\n",
      "| epoch   0 |   500/  546 batches | lr 0.01 | loss  1.30 | ppl     3.68\n",
      "Wha.\n",
      "  BOYTTRIBUMERIA. Why, I do have so out others.\n",
      "  GUIECER. Well, go no may to be well to thee.\n",
      "   \n",
      "\n",
      "Epoch: 01 | Epoch Time: 3m 7s\n",
      "| epoch   1 |   100/  546 batches | lr 0.01 | loss  1.39 | ppl     4.02\n",
      "Whalt?\n",
      "  ROSALIND. One hold me both?\n",
      "  PISANIA. And send you may you with your heads\n",
      "    To sea thine  \n",
      "\n",
      "| epoch   1 |   200/  546 batches | lr 0.01 | loss  1.26 | ppl     3.53\n",
      "Whw\n",
      "    Your concle child blush'd with brother? Lord,\n",
      "    And that have cleate it will be sword her on \n",
      "\n",
      "| epoch   1 |   300/  546 batches | lr 0.01 | loss  1.32 | ppl     3.73\n",
      "Where\n",
      "            my name, if wheel is such ask me,\n",
      "    And in while of strength and port to him.\n",
      "  Wi \n",
      "\n",
      "| epoch   1 |   400/  546 batches | lr 0.01 | loss  1.30 | ppl     3.68\n",
      "Wh:), AY\n",
      "Come, Masters, MaRY, PETER, dRAGDIUS, AND WARHICE CHARLES. You may have gone\n",
      "    Marry, or th \n",
      "\n",
      "| epoch   1 |   500/  546 batches | lr 0.01 | loss  1.23 | ppl     3.41\n",
      "Who!\n",
      "  BALBANDUS. If justices (death, I am did the maide.\n",
      "                                             \n",
      "\n",
      "Epoch: 02 | Epoch Time: 3m 6s\n",
      "| epoch   2 |   100/  546 batches | lr 0.01 | loss  1.34 | ppl     3.84\n",
      "Why jestors\n",
      "    To jerry this ordingrate the point.\n",
      "  WIDOW. To my hearish and same my man; behold'st  \n",
      "\n",
      "| epoch   2 |   200/  546 batches | lr 0.01 | loss  1.22 | ppl     3.39\n",
      "What\n",
      "\n",
      "  Leart that slead and narrowed in land, that was lose\n",
      "    Unlessed colder, and profit him of th \n",
      "\n",
      "| epoch   2 |   300/  546 batches | lr 0.01 | loss  1.28 | ppl     3.60\n",
      "What's\n",
      "    gaze in an wings. And, sweet, so serve was the man off and sorrow.\n",
      "    And on't with anothe \n",
      "\n",
      "| epoch   2 |   400/  546 batches | lr 0.01 | loss  1.27 | ppl     3.56\n",
      "What should'd\n",
      "    So up such sea? One at thy dearest, love by the son,\n",
      "    You do not then seek in inc \n",
      "\n",
      "| epoch   2 |   500/  546 batches | lr 0.01 | loss  1.20 | ppl     3.33\n",
      "Whines,\n",
      "    And no more tending in a credita,\n",
      "     And not come to the Prince of Princess of this\n",
      "     \n",
      "\n",
      "Epoch: 03 | Epoch Time: 3m 6s\n",
      "| epoch   3 |   100/  546 batches | lr 0.01 | loss  1.32 | ppl     3.75\n",
      "What living\n",
      "    And boy and call'd and with their harty ashaple,\n",
      "    When his death done heaven will t \n",
      "\n",
      "| epoch   3 |   200/  546 batches | lr 0.01 | loss  1.21 | ppl     3.36\n",
      "Where\n",
      "    yet I three attend for his hand as not\n",
      "    all and of the slaves of till chooses of heaven d \n",
      "\n",
      "| epoch   3 |   300/  546 batches | lr 0.01 | loss  1.28 | ppl     3.58\n",
      "Whrews\n",
      "    That now was not blacks and Ancidna,\n",
      "    As the country's advantage fire the Briton,\n",
      "       \n",
      "\n",
      "| epoch   3 |   400/  546 batches | lr 0.01 | loss  1.26 | ppl     3.54\n",
      "Where that prame\n",
      "  Oul after withiniade a chrick of Polixion's things constants,\n",
      "stand my accus'd toge \n",
      "\n",
      "| epoch   3 |   500/  546 batches | lr 0.01 | loss  1.20 | ppl     3.32\n",
      "Whom\n",
      "    When then they will the voyath three of the means. Should not fear,\n",
      "    And so some greaded?\n",
      " \n",
      "\n",
      "Epoch: 04 | Epoch Time: 3m 7s\n"
     ]
    }
   ],
   "source": [
    "N_EPOCHS = 4\n",
    "\n",
    "best_valid_loss = float('inf')\n",
    "counter = 0\n",
    "patience = 2\n",
    "log_interval = 100\n",
    "plot_every = 10\n",
    "all_loses = []\n",
    "for epoch in range(N_EPOCHS):\n",
    "\n",
    "    start_time = time.time()\n",
    "    \n",
    "    train(model, train_loader, criterion)\n",
    "    \n",
    "    end_time = time.time()\n",
    "\n",
    "    epoch_mins, epoch_secs = epoch_time(start_time, end_time)\n",
    "\n",
    "    print(f'Epoch: {epoch+1:02} | Epoch Time: {epoch_mins}m {epoch_secs}s')\n"
   ]
  },
  {
   "cell_type": "code",
   "execution_count": 0,
   "metadata": {
    "colab": {},
    "colab_type": "code",
    "id": "pdjl31gLLerW"
   },
   "outputs": [],
   "source": [
    "def generate(model, input_str='A', predict_len=100, temperature=0.8):\n",
    "    input_list = [corpus.dictionary.word2idx[l] for l in input_str]\n",
    "    prime_input = torch.tensor(input_list, dtype=torch.long)\n",
    "    prime_input = Variable(prime_input.unsqueeze(1))\n",
    "    hidden = model.init_hidden(1)\n",
    "\n",
    "    predicted = input_str\n",
    "\n",
    "    hidden = hidden.to(device)\n",
    "    prime_input = prime_input.to(device)\n",
    "    # Use priming string to \"build up\" hidden state\n",
    "    for p in range(len(input_str)):\n",
    "        _, hidden = model(prime_input[p], hidden)\n",
    "        \n",
    "    inp = prime_input[-1]\n",
    "    inp = inp.to(device)\n",
    "    for p in range(predict_len):\n",
    "        output, hidden = model(inp, hidden)\n",
    "        \n",
    "        # Sample from the network as a multinomial distribution\n",
    "        output_dist = output.data.view(-1).div(temperature).exp()\n",
    "        top_i = torch.multinomial(output_dist, 1)[0]\n",
    "\n",
    "        # Add predicted character to string and use as next input\n",
    "        predicted_char = corpus.dictionary.idx2word[top_i]\n",
    "        predicted += predicted_char\n",
    "        \n",
    "        inp = Variable(torch.tensor(corpus.dictionary.word2idx[predicted_char], dtype=torch.long).unsqueeze(0))\n",
    "        inp = inp.to(device)\n",
    "    return predicted"
   ]
  },
  {
   "cell_type": "code",
   "execution_count": 53,
   "metadata": {
    "colab": {
     "base_uri": "https://localhost:8080/",
     "height": 85
    },
    "colab_type": "code",
    "executionInfo": {
     "elapsed": 1003,
     "status": "ok",
     "timestamp": 1590420661383,
     "user": {
      "displayName": "Daniel Cuiñas Vázquez",
      "photoUrl": "",
      "userId": "11552885780691803973"
     },
     "user_tz": -120
    },
    "id": "Q_EtlVcPLxFK",
    "outputId": "f80efa20-6589-44d9-b36f-b0f18f99de8c"
   },
   "outputs": [
    {
     "name": "stdout",
     "output_type": "stream",
     "text": [
      "PH70UMX.>>>>>>>>>>>>]>>7>`>>7]\n",
      "  THIRD DICHLETER. [Ashal to Iside] O, there is it on;\n",
      "    Dost meet.  \n",
      "\n"
     ]
    }
   ],
   "source": [
    "i='P'\n",
    "print(generate(model, i, 100), '\\n')"
   ]
  },
  {
   "cell_type": "code",
   "execution_count": 47,
   "metadata": {
    "colab": {
     "base_uri": "https://localhost:8080/",
     "height": 85
    },
    "colab_type": "code",
    "executionInfo": {
     "elapsed": 986,
     "status": "ok",
     "timestamp": 1590420625814,
     "user": {
      "displayName": "Daniel Cuiñas Vázquez",
      "photoUrl": "",
      "userId": "11552885780691803973"
     },
     "user_tz": -120
    },
    "id": "cjAVuJzdVQaA",
    "outputId": "8dba89f9-0a3b-4edc-cf24-f13c21b958ce"
   },
   "outputs": [
    {
     "name": "stdout",
     "output_type": "stream",
     "text": [
      "Who\n",
      "  Beneon. The King here is this welcome to bank an impoison.\n",
      "    Thy too course enought and yet hi \n",
      "\n"
     ]
    }
   ],
   "source": [
    "print(generate(model, 'Wh', 100), '\\n')"
   ]
  },
  {
   "cell_type": "code",
   "execution_count": 0,
   "metadata": {
    "colab": {},
    "colab_type": "code",
    "id": "zQQ3pInyV6zO"
   },
   "outputs": [],
   "source": []
  }
 ],
 "metadata": {
  "accelerator": "GPU",
  "colab": {
   "authorship_tag": "ABX9TyPkgHTZ0M0u9uDAS1bNoW0G",
   "collapsed_sections": [],
   "name": "all_batches_one_by_one.ipynb",
   "provenance": []
  },
  "kernelspec": {
   "display_name": "Python 3",
   "language": "python",
   "name": "python3"
  },
  "language_info": {
   "codemirror_mode": {
    "name": "ipython",
    "version": 3
   },
   "file_extension": ".py",
   "mimetype": "text/x-python",
   "name": "python",
   "nbconvert_exporter": "python",
   "pygments_lexer": "ipython3",
   "version": "3.7.4"
  }
 },
 "nbformat": 4,
 "nbformat_minor": 1
}
